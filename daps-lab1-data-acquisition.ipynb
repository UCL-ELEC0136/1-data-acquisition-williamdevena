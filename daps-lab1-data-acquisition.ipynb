{
 "cells": [
  {
   "cell_type": "markdown",
   "metadata": {
    "id": "jenv-YgSElT1"
   },
   "source": [
    "# Task 1: Small case scenario of dataset analysis"
   ]
  },
  {
   "cell_type": "markdown",
   "metadata": {
    "id": "pZ6YahZgAZvB"
   },
   "source": [
    "## 1.1 - Create a dataset (The Tate Collection)\n",
    "As a first example, we will create our own small dataset. In particular, the dataset will consist of 10 artists which are present in the Tate Collection along with the corresponding year of birth, year of death, biological gender and number of artworks.\n",
    "\n",
    "|          Name         | Gender |   Year_Birth  |   Year_Death  | N_works |\n",
    "|-----------------------|--------|---------------|---------------|---------|\n",
    "|     Beuys, Joseph     |  Male  |      1921\t |      1986     |   588   |\n",
    "|    Constable, John    |  Male  |      1776\t |      1837\t |   249   |\n",
    "|   Daniell, William    |  Male  |      1769\t |      1837\t |   612   |\n",
    "|   Forbes, Elizabeth   | Female |      1859\t |      1912\t |   120   |\n",
    "|     Flaxman, John     |  Male  |      1755\t |      1826\t |   287   |\n",
    "|    Phillips, Thomas   |  Male  |      1770\t |      1845\t |   274   |\n",
    "| Paolozzi, Sir Eduardo |  Male  |      1924\t |      2005\t |   385   |\n",
    "|     Schendel, Mira    | Female |      1919\t |      1988\t |    3    |\n",
    "|    Turner, William    |  Male  |      1775\t |      1851\t |  1861   |\n",
    "|      Warhol, Andy     |  Male  |      1928\t |      1987\t |   272   |\n"
   ]
  },
  {
   "cell_type": "markdown",
   "metadata": {
    "id": "TV1sgIOzAZvD"
   },
   "source": [
    "**_[TO DO]_**: Let's create a DataFrame named **TateDataset** with the information showed in the above table.\n",
    "\n",
    "**Note:** You can create arrays for each column and then build the DataFrame.\n",
    "Remember to import the required libraries!"
   ]
  },
  {
   "cell_type": "code",
   "execution_count": 7,
   "metadata": {
    "cellView": "form",
    "executionInfo": {
     "elapsed": 428,
     "status": "ok",
     "timestamp": 1603899361329,
     "user": {
      "displayName": "Sephora Madjiheurem",
      "photoUrl": "https://lh3.googleusercontent.com/a-/AOh14GgieP2Hh5x42748iuuSEnAl8BYCWGSmOzJ-ypgSaQ=s64",
      "userId": "05055971560005673839"
     },
     "user_tz": 0
    },
    "id": "NxkzhjIGAZvF",
    "scrolled": false
   },
   "outputs": [],
   "source": [
    "# @title Imports\n",
    "import numpy as np\n",
    "import pandas as pd\n",
    "import matplotlib.pyplot as plt\n",
    "import xlsxwriter\n",
    "import datetime\n",
    "import wbdata as wb"
   ]
  },
  {
   "cell_type": "code",
   "execution_count": null,
   "metadata": {
    "scrolled": false
   },
   "outputs": [],
   "source": []
  },
  {
   "cell_type": "code",
   "execution_count": null,
   "metadata": {
    "scrolled": false
   },
   "outputs": [],
   "source": []
  },
  {
   "cell_type": "code",
   "execution_count": null,
   "metadata": {
    "scrolled": false
   },
   "outputs": [],
   "source": []
  },
  {
   "cell_type": "code",
   "execution_count": null,
   "metadata": {
    "scrolled": false
   },
   "outputs": [],
   "source": []
  },
  {
   "cell_type": "code",
   "execution_count": null,
   "metadata": {
    "scrolled": false
   },
   "outputs": [],
   "source": []
  },
  {
   "cell_type": "code",
   "execution_count": null,
   "metadata": {
    "scrolled": false
   },
   "outputs": [],
   "source": []
  },
  {
   "cell_type": "code",
   "execution_count": 2,
   "metadata": {
    "id": "FWsJFvTQB3hX",
    "scrolled": false
   },
   "outputs": [
    {
     "data": {
      "text/html": [
       "<div>\n",
       "<style scoped>\n",
       "    .dataframe tbody tr th:only-of-type {\n",
       "        vertical-align: middle;\n",
       "    }\n",
       "\n",
       "    .dataframe tbody tr th {\n",
       "        vertical-align: top;\n",
       "    }\n",
       "\n",
       "    .dataframe thead th {\n",
       "        text-align: right;\n",
       "    }\n",
       "</style>\n",
       "<table border=\"1\" class=\"dataframe\">\n",
       "  <thead>\n",
       "    <tr style=\"text-align: right;\">\n",
       "      <th></th>\n",
       "      <th>Name</th>\n",
       "      <th>Gender</th>\n",
       "      <th>Year_Birth</th>\n",
       "      <th>Year_Death</th>\n",
       "      <th>N_works</th>\n",
       "    </tr>\n",
       "  </thead>\n",
       "  <tbody>\n",
       "    <tr>\n",
       "      <th>0</th>\n",
       "      <td>Beuys Joseph</td>\n",
       "      <td>0</td>\n",
       "      <td>1921</td>\n",
       "      <td>1986</td>\n",
       "      <td>588</td>\n",
       "    </tr>\n",
       "    <tr>\n",
       "      <th>1</th>\n",
       "      <td>Constable John</td>\n",
       "      <td>0</td>\n",
       "      <td>1776</td>\n",
       "      <td>1837</td>\n",
       "      <td>249</td>\n",
       "    </tr>\n",
       "    <tr>\n",
       "      <th>2</th>\n",
       "      <td>Daniell William</td>\n",
       "      <td>0</td>\n",
       "      <td>1769</td>\n",
       "      <td>1837</td>\n",
       "      <td>612</td>\n",
       "    </tr>\n",
       "    <tr>\n",
       "      <th>3</th>\n",
       "      <td>Forbes Elizabeth</td>\n",
       "      <td>1</td>\n",
       "      <td>1859</td>\n",
       "      <td>1912</td>\n",
       "      <td>120</td>\n",
       "    </tr>\n",
       "    <tr>\n",
       "      <th>4</th>\n",
       "      <td>Flaxman John</td>\n",
       "      <td>0</td>\n",
       "      <td>1755</td>\n",
       "      <td>1826</td>\n",
       "      <td>287</td>\n",
       "    </tr>\n",
       "    <tr>\n",
       "      <th>5</th>\n",
       "      <td>Phillips Thomas</td>\n",
       "      <td>0</td>\n",
       "      <td>1770</td>\n",
       "      <td>1845</td>\n",
       "      <td>274</td>\n",
       "    </tr>\n",
       "    <tr>\n",
       "      <th>6</th>\n",
       "      <td>Paolozzi Sir Eduardo</td>\n",
       "      <td>0</td>\n",
       "      <td>1924</td>\n",
       "      <td>2005</td>\n",
       "      <td>385</td>\n",
       "    </tr>\n",
       "    <tr>\n",
       "      <th>7</th>\n",
       "      <td>Schendel Mira</td>\n",
       "      <td>1</td>\n",
       "      <td>1919</td>\n",
       "      <td>1988</td>\n",
       "      <td>3</td>\n",
       "    </tr>\n",
       "    <tr>\n",
       "      <th>8</th>\n",
       "      <td>Turner William</td>\n",
       "      <td>0</td>\n",
       "      <td>1775</td>\n",
       "      <td>1851</td>\n",
       "      <td>1861</td>\n",
       "    </tr>\n",
       "    <tr>\n",
       "      <th>9</th>\n",
       "      <td>Warhol Andy</td>\n",
       "      <td>0</td>\n",
       "      <td>1928</td>\n",
       "      <td>1987</td>\n",
       "      <td>272</td>\n",
       "    </tr>\n",
       "  </tbody>\n",
       "</table>\n",
       "</div>"
      ],
      "text/plain": [
       "                   Name  Gender  Year_Birth  Year_Death  N_works\n",
       "0          Beuys Joseph       0        1921        1986      588\n",
       "1        Constable John       0        1776        1837      249\n",
       "2       Daniell William       0        1769        1837      612\n",
       "3      Forbes Elizabeth       1        1859        1912      120\n",
       "4          Flaxman John       0        1755        1826      287\n",
       "5       Phillips Thomas       0        1770        1845      274\n",
       "6  Paolozzi Sir Eduardo       0        1924        2005      385\n",
       "7         Schendel Mira       1        1919        1988        3\n",
       "8        Turner William       0        1775        1851     1861\n",
       "9           Warhol Andy       0        1928        1987      272"
      ]
     },
     "execution_count": 2,
     "metadata": {},
     "output_type": "execute_result"
    }
   ],
   "source": [
    "### TODO\n",
    "tate_dataset = {'Name' : ['Beuys Joseph', 'Constable John', 'Daniell William', 'Forbes Elizabeth', 'Flaxman John', 'Phillips Thomas', 'Paolozzi Sir Eduardo', 'Schendel Mira', 'Turner William', 'Warhol Andy'],\n",
    "                'Gender' : [0,0,0,1,0,0,0,1,0,0],\n",
    "                'Year_Birth' : [1921, 1776, 1769, 1859, 1755, 1770, 1924, 1919, 1775, 1928],\n",
    "                'Year_Death' : [1986, 1837, 1837, 1912, 1826, 1845, 2005, 1988, 1851, 1987],\n",
    "                'N_works' : [588, 249, 612, 120, 287, 274, 385, 3, 1861, 272]\n",
    "               }\n",
    "\n",
    "#### MALE=0, FEMALE=1\n",
    "\n",
    "\n",
    "tatedataset = pd.DataFrame(data=tate_dataset)\n",
    "\n",
    "tatedataset\n"
   ]
  },
  {
   "cell_type": "markdown",
   "metadata": {
    "id": "0P3DpT-VAZvO"
   },
   "source": [
    "## 1.2 - Data Acquisition (local file)\n",
    "\n",
    "Data acquisition is a process of loading and reading data from various sources. We will learn how to export and read data from a local file in different format using  **Pandas** package. \n",
    "\n",
    "A file format is a standardised way in which information is encoded to be stored in a file. Some examples of file formats are: CSV, XLSX, and PKL. \n",
    "\n",
    "Let's practice with some examples.\n",
    "\n",
    "### .CSV - Comma Separated Values\n",
    "\n",
    "CSV is one of the most popular spreadsheet file format. In this kind of file, data is stored in cells. Each cell is organized in rows and columns. A column in the spreadsheet file can have different types. \n",
    "\n",
    "Let us look at how to create a CSV file. We can export a DataFrame with the Pandas function `to_csv()`. The file will be saved in the same location of this notebook unless specified otherwise. We can name the file **TateData.csv**.\n",
    "\n",
    "**Note:** Once you have run the following cell, check the output file ."
   ]
  },
  {
   "cell_type": "code",
   "execution_count": 3,
   "metadata": {
    "scrolled": false
   },
   "outputs": [
    {
     "data": {
      "text/plain": [
       "'/Users/william.devena/Desktop/UCL/COURSES/DAPS/1-data-acquisition-williamdevena'"
      ]
     },
     "execution_count": 3,
     "metadata": {},
     "output_type": "execute_result"
    }
   ],
   "source": [
    "%pwd"
   ]
  },
  {
   "cell_type": "code",
   "execution_count": 18,
   "metadata": {
    "id": "DcFThhwRAZvP",
    "scrolled": false
   },
   "outputs": [],
   "source": [
    "tatedataset.to_csv('tate_dataset.csv', index=False, header=True)"
   ]
  },
  {
   "cell_type": "markdown",
   "metadata": {
    "id": "54BZQJs8AZvU"
   },
   "source": [
    "To pull in the csv file, we will use the Pandas function `read_csv()`. We will import the previous file in a new DataFrame.\n",
    "\n",
    "**Note:**  Depending on where you save your notebooks, you may need to modify the location below."
   ]
  },
  {
   "cell_type": "code",
   "execution_count": 9,
   "metadata": {
    "id": "PcO3epU5AZvV",
    "scrolled": false
   },
   "outputs": [
    {
     "data": {
      "text/html": [
       "<div>\n",
       "<style scoped>\n",
       "    .dataframe tbody tr th:only-of-type {\n",
       "        vertical-align: middle;\n",
       "    }\n",
       "\n",
       "    .dataframe tbody tr th {\n",
       "        vertical-align: top;\n",
       "    }\n",
       "\n",
       "    .dataframe thead th {\n",
       "        text-align: right;\n",
       "    }\n",
       "</style>\n",
       "<table border=\"1\" class=\"dataframe\">\n",
       "  <thead>\n",
       "    <tr style=\"text-align: right;\">\n",
       "      <th></th>\n",
       "      <th>Name</th>\n",
       "      <th>Gender</th>\n",
       "      <th>Year_Birth</th>\n",
       "      <th>Year_Death</th>\n",
       "      <th>N_works</th>\n",
       "    </tr>\n",
       "  </thead>\n",
       "  <tbody>\n",
       "    <tr>\n",
       "      <th>0</th>\n",
       "      <td>Beuys Joseph</td>\n",
       "      <td>0</td>\n",
       "      <td>1921</td>\n",
       "      <td>1986</td>\n",
       "      <td>588</td>\n",
       "    </tr>\n",
       "    <tr>\n",
       "      <th>1</th>\n",
       "      <td>Constable John</td>\n",
       "      <td>0</td>\n",
       "      <td>1776</td>\n",
       "      <td>1837</td>\n",
       "      <td>249</td>\n",
       "    </tr>\n",
       "    <tr>\n",
       "      <th>2</th>\n",
       "      <td>Daniell William</td>\n",
       "      <td>0</td>\n",
       "      <td>1769</td>\n",
       "      <td>1837</td>\n",
       "      <td>612</td>\n",
       "    </tr>\n",
       "    <tr>\n",
       "      <th>3</th>\n",
       "      <td>Forbes Elizabeth</td>\n",
       "      <td>1</td>\n",
       "      <td>1859</td>\n",
       "      <td>1912</td>\n",
       "      <td>120</td>\n",
       "    </tr>\n",
       "    <tr>\n",
       "      <th>4</th>\n",
       "      <td>Flaxman John</td>\n",
       "      <td>0</td>\n",
       "      <td>1755</td>\n",
       "      <td>1826</td>\n",
       "      <td>287</td>\n",
       "    </tr>\n",
       "    <tr>\n",
       "      <th>5</th>\n",
       "      <td>Phillips Thomas</td>\n",
       "      <td>0</td>\n",
       "      <td>1770</td>\n",
       "      <td>1845</td>\n",
       "      <td>274</td>\n",
       "    </tr>\n",
       "    <tr>\n",
       "      <th>6</th>\n",
       "      <td>Paolozzi Sir Eduardo</td>\n",
       "      <td>0</td>\n",
       "      <td>1924</td>\n",
       "      <td>2005</td>\n",
       "      <td>385</td>\n",
       "    </tr>\n",
       "    <tr>\n",
       "      <th>7</th>\n",
       "      <td>Schendel Mira</td>\n",
       "      <td>1</td>\n",
       "      <td>1919</td>\n",
       "      <td>1988</td>\n",
       "      <td>3</td>\n",
       "    </tr>\n",
       "    <tr>\n",
       "      <th>8</th>\n",
       "      <td>Turner William</td>\n",
       "      <td>0</td>\n",
       "      <td>1775</td>\n",
       "      <td>1851</td>\n",
       "      <td>1861</td>\n",
       "    </tr>\n",
       "    <tr>\n",
       "      <th>9</th>\n",
       "      <td>Warhol Andy</td>\n",
       "      <td>0</td>\n",
       "      <td>1928</td>\n",
       "      <td>1987</td>\n",
       "      <td>272</td>\n",
       "    </tr>\n",
       "  </tbody>\n",
       "</table>\n",
       "</div>"
      ],
      "text/plain": [
       "                   Name  Gender  Year_Birth  Year_Death  N_works\n",
       "0          Beuys Joseph       0        1921        1986      588\n",
       "1        Constable John       0        1776        1837      249\n",
       "2       Daniell William       0        1769        1837      612\n",
       "3      Forbes Elizabeth       1        1859        1912      120\n",
       "4          Flaxman John       0        1755        1826      287\n",
       "5       Phillips Thomas       0        1770        1845      274\n",
       "6  Paolozzi Sir Eduardo       0        1924        2005      385\n",
       "7         Schendel Mira       1        1919        1988        3\n",
       "8        Turner William       0        1775        1851     1861\n",
       "9           Warhol Andy       0        1928        1987      272"
      ]
     },
     "execution_count": 9,
     "metadata": {},
     "output_type": "execute_result"
    }
   ],
   "source": [
    "tate_1 = pd.read_csv('tate_dataset.csv')\n",
    "tate_1"
   ]
  },
  {
   "cell_type": "markdown",
   "metadata": {
    "id": "1CmXNd9jAZva"
   },
   "source": [
    "When we create the .CSV file, the only parameter we have used is **index**. \n",
    "\n",
    "**[TO DO]** What happens if we set the *index* parameter to True? And if you set also the parameter **header** to False?\n",
    "Try by yourself. "
   ]
  },
  {
   "cell_type": "code",
   "execution_count": 10,
   "metadata": {
    "id": "egR7HZLaAZvb",
    "scrolled": false
   },
   "outputs": [],
   "source": [
    "### TODO\n",
    "tatedataset.to_csv('tate_dataset2.csv', index=True, header=False)"
   ]
  },
  {
   "cell_type": "code",
   "execution_count": 12,
   "metadata": {
    "scrolled": false
   },
   "outputs": [
    {
     "data": {
      "text/html": [
       "<div>\n",
       "<style scoped>\n",
       "    .dataframe tbody tr th:only-of-type {\n",
       "        vertical-align: middle;\n",
       "    }\n",
       "\n",
       "    .dataframe tbody tr th {\n",
       "        vertical-align: top;\n",
       "    }\n",
       "\n",
       "    .dataframe thead th {\n",
       "        text-align: right;\n",
       "    }\n",
       "</style>\n",
       "<table border=\"1\" class=\"dataframe\">\n",
       "  <thead>\n",
       "    <tr style=\"text-align: right;\">\n",
       "      <th></th>\n",
       "      <th>0</th>\n",
       "      <th>Beuys Joseph</th>\n",
       "      <th>0.1</th>\n",
       "      <th>1921</th>\n",
       "      <th>1986</th>\n",
       "      <th>588</th>\n",
       "    </tr>\n",
       "  </thead>\n",
       "  <tbody>\n",
       "    <tr>\n",
       "      <th>0</th>\n",
       "      <td>1</td>\n",
       "      <td>Constable John</td>\n",
       "      <td>0</td>\n",
       "      <td>1776</td>\n",
       "      <td>1837</td>\n",
       "      <td>249</td>\n",
       "    </tr>\n",
       "    <tr>\n",
       "      <th>1</th>\n",
       "      <td>2</td>\n",
       "      <td>Daniell William</td>\n",
       "      <td>0</td>\n",
       "      <td>1769</td>\n",
       "      <td>1837</td>\n",
       "      <td>612</td>\n",
       "    </tr>\n",
       "    <tr>\n",
       "      <th>2</th>\n",
       "      <td>3</td>\n",
       "      <td>Forbes Elizabeth</td>\n",
       "      <td>1</td>\n",
       "      <td>1859</td>\n",
       "      <td>1912</td>\n",
       "      <td>120</td>\n",
       "    </tr>\n",
       "    <tr>\n",
       "      <th>3</th>\n",
       "      <td>4</td>\n",
       "      <td>Flaxman John</td>\n",
       "      <td>0</td>\n",
       "      <td>1755</td>\n",
       "      <td>1826</td>\n",
       "      <td>287</td>\n",
       "    </tr>\n",
       "    <tr>\n",
       "      <th>4</th>\n",
       "      <td>5</td>\n",
       "      <td>Phillips Thomas</td>\n",
       "      <td>0</td>\n",
       "      <td>1770</td>\n",
       "      <td>1845</td>\n",
       "      <td>274</td>\n",
       "    </tr>\n",
       "    <tr>\n",
       "      <th>5</th>\n",
       "      <td>6</td>\n",
       "      <td>Paolozzi Sir Eduardo</td>\n",
       "      <td>0</td>\n",
       "      <td>1924</td>\n",
       "      <td>2005</td>\n",
       "      <td>385</td>\n",
       "    </tr>\n",
       "    <tr>\n",
       "      <th>6</th>\n",
       "      <td>7</td>\n",
       "      <td>Schendel Mira</td>\n",
       "      <td>1</td>\n",
       "      <td>1919</td>\n",
       "      <td>1988</td>\n",
       "      <td>3</td>\n",
       "    </tr>\n",
       "    <tr>\n",
       "      <th>7</th>\n",
       "      <td>8</td>\n",
       "      <td>Turner William</td>\n",
       "      <td>0</td>\n",
       "      <td>1775</td>\n",
       "      <td>1851</td>\n",
       "      <td>1861</td>\n",
       "    </tr>\n",
       "    <tr>\n",
       "      <th>8</th>\n",
       "      <td>9</td>\n",
       "      <td>Warhol Andy</td>\n",
       "      <td>0</td>\n",
       "      <td>1928</td>\n",
       "      <td>1987</td>\n",
       "      <td>272</td>\n",
       "    </tr>\n",
       "  </tbody>\n",
       "</table>\n",
       "</div>"
      ],
      "text/plain": [
       "   0          Beuys Joseph  0.1  1921  1986   588\n",
       "0  1        Constable John    0  1776  1837   249\n",
       "1  2       Daniell William    0  1769  1837   612\n",
       "2  3      Forbes Elizabeth    1  1859  1912   120\n",
       "3  4          Flaxman John    0  1755  1826   287\n",
       "4  5       Phillips Thomas    0  1770  1845   274\n",
       "5  6  Paolozzi Sir Eduardo    0  1924  2005   385\n",
       "6  7         Schendel Mira    1  1919  1988     3\n",
       "7  8        Turner William    0  1775  1851  1861\n",
       "8  9           Warhol Andy    0  1928  1987   272"
      ]
     },
     "execution_count": 12,
     "metadata": {},
     "output_type": "execute_result"
    }
   ],
   "source": [
    "tate_2 = pd.read_csv('tate_dataset2.csv')\n",
    "tate_2"
   ]
  },
  {
   "cell_type": "code",
   "execution_count": 14,
   "metadata": {
    "scrolled": false
   },
   "outputs": [],
   "source": [
    "%rm tate_dataset.csv tate_dataset2.csv"
   ]
  },
  {
   "cell_type": "markdown",
   "metadata": {
    "id": "0tHt7lPFAZvf"
   },
   "source": [
    "Delete the csv file now that we are done using it."
   ]
  },
  {
   "cell_type": "markdown",
   "metadata": {
    "id": "oQLf1Y_hAZvr"
   },
   "source": [
    "### pickle — Python object serialization\n",
    "\n",
    "This data format is Python-specific. This has the advantage that there are no restrictions imposed by external standards; however it means that non-Python programs may not be able to reconstruct pickled Python objects.\n",
    "\n"
   ]
  },
  {
   "cell_type": "code",
   "execution_count": 15,
   "metadata": {
    "id": "stKRPdBTAZvr",
    "scrolled": false
   },
   "outputs": [],
   "source": [
    "import pickle\n",
    "\n",
    "tatedataset.to_pickle('tate_dataset.pkl')\n"
   ]
  },
  {
   "cell_type": "code",
   "execution_count": 16,
   "metadata": {
    "id": "Rc7RsQeKAZvt",
    "scrolled": false
   },
   "outputs": [
    {
     "data": {
      "text/html": [
       "<div>\n",
       "<style scoped>\n",
       "    .dataframe tbody tr th:only-of-type {\n",
       "        vertical-align: middle;\n",
       "    }\n",
       "\n",
       "    .dataframe tbody tr th {\n",
       "        vertical-align: top;\n",
       "    }\n",
       "\n",
       "    .dataframe thead th {\n",
       "        text-align: right;\n",
       "    }\n",
       "</style>\n",
       "<table border=\"1\" class=\"dataframe\">\n",
       "  <thead>\n",
       "    <tr style=\"text-align: right;\">\n",
       "      <th></th>\n",
       "      <th>Name</th>\n",
       "      <th>Gender</th>\n",
       "      <th>Year_Birth</th>\n",
       "      <th>Year_Death</th>\n",
       "      <th>N_works</th>\n",
       "    </tr>\n",
       "  </thead>\n",
       "  <tbody>\n",
       "    <tr>\n",
       "      <th>0</th>\n",
       "      <td>Beuys Joseph</td>\n",
       "      <td>0</td>\n",
       "      <td>1921</td>\n",
       "      <td>1986</td>\n",
       "      <td>588</td>\n",
       "    </tr>\n",
       "    <tr>\n",
       "      <th>1</th>\n",
       "      <td>Constable John</td>\n",
       "      <td>0</td>\n",
       "      <td>1776</td>\n",
       "      <td>1837</td>\n",
       "      <td>249</td>\n",
       "    </tr>\n",
       "    <tr>\n",
       "      <th>2</th>\n",
       "      <td>Daniell William</td>\n",
       "      <td>0</td>\n",
       "      <td>1769</td>\n",
       "      <td>1837</td>\n",
       "      <td>612</td>\n",
       "    </tr>\n",
       "    <tr>\n",
       "      <th>3</th>\n",
       "      <td>Forbes Elizabeth</td>\n",
       "      <td>1</td>\n",
       "      <td>1859</td>\n",
       "      <td>1912</td>\n",
       "      <td>120</td>\n",
       "    </tr>\n",
       "    <tr>\n",
       "      <th>4</th>\n",
       "      <td>Flaxman John</td>\n",
       "      <td>0</td>\n",
       "      <td>1755</td>\n",
       "      <td>1826</td>\n",
       "      <td>287</td>\n",
       "    </tr>\n",
       "    <tr>\n",
       "      <th>5</th>\n",
       "      <td>Phillips Thomas</td>\n",
       "      <td>0</td>\n",
       "      <td>1770</td>\n",
       "      <td>1845</td>\n",
       "      <td>274</td>\n",
       "    </tr>\n",
       "    <tr>\n",
       "      <th>6</th>\n",
       "      <td>Paolozzi Sir Eduardo</td>\n",
       "      <td>0</td>\n",
       "      <td>1924</td>\n",
       "      <td>2005</td>\n",
       "      <td>385</td>\n",
       "    </tr>\n",
       "    <tr>\n",
       "      <th>7</th>\n",
       "      <td>Schendel Mira</td>\n",
       "      <td>1</td>\n",
       "      <td>1919</td>\n",
       "      <td>1988</td>\n",
       "      <td>3</td>\n",
       "    </tr>\n",
       "    <tr>\n",
       "      <th>8</th>\n",
       "      <td>Turner William</td>\n",
       "      <td>0</td>\n",
       "      <td>1775</td>\n",
       "      <td>1851</td>\n",
       "      <td>1861</td>\n",
       "    </tr>\n",
       "    <tr>\n",
       "      <th>9</th>\n",
       "      <td>Warhol Andy</td>\n",
       "      <td>0</td>\n",
       "      <td>1928</td>\n",
       "      <td>1987</td>\n",
       "      <td>272</td>\n",
       "    </tr>\n",
       "  </tbody>\n",
       "</table>\n",
       "</div>"
      ],
      "text/plain": [
       "                   Name  Gender  Year_Birth  Year_Death  N_works\n",
       "0          Beuys Joseph       0        1921        1986      588\n",
       "1        Constable John       0        1776        1837      249\n",
       "2       Daniell William       0        1769        1837      612\n",
       "3      Forbes Elizabeth       1        1859        1912      120\n",
       "4          Flaxman John       0        1755        1826      287\n",
       "5       Phillips Thomas       0        1770        1845      274\n",
       "6  Paolozzi Sir Eduardo       0        1924        2005      385\n",
       "7         Schendel Mira       1        1919        1988        3\n",
       "8        Turner William       0        1775        1851     1861\n",
       "9           Warhol Andy       0        1928        1987      272"
      ]
     },
     "execution_count": 16,
     "metadata": {},
     "output_type": "execute_result"
    }
   ],
   "source": [
    "tate_2 = pd.read_pickle('tate_dataset.pkl')\n",
    "tate_2"
   ]
  },
  {
   "cell_type": "markdown",
   "metadata": {
    "id": "4vHSnaOQAZvv"
   },
   "source": [
    "## 1.3 - Look at the data\n",
    "\n",
    "Now we will simply have a look at the data and make sure it is clean. \n",
    "\n",
    "### Data type\n",
    "Let's check the data type of the imported variables and the original DataFrame."
   ]
  },
  {
   "cell_type": "code",
   "execution_count": null,
   "metadata": {
    "scrolled": false
   },
   "outputs": [],
   "source": []
  },
  {
   "cell_type": "code",
   "execution_count": 19,
   "metadata": {
    "scrolled": false
   },
   "outputs": [
    {
     "data": {
      "text/html": [
       "<div>\n",
       "<style scoped>\n",
       "    .dataframe tbody tr th:only-of-type {\n",
       "        vertical-align: middle;\n",
       "    }\n",
       "\n",
       "    .dataframe tbody tr th {\n",
       "        vertical-align: top;\n",
       "    }\n",
       "\n",
       "    .dataframe thead th {\n",
       "        text-align: right;\n",
       "    }\n",
       "</style>\n",
       "<table border=\"1\" class=\"dataframe\">\n",
       "  <thead>\n",
       "    <tr style=\"text-align: right;\">\n",
       "      <th></th>\n",
       "      <th>Name</th>\n",
       "      <th>Gender</th>\n",
       "      <th>Year_Birth</th>\n",
       "      <th>Year_Death</th>\n",
       "      <th>N_works</th>\n",
       "    </tr>\n",
       "  </thead>\n",
       "  <tbody>\n",
       "    <tr>\n",
       "      <th>0</th>\n",
       "      <td>Beuys Joseph</td>\n",
       "      <td>0</td>\n",
       "      <td>1921</td>\n",
       "      <td>1986</td>\n",
       "      <td>588</td>\n",
       "    </tr>\n",
       "    <tr>\n",
       "      <th>1</th>\n",
       "      <td>Constable John</td>\n",
       "      <td>0</td>\n",
       "      <td>1776</td>\n",
       "      <td>1837</td>\n",
       "      <td>249</td>\n",
       "    </tr>\n",
       "    <tr>\n",
       "      <th>2</th>\n",
       "      <td>Daniell William</td>\n",
       "      <td>0</td>\n",
       "      <td>1769</td>\n",
       "      <td>1837</td>\n",
       "      <td>612</td>\n",
       "    </tr>\n",
       "    <tr>\n",
       "      <th>3</th>\n",
       "      <td>Forbes Elizabeth</td>\n",
       "      <td>1</td>\n",
       "      <td>1859</td>\n",
       "      <td>1912</td>\n",
       "      <td>120</td>\n",
       "    </tr>\n",
       "    <tr>\n",
       "      <th>4</th>\n",
       "      <td>Flaxman John</td>\n",
       "      <td>0</td>\n",
       "      <td>1755</td>\n",
       "      <td>1826</td>\n",
       "      <td>287</td>\n",
       "    </tr>\n",
       "    <tr>\n",
       "      <th>5</th>\n",
       "      <td>Phillips Thomas</td>\n",
       "      <td>0</td>\n",
       "      <td>1770</td>\n",
       "      <td>1845</td>\n",
       "      <td>274</td>\n",
       "    </tr>\n",
       "    <tr>\n",
       "      <th>6</th>\n",
       "      <td>Paolozzi Sir Eduardo</td>\n",
       "      <td>0</td>\n",
       "      <td>1924</td>\n",
       "      <td>2005</td>\n",
       "      <td>385</td>\n",
       "    </tr>\n",
       "    <tr>\n",
       "      <th>7</th>\n",
       "      <td>Schendel Mira</td>\n",
       "      <td>1</td>\n",
       "      <td>1919</td>\n",
       "      <td>1988</td>\n",
       "      <td>3</td>\n",
       "    </tr>\n",
       "    <tr>\n",
       "      <th>8</th>\n",
       "      <td>Turner William</td>\n",
       "      <td>0</td>\n",
       "      <td>1775</td>\n",
       "      <td>1851</td>\n",
       "      <td>1861</td>\n",
       "    </tr>\n",
       "    <tr>\n",
       "      <th>9</th>\n",
       "      <td>Warhol Andy</td>\n",
       "      <td>0</td>\n",
       "      <td>1928</td>\n",
       "      <td>1987</td>\n",
       "      <td>272</td>\n",
       "    </tr>\n",
       "  </tbody>\n",
       "</table>\n",
       "</div>"
      ],
      "text/plain": [
       "                   Name  Gender  Year_Birth  Year_Death  N_works\n",
       "0          Beuys Joseph       0        1921        1986      588\n",
       "1        Constable John       0        1776        1837      249\n",
       "2       Daniell William       0        1769        1837      612\n",
       "3      Forbes Elizabeth       1        1859        1912      120\n",
       "4          Flaxman John       0        1755        1826      287\n",
       "5       Phillips Thomas       0        1770        1845      274\n",
       "6  Paolozzi Sir Eduardo       0        1924        2005      385\n",
       "7         Schendel Mira       1        1919        1988        3\n",
       "8        Turner William       0        1775        1851     1861\n",
       "9           Warhol Andy       0        1928        1987      272"
      ]
     },
     "execution_count": 19,
     "metadata": {},
     "output_type": "execute_result"
    }
   ],
   "source": [
    "tate_1 = pd.read_csv('tate_dataset.csv')\n",
    "tate_1"
   ]
  },
  {
   "cell_type": "code",
   "execution_count": 20,
   "metadata": {
    "id": "AV3eoT35AZvw",
    "scrolled": false
   },
   "outputs": [
    {
     "data": {
      "text/plain": [
       "Name          object\n",
       "Gender         int64\n",
       "Year_Birth     int64\n",
       "Year_Death     int64\n",
       "N_works        int64\n",
       "dtype: object"
      ]
     },
     "execution_count": 20,
     "metadata": {},
     "output_type": "execute_result"
    }
   ],
   "source": [
    "# Check data type of the columns for Tate_1\n",
    "tate_1.dtypes"
   ]
  },
  {
   "cell_type": "code",
   "execution_count": 21,
   "metadata": {
    "id": "ACysmIDSAZvy",
    "scrolled": false
   },
   "outputs": [
    {
     "data": {
      "text/plain": [
       "Name          object\n",
       "Gender         int64\n",
       "Year_Birth     int64\n",
       "Year_Death     int64\n",
       "N_works        int64\n",
       "dtype: object"
      ]
     },
     "execution_count": 21,
     "metadata": {},
     "output_type": "execute_result"
    }
   ],
   "source": [
    "# Check data type of the columns for TateDataset\n",
    "tatedataset.dtypes"
   ]
  },
  {
   "cell_type": "markdown",
   "metadata": {
    "id": "T3q0dEk0AZv0"
   },
   "source": [
    "We can also display the values of a single column and check their data type as follow:"
   ]
  },
  {
   "cell_type": "code",
   "execution_count": 22,
   "metadata": {
    "id": "zfMt0x2lAZv0",
    "scrolled": false
   },
   "outputs": [
    {
     "data": {
      "text/plain": [
       "[0, 0, 0, 1, 0, 0, 0, 1, 0, 0]"
      ]
     },
     "execution_count": 22,
     "metadata": {},
     "output_type": "execute_result"
    }
   ],
   "source": [
    "tate_dataset['Gender']"
   ]
  },
  {
   "cell_type": "markdown",
   "metadata": {
    "id": "hympM9yTEuud"
   },
   "source": [
    "# Task 2: Application Programming Interfaces (APIs)"
   ]
  },
  {
   "cell_type": "markdown",
   "metadata": {
    "id": "vOGrvILtFv0K",
    "tags": []
   },
   "source": [
    "## 2.1 - Downloading climate data from the Internet\n",
    "\n",
    "We will now explore real world data, namely a dataset of climate information of 5 cities in Denmark between 1980-2018. The original raw-data was originally obtained from [National Climatic Data Center (NCDC)](https://www7.ncdc.noaa.gov/CDO/cdoselect.cmd).\n",
    "\n",
    "In particular, the selected cities in Denmark are:\n",
    "- Aalborg, \n",
    "- Aarhus, \n",
    "- Esbjerg, \n",
    "- Odense. \n",
    "- Roskilde\n",
    "\n",
    "In the following, we will download the dataset using an API instead of loading a local source file.\n",
    "\n",
    "### What is an API? \n",
    "Application Programming Interface (API) is a communication protocol between the user and the server (i.e., web server) that enables transmittion of data. The user making a request to an API server can download the desidered resources. \n",
    "\n",
    "### How to make a request in python?\n",
    "There are many different way to request data. \n",
    "In the following, we will use the package **urllib** that collects several modules for working with URLs.\n",
    "\n",
    "In particular, [urlib.request](https://docs.python.org/3/library/urllib.request.html#module-urllib.request) is a module for opening and reading URLs.\n"
   ]
  },
  {
   "cell_type": "markdown",
   "metadata": {
    "id": "DiwhudMrKQUP"
   },
   "source": [
    "### - Download climate data\n",
    "\n",
    "\n",
    "The following functions allow to download and store the dataset in a specific folder.\n",
    "\n",
    "How to use:\n",
    "\n",
    "- Set the source (i.e., URL) of the desidered dataset in `data_url`.\n",
    "- Set the `data_dir` variable with the local directory where to store the data.\n",
    "- Call `download_and_extract()` to download the dataset if it is not already located in the given data_dir.\n",
    "- Load the data in the interactive Python notebook so ic can be used in your scripts (you can use `load_original_data()`)."
   ]
  },
  {
   "cell_type": "code",
   "execution_count": 1,
   "metadata": {
    "cellView": "form",
    "id": "DjVqxHOLE6I4",
    "scrolled": false
   },
   "outputs": [],
   "source": [
    "#@title Functions to download data \n",
    "########################################################################\n",
    "#\n",
    "# This file is a partially modified version of one of the TensorFlow Tutorials available at:\n",
    "#\n",
    "# https://github.com/Hvass-Labs/TensorFlow-Tutorials\n",
    "#\n",
    "# Published under the MIT License. See the file LICENSE for details.\n",
    "#\n",
    "# Copyright 2018 by Magnus Erik Hvass Pedersen\n",
    "#\n",
    "########################################################################\n",
    "\n",
    "import sys\n",
    "import os\n",
    "import urllib.request\n",
    "import tarfile\n",
    "import zipfile\n",
    "\n",
    "\n",
    "\n",
    "def _print_download_progress(count, block_size, total_size):\n",
    "    \"\"\"\n",
    "    Function used for printing the download progress.\n",
    "    Used as a call-back function in maybe_download_and_extract().\n",
    "    \"\"\"\n",
    "\n",
    "    # Percentage completion.\n",
    "    pct_complete = float(count * block_size) / total_size\n",
    "\n",
    "    # Limit it because rounding errors may cause it to exceed 100%.\n",
    "    pct_complete = min(1.0, pct_complete)\n",
    "\n",
    "    # Status-message. Note the \\r which means the line should overwrite itself.\n",
    "    msg = \"\\r- Download progress: {0:.1%}\".format(pct_complete)\n",
    "\n",
    "    # Print it.\n",
    "    sys.stdout.write(msg)\n",
    "    sys.stdout.flush()\n",
    "\n",
    "\n",
    "def download(base_url, filename, download_dir):\n",
    "    \"\"\"\n",
    "    Download the given file if it does not already exist in the download_dir.\n",
    "    :param base_url: The internet URL without the filename.\n",
    "    :param filename: The filename that will be added to the base_url.\n",
    "    :param download_dir: Local directory for storing the file.\n",
    "    \"\"\"\n",
    "\n",
    "    # Path for local file.\n",
    "    save_path = os.path.join(download_dir, filename)\n",
    "\n",
    "    # Check if the file already exists, otherwise we need to download it now.\n",
    "    if not os.path.exists(save_path):\n",
    "        # Check if the download directory exists, otherwise create it.\n",
    "        if not os.path.exists(download_dir):\n",
    "            os.makedirs(download_dir)\n",
    "\n",
    "        print(\"Downloading\", filename, \"...\")\n",
    "\n",
    "        # Download the file from the internet.\n",
    "        url = base_url + filename\n",
    "        file_path, _ = urllib.request.urlretrieve(url=url,\n",
    "                                                  filename=save_path,\n",
    "                                                  reporthook=_print_download_progress)\n",
    "\n",
    "        print(\" Done!\")\n",
    "\n",
    "\n",
    "def download_and_extract(url, download_dir):\n",
    "    \"\"\"\n",
    "    Download and extract the data if it doesn't already exist.\n",
    "    Assumes the url is a tar-ball file.\n",
    "    :param url:\n",
    "        Internet URL for the tar-file to download.\n",
    "    :param download_dir:\n",
    "        Directory where the downloaded file is saved.\n",
    "    \"\"\"\n",
    "\n",
    "    # Filename for saving the file downloaded from the internet.\n",
    "    # Use the filename from the URL and add it to the download_dir.\n",
    "    filename = url.split('/')[-1]\n",
    "    file_path = os.path.join(download_dir, filename)\n",
    "\n",
    "    # Check if the file already exists.\n",
    "    # If it exists then we assume it has also been extracted,\n",
    "    # otherwise we need to download and extract it now.\n",
    "    if not os.path.exists(file_path):\n",
    "        # Check if the download directory exists, otherwise create it.\n",
    "        if not os.path.exists(download_dir):\n",
    "            os.makedirs(download_dir)\n",
    "\n",
    "        # Download the file from the internet.\n",
    "        file_path, _ = urllib.request.urlretrieve(url=url,\n",
    "                                                  filename=file_path,\n",
    "                                                  reporthook=_print_download_progress)\n",
    "\n",
    "        print()\n",
    "        print(\"Download finished. Extracting files.\")\n",
    "\n",
    "        if file_path.endswith(\".zip\"):\n",
    "            # Unpack the zip-file.\n",
    "            zipfile.ZipFile(file=file_path, mode=\"r\").extractall(download_dir)\n",
    "        elif file_path.endswith((\".tar.gz\", \".tgz\")):\n",
    "            # Unpack the tar-ball.\n",
    "            tarfile.open(name=file_path, mode=\"r:gz\").extractall(download_dir)\n",
    "\n",
    "        print(\"Done.\")\n",
    "    else:\n",
    "        print(\"Data has apparently already been downloaded and unpacked.\")\n",
    "        "
   ]
  },
  {
   "cell_type": "markdown",
   "metadata": {
    "id": "jhAOVRKTclRR"
   },
   "source": [
    "First, we define where we want to download the dataset (you are free to choose another directory) and the URL of the dataset to be downloaded."
   ]
  },
  {
   "cell_type": "code",
   "execution_count": 2,
   "metadata": {
    "id": "mPl5lGC_cjRa",
    "scrolled": false
   },
   "outputs": [],
   "source": [
    "# Location of the dataset on the internet.\n",
    "data_url = \"https://github.com/Hvass-Labs/weather-denmark/raw/master/weather-denmark.tar.gz\"\n",
    "\n",
    "# Local directory where you want to download and save the dataset.\n",
    "data_dir = \"weather-data/\""
   ]
  },
  {
   "cell_type": "markdown",
   "metadata": {
    "id": "_fUv_1U7AGIS"
   },
   "source": [
    "Now, we can download the dataset into the chosen local directory"
   ]
  },
  {
   "cell_type": "code",
   "execution_count": 3,
   "metadata": {
    "id": "6P4iL6WfAGIT",
    "scrolled": false
   },
   "outputs": [],
   "source": [
    "####download_and_extract(url=data_url, download_dir=data_dir)"
   ]
  },
  {
   "cell_type": "code",
   "execution_count": 4,
   "metadata": {
    "scrolled": false
   },
   "outputs": [],
   "source": [
    "#### %cat weather-data/weather-denmark.csv"
   ]
  },
  {
   "cell_type": "markdown",
   "metadata": {
    "id": "sLC9mO_RAGIY"
   },
   "source": [
    "**[TO DO]:** Check the local folder? In which format the dataset has been downloaded?\n",
    "\n",
    "**[TO DO]:** Select a format and load the dataset ."
   ]
  },
  {
   "cell_type": "code",
   "execution_count": 5,
   "metadata": {
    "id": "59A_u_4CAGIY",
    "scrolled": false
   },
   "outputs": [
    {
     "name": "stdout",
     "output_type": "stream",
     "text": [
      "README.md               weather-denmark.pkl\r\n",
      "weather-denmark.csv     weather-denmark.tar.gz\r\n"
     ]
    }
   ],
   "source": [
    "### TODO\n",
    "%ls weather-data"
   ]
  },
  {
   "cell_type": "code",
   "execution_count": 9,
   "metadata": {
    "id": "36clsIOhq_CR",
    "scrolled": false
   },
   "outputs": [],
   "source": [
    "### TODO\n",
    "weatherdata = pd.read_csv('weather-data/weather-denmark.csv')"
   ]
  },
  {
   "cell_type": "code",
   "execution_count": 10,
   "metadata": {
    "scrolled": false
   },
   "outputs": [
    {
     "data": {
      "text/html": [
       "<div>\n",
       "<style scoped>\n",
       "    .dataframe tbody tr th:only-of-type {\n",
       "        vertical-align: middle;\n",
       "    }\n",
       "\n",
       "    .dataframe tbody tr th {\n",
       "        vertical-align: top;\n",
       "    }\n",
       "\n",
       "    .dataframe thead th {\n",
       "        text-align: right;\n",
       "    }\n",
       "</style>\n",
       "<table border=\"1\" class=\"dataframe\">\n",
       "  <thead>\n",
       "    <tr style=\"text-align: right;\">\n",
       "      <th></th>\n",
       "      <th>City</th>\n",
       "      <th>DateTime</th>\n",
       "      <th>Temp</th>\n",
       "      <th>Pressure</th>\n",
       "      <th>WindSpeed</th>\n",
       "      <th>WindDir</th>\n",
       "    </tr>\n",
       "  </thead>\n",
       "  <tbody>\n",
       "    <tr>\n",
       "      <th>0</th>\n",
       "      <td>Aalborg</td>\n",
       "      <td>1980-03-01 00:00:00</td>\n",
       "      <td>5.0</td>\n",
       "      <td>1008.1</td>\n",
       "      <td>11.3</td>\n",
       "      <td>290.0</td>\n",
       "    </tr>\n",
       "    <tr>\n",
       "      <th>1</th>\n",
       "      <td>Aalborg</td>\n",
       "      <td>1980-03-01 00:20:00</td>\n",
       "      <td>4.0</td>\n",
       "      <td>NaN</td>\n",
       "      <td>9.2</td>\n",
       "      <td>270.0</td>\n",
       "    </tr>\n",
       "    <tr>\n",
       "      <th>2</th>\n",
       "      <td>Aalborg</td>\n",
       "      <td>1980-03-01 00:50:00</td>\n",
       "      <td>4.0</td>\n",
       "      <td>NaN</td>\n",
       "      <td>9.2</td>\n",
       "      <td>280.0</td>\n",
       "    </tr>\n",
       "    <tr>\n",
       "      <th>3</th>\n",
       "      <td>Aalborg</td>\n",
       "      <td>1980-03-01 01:20:00</td>\n",
       "      <td>4.0</td>\n",
       "      <td>NaN</td>\n",
       "      <td>9.2</td>\n",
       "      <td>280.0</td>\n",
       "    </tr>\n",
       "    <tr>\n",
       "      <th>4</th>\n",
       "      <td>Aalborg</td>\n",
       "      <td>1980-03-01 01:50:00</td>\n",
       "      <td>4.0</td>\n",
       "      <td>NaN</td>\n",
       "      <td>8.7</td>\n",
       "      <td>270.0</td>\n",
       "    </tr>\n",
       "    <tr>\n",
       "      <th>...</th>\n",
       "      <td>...</td>\n",
       "      <td>...</td>\n",
       "      <td>...</td>\n",
       "      <td>...</td>\n",
       "      <td>...</td>\n",
       "      <td>...</td>\n",
       "    </tr>\n",
       "    <tr>\n",
       "      <th>2918145</th>\n",
       "      <td>Roskilde</td>\n",
       "      <td>2018-03-01 22:20:00</td>\n",
       "      <td>-5.0</td>\n",
       "      <td>NaN</td>\n",
       "      <td>5.1</td>\n",
       "      <td>70.0</td>\n",
       "    </tr>\n",
       "    <tr>\n",
       "      <th>2918146</th>\n",
       "      <td>Roskilde</td>\n",
       "      <td>2018-03-01 22:50:00</td>\n",
       "      <td>-5.0</td>\n",
       "      <td>NaN</td>\n",
       "      <td>4.1</td>\n",
       "      <td>70.0</td>\n",
       "    </tr>\n",
       "    <tr>\n",
       "      <th>2918147</th>\n",
       "      <td>Roskilde</td>\n",
       "      <td>2018-03-01 23:00:00</td>\n",
       "      <td>-5.3</td>\n",
       "      <td>1018.6</td>\n",
       "      <td>4.1</td>\n",
       "      <td>60.0</td>\n",
       "    </tr>\n",
       "    <tr>\n",
       "      <th>2918148</th>\n",
       "      <td>Roskilde</td>\n",
       "      <td>2018-03-01 23:20:00</td>\n",
       "      <td>-5.0</td>\n",
       "      <td>NaN</td>\n",
       "      <td>3.6</td>\n",
       "      <td>60.0</td>\n",
       "    </tr>\n",
       "    <tr>\n",
       "      <th>2918149</th>\n",
       "      <td>Roskilde</td>\n",
       "      <td>2018-03-01 23:50:00</td>\n",
       "      <td>-5.0</td>\n",
       "      <td>NaN</td>\n",
       "      <td>3.6</td>\n",
       "      <td>60.0</td>\n",
       "    </tr>\n",
       "  </tbody>\n",
       "</table>\n",
       "<p>2918150 rows × 6 columns</p>\n",
       "</div>"
      ],
      "text/plain": [
       "             City             DateTime  Temp  Pressure  WindSpeed  WindDir\n",
       "0         Aalborg  1980-03-01 00:00:00   5.0    1008.1       11.3    290.0\n",
       "1         Aalborg  1980-03-01 00:20:00   4.0       NaN        9.2    270.0\n",
       "2         Aalborg  1980-03-01 00:50:00   4.0       NaN        9.2    280.0\n",
       "3         Aalborg  1980-03-01 01:20:00   4.0       NaN        9.2    280.0\n",
       "4         Aalborg  1980-03-01 01:50:00   4.0       NaN        8.7    270.0\n",
       "...           ...                  ...   ...       ...        ...      ...\n",
       "2918145  Roskilde  2018-03-01 22:20:00  -5.0       NaN        5.1     70.0\n",
       "2918146  Roskilde  2018-03-01 22:50:00  -5.0       NaN        4.1     70.0\n",
       "2918147  Roskilde  2018-03-01 23:00:00  -5.3    1018.6        4.1     60.0\n",
       "2918148  Roskilde  2018-03-01 23:20:00  -5.0       NaN        3.6     60.0\n",
       "2918149  Roskilde  2018-03-01 23:50:00  -5.0       NaN        3.6     60.0\n",
       "\n",
       "[2918150 rows x 6 columns]"
      ]
     },
     "execution_count": 10,
     "metadata": {},
     "output_type": "execute_result"
    }
   ],
   "source": [
    "weatherdata"
   ]
  },
  {
   "cell_type": "markdown",
   "metadata": {
    "id": "MN4_qGC4AGIc"
   },
   "source": [
    "**More advanced solution for loading dataset**:\n",
    "\n",
    "In this case, the dataset was downloaded in two different formats. \n",
    "We can define the path where the files have been stored as follows:\n",
    "- **path_original_data_pickle( )** is the location of the original data in pickle format\n",
    "- **path_original_data_csv( )** is the location the original data in .csv"
   ]
  },
  {
   "cell_type": "code",
   "execution_count": 11,
   "metadata": {
    "id": "NO8jevNRAGIc",
    "scrolled": false
   },
   "outputs": [],
   "source": [
    "def path_original_data_pickle():\n",
    "    return os.path.join(data_dir, \"weather-denmark.pkl\")\n",
    "\n",
    "def path_original_data_csv():\n",
    "    return os.path.join(data_dir, \"weather-denmark.csv\")"
   ]
  },
  {
   "cell_type": "markdown",
   "metadata": {
    "id": "KoNQaCyAAGIg"
   },
   "source": [
    "Now we can load the data in pickle format through the following function:"
   ]
  },
  {
   "cell_type": "code",
   "execution_count": 12,
   "metadata": {
    "id": "JHdwG7c6AGIh",
    "scrolled": false
   },
   "outputs": [],
   "source": [
    "def load_original_data():\n",
    "    return pd.read_pickle(path_original_data_pickle())"
   ]
  },
  {
   "cell_type": "code",
   "execution_count": 13,
   "metadata": {
    "id": "0-XPffh3AGIj",
    "scrolled": false
   },
   "outputs": [
    {
     "data": {
      "text/html": [
       "<div>\n",
       "<style scoped>\n",
       "    .dataframe tbody tr th:only-of-type {\n",
       "        vertical-align: middle;\n",
       "    }\n",
       "\n",
       "    .dataframe tbody tr th {\n",
       "        vertical-align: top;\n",
       "    }\n",
       "\n",
       "    .dataframe thead th {\n",
       "        text-align: right;\n",
       "    }\n",
       "</style>\n",
       "<table border=\"1\" class=\"dataframe\">\n",
       "  <thead>\n",
       "    <tr style=\"text-align: right;\">\n",
       "      <th></th>\n",
       "      <th></th>\n",
       "      <th>Temp</th>\n",
       "      <th>Pressure</th>\n",
       "      <th>WindSpeed</th>\n",
       "      <th>WindDir</th>\n",
       "    </tr>\n",
       "    <tr>\n",
       "      <th>City</th>\n",
       "      <th>DateTime</th>\n",
       "      <th></th>\n",
       "      <th></th>\n",
       "      <th></th>\n",
       "      <th></th>\n",
       "    </tr>\n",
       "  </thead>\n",
       "  <tbody>\n",
       "    <tr>\n",
       "      <th rowspan=\"5\" valign=\"top\">Aalborg</th>\n",
       "      <th>1980-03-01 00:00:00</th>\n",
       "      <td>5.0</td>\n",
       "      <td>1008.1</td>\n",
       "      <td>11.3</td>\n",
       "      <td>290.0</td>\n",
       "    </tr>\n",
       "    <tr>\n",
       "      <th>1980-03-01 00:20:00</th>\n",
       "      <td>4.0</td>\n",
       "      <td>NaN</td>\n",
       "      <td>9.2</td>\n",
       "      <td>270.0</td>\n",
       "    </tr>\n",
       "    <tr>\n",
       "      <th>1980-03-01 00:50:00</th>\n",
       "      <td>4.0</td>\n",
       "      <td>NaN</td>\n",
       "      <td>9.2</td>\n",
       "      <td>280.0</td>\n",
       "    </tr>\n",
       "    <tr>\n",
       "      <th>1980-03-01 01:20:00</th>\n",
       "      <td>4.0</td>\n",
       "      <td>NaN</td>\n",
       "      <td>9.2</td>\n",
       "      <td>280.0</td>\n",
       "    </tr>\n",
       "    <tr>\n",
       "      <th>1980-03-01 01:50:00</th>\n",
       "      <td>4.0</td>\n",
       "      <td>NaN</td>\n",
       "      <td>8.7</td>\n",
       "      <td>270.0</td>\n",
       "    </tr>\n",
       "    <tr>\n",
       "      <th>...</th>\n",
       "      <th>...</th>\n",
       "      <td>...</td>\n",
       "      <td>...</td>\n",
       "      <td>...</td>\n",
       "      <td>...</td>\n",
       "    </tr>\n",
       "    <tr>\n",
       "      <th rowspan=\"5\" valign=\"top\">Roskilde</th>\n",
       "      <th>2018-03-01 22:20:00</th>\n",
       "      <td>-5.0</td>\n",
       "      <td>NaN</td>\n",
       "      <td>5.1</td>\n",
       "      <td>70.0</td>\n",
       "    </tr>\n",
       "    <tr>\n",
       "      <th>2018-03-01 22:50:00</th>\n",
       "      <td>-5.0</td>\n",
       "      <td>NaN</td>\n",
       "      <td>4.1</td>\n",
       "      <td>70.0</td>\n",
       "    </tr>\n",
       "    <tr>\n",
       "      <th>2018-03-01 23:00:00</th>\n",
       "      <td>-5.3</td>\n",
       "      <td>1018.6</td>\n",
       "      <td>4.1</td>\n",
       "      <td>60.0</td>\n",
       "    </tr>\n",
       "    <tr>\n",
       "      <th>2018-03-01 23:20:00</th>\n",
       "      <td>-5.0</td>\n",
       "      <td>NaN</td>\n",
       "      <td>3.6</td>\n",
       "      <td>60.0</td>\n",
       "    </tr>\n",
       "    <tr>\n",
       "      <th>2018-03-01 23:50:00</th>\n",
       "      <td>-5.0</td>\n",
       "      <td>NaN</td>\n",
       "      <td>3.6</td>\n",
       "      <td>60.0</td>\n",
       "    </tr>\n",
       "  </tbody>\n",
       "</table>\n",
       "<p>2918150 rows × 4 columns</p>\n",
       "</div>"
      ],
      "text/plain": [
       "                              Temp  Pressure  WindSpeed  WindDir\n",
       "City     DateTime                                               \n",
       "Aalborg  1980-03-01 00:00:00   5.0    1008.1       11.3    290.0\n",
       "         1980-03-01 00:20:00   4.0       NaN        9.2    270.0\n",
       "         1980-03-01 00:50:00   4.0       NaN        9.2    280.0\n",
       "         1980-03-01 01:20:00   4.0       NaN        9.2    280.0\n",
       "         1980-03-01 01:50:00   4.0       NaN        8.7    270.0\n",
       "...                            ...       ...        ...      ...\n",
       "Roskilde 2018-03-01 22:20:00  -5.0       NaN        5.1     70.0\n",
       "         2018-03-01 22:50:00  -5.0       NaN        4.1     70.0\n",
       "         2018-03-01 23:00:00  -5.3    1018.6        4.1     60.0\n",
       "         2018-03-01 23:20:00  -5.0       NaN        3.6     60.0\n",
       "         2018-03-01 23:50:00  -5.0       NaN        3.6     60.0\n",
       "\n",
       "[2918150 rows x 4 columns]"
      ]
     },
     "execution_count": 13,
     "metadata": {},
     "output_type": "execute_result"
    }
   ],
   "source": [
    "df = load_original_data()\n",
    "df"
   ]
  },
  {
   "cell_type": "markdown",
   "metadata": {
    "id": "DMCJQr_SAGIm"
   },
   "source": [
    "### - Undestanding the data\n",
    "\n",
    "**_[TO DO]_**: Have a quick overview of the downloaded dataset. \n",
    "In particular, focus on:\n",
    "\n",
    "- Understanding the variables contained in the dataframe\n",
    "- Check the DateTime for 2 cities"
   ]
  },
  {
   "cell_type": "code",
   "execution_count": 15,
   "metadata": {
    "id": "-_dXNZFqd6rk",
    "scrolled": false
   },
   "outputs": [
    {
     "data": {
      "text/plain": [
       "City          object\n",
       "DateTime      object\n",
       "Temp         float64\n",
       "Pressure     float64\n",
       "WindSpeed    float64\n",
       "WindDir      float64\n",
       "dtype: object"
      ]
     },
     "execution_count": 15,
     "metadata": {},
     "output_type": "execute_result"
    }
   ],
   "source": [
    "### TODO\n",
    "\n",
    "weatherdata.dtypes"
   ]
  },
  {
   "cell_type": "code",
   "execution_count": 20,
   "metadata": {
    "scrolled": true
   },
   "outputs": [
    {
     "name": "stdout",
     "output_type": "stream",
     "text": [
      "City\n",
      "(array(['Aalborg', 'Aarhus', 'Esbjerg', 'Odense', 'Roskilde'], dtype=object), array([759897, 717417, 459164, 411820, 569852]))\n",
      "------------------------\n",
      "------------------------\n",
      "------------------------\n",
      "------------------------\n",
      "DateTime\n",
      "(array(['1980-03-01 00:00:00', '1980-03-01 00:20:00',\n",
      "       '1980-03-01 00:50:00', ..., '2018-03-01 23:20:00',\n",
      "       '2018-03-01 23:21:00', '2018-03-01 23:50:00'], dtype=object), array([2, 1, 1, ..., 3, 1, 4]))\n",
      "------------------------\n",
      "------------------------\n",
      "------------------------\n",
      "------------------------\n",
      "Temp\n",
      "(array([-27. , -25. , -24.8, -24.5, -24.3, -24. , -23.9, -23.7, -23.1,\n",
      "       -23. , -22.7, -22.6, -22.5, -22. , -21.9, -21.6, -21. , -20.8,\n",
      "       -20.7, -20.6, -20.5, -20.4, -20.3, -20.2, -20.1, -20. , -19.9,\n",
      "       -19.8, -19.7, -19.6, -19.5, -19.4, -19.3, -19.2, -19.1, -19. ,\n",
      "       -18.9, -18.8, -18.7, -18.6, -18.5, -18.4, -18.3, -18.2, -18.1,\n",
      "       -18. , -17.9, -17.8, -17.7, -17.6, -17.5, -17.4, -17.3, -17.2,\n",
      "       -17.1, -17. , -16.9, -16.8, -16.7, -16.6, -16.5, -16.4, -16.3,\n",
      "       -16.2, -16.1, -16. , -15.9, -15.8, -15.7, -15.6, -15.5, -15.4,\n",
      "       -15.3, -15.2, -15.1, -15. , -14.9, -14.8, -14.7, -14.6, -14.5,\n",
      "       -14.4, -14.3, -14.2, -14.1, -14. , -13.9, -13.8, -13.7, -13.6,\n",
      "       -13.5, -13.4, -13.3, -13.2, -13.1, -13. , -12.9, -12.8, -12.7,\n",
      "       -12.6, -12.5, -12.4, -12.3, -12.2, -12.1, -12. , -11.9, -11.8,\n",
      "       -11.7, -11.6, -11.5, -11.4, -11.3, -11.2, -11.1, -11. , -10.9,\n",
      "       -10.8, -10.7, -10.6, -10.5, -10.4, -10.3, -10.2, -10.1, -10. ,\n",
      "        -9.9,  -9.8,  -9.7,  -9.6,  -9.5,  -9.4,  -9.3,  -9.2,  -9.1,\n",
      "        -9. ,  -8.9,  -8.8,  -8.7,  -8.6,  -8.5,  -8.4,  -8.3,  -8.2,\n",
      "        -8.1,  -8. ,  -7.9,  -7.8,  -7.7,  -7.6,  -7.5,  -7.4,  -7.3,\n",
      "        -7.2,  -7.1,  -7. ,  -6.9,  -6.8,  -6.7,  -6.6,  -6.5,  -6.4,\n",
      "        -6.3,  -6.2,  -6.1,  -6. ,  -5.9,  -5.8,  -5.7,  -5.6,  -5.5,\n",
      "        -5.4,  -5.3,  -5.2,  -5.1,  -5. ,  -4.9,  -4.8,  -4.7,  -4.6,\n",
      "        -4.5,  -4.4,  -4.3,  -4.2,  -4.1,  -4. ,  -3.9,  -3.8,  -3.7,\n",
      "        -3.6,  -3.5,  -3.4,  -3.3,  -3.2,  -3.1,  -3. ,  -2.9,  -2.8,\n",
      "        -2.7,  -2.6,  -2.5,  -2.4,  -2.3,  -2.2,  -2.1,  -2. ,  -1.9,\n",
      "        -1.8,  -1.7,  -1.6,  -1.5,  -1.4,  -1.3,  -1.2,  -1.1,  -1. ,\n",
      "        -0.9,  -0.8,  -0.7,  -0.6,  -0.5,  -0.4,  -0.3,  -0.2,  -0.1,\n",
      "         0. ,   0.1,   0.2,   0.3,   0.4,   0.5,   0.6,   0.7,   0.8,\n",
      "         0.9,   1. ,   1.1,   1.2,   1.3,   1.4,   1.5,   1.6,   1.7,\n",
      "         1.8,   1.9,   2. ,   2.1,   2.2,   2.3,   2.4,   2.5,   2.6,\n",
      "         2.7,   2.8,   2.9,   3. ,   3.1,   3.2,   3.3,   3.4,   3.5,\n",
      "         3.6,   3.7,   3.8,   3.9,   4. ,   4.1,   4.2,   4.3,   4.4,\n",
      "         4.5,   4.6,   4.7,   4.8,   4.9,   5. ,   5.1,   5.2,   5.3,\n",
      "         5.4,   5.5,   5.6,   5.7,   5.8,   5.9,   6. ,   6.1,   6.2,\n",
      "         6.3,   6.4,   6.5,   6.6,   6.7,   6.8,   6.9,   7. ,   7.1,\n",
      "         7.2,   7.3,   7.4,   7.5,   7.6,   7.7,   7.8,   7.9,   8. ,\n",
      "         8.1,   8.2,   8.3,   8.4,   8.5,   8.6,   8.7,   8.8,   8.9,\n",
      "         9. ,   9.1,   9.2,   9.3,   9.4,   9.5,   9.6,   9.7,   9.8,\n",
      "         9.9,  10. ,  10.1,  10.2,  10.3,  10.4,  10.5,  10.6,  10.7,\n",
      "        10.8,  10.9,  11. ,  11.1,  11.2,  11.3,  11.4,  11.5,  11.6,\n",
      "        11.7,  11.8,  11.9,  12. ,  12.1,  12.2,  12.3,  12.4,  12.5,\n",
      "        12.6,  12.7,  12.8,  12.9,  13. ,  13.1,  13.2,  13.3,  13.4,\n",
      "        13.5,  13.6,  13.7,  13.8,  13.9,  14. ,  14.1,  14.2,  14.3,\n",
      "        14.4,  14.5,  14.6,  14.7,  14.8,  14.9,  15. ,  15.1,  15.2,\n",
      "        15.3,  15.4,  15.5,  15.6,  15.7,  15.8,  15.9,  16. ,  16.1,\n",
      "        16.2,  16.3,  16.4,  16.5,  16.6,  16.7,  16.8,  16.9,  17. ,\n",
      "        17.1,  17.2,  17.3,  17.4,  17.5,  17.6,  17.7,  17.8,  17.9,\n",
      "        18. ,  18.1,  18.2,  18.3,  18.4,  18.5,  18.6,  18.7,  18.8,\n",
      "        18.9,  19. ,  19.1,  19.2,  19.3,  19.4,  19.5,  19.6,  19.7,\n",
      "        19.8,  19.9,  20. ,  20.1,  20.2,  20.3,  20.4,  20.5,  20.6,\n",
      "        20.7,  20.8,  20.9,  21. ,  21.1,  21.2,  21.3,  21.4,  21.5,\n",
      "        21.6,  21.7,  21.8,  21.9,  22. ,  22.1,  22.2,  22.3,  22.4,\n",
      "        22.5,  22.6,  22.7,  22.8,  22.9,  23. ,  23.1,  23.2,  23.3,\n",
      "        23.4,  23.5,  23.6,  23.7,  23.8,  23.9,  24. ,  24.1,  24.2,\n",
      "        24.3,  24.4,  24.5,  24.6,  24.7,  24.8,  24.9,  25. ,  25.1,\n",
      "        25.2,  25.3,  25.4,  25.5,  25.6,  25.7,  25.8,  25.9,  26. ,\n",
      "        26.1,  26.2,  26.3,  26.4,  26.5,  26.6,  26.7,  26.8,  26.9,\n",
      "        27. ,  27.1,  27.2,  27.3,  27.4,  27.5,  27.6,  27.7,  27.8,\n",
      "        27.9,  28. ,  28.1,  28.2,  28.3,  28.4,  28.5,  28.6,  28.7,\n",
      "        28.8,  28.9,  29. ,  29.1,  29.2,  29.3,  29.4,  29.5,  29.6,\n",
      "        29.7,  29.8,  29.9,  30. ,  30.1,  30.2,  30.3,  30.4,  30.5,\n",
      "        30.6,  30.7,  30.8,  30.9,  31. ,  31.1,  31.2,  31.3,  31.4,\n",
      "        31.5,  31.6,  31.8,  31.9,  32. ,  32.3,  32.4,  32.7,  32.8,\n",
      "        33. ,  33.1,  33.5,  33.7,  33.9,  34. ,  35. ,  35.9,  36. ,\n",
      "        37. ,  38. ,  39. ,  40. ,  41. ,  42. ,  43. ,  44. ,  45. ,\n",
      "        46. ,  47. ,  47.5,  48. ,  48.2,  49.9,  50. ,  52. ,  53. ,\n",
      "        55. ,  56. ,   nan]), array([     1,      8,      1,      1,      2,     18,      1,      1,\n",
      "            1,     16,      1,      1,      2,     23,      1,      3,\n",
      "           55,      4,      2,      1,      1,      2,      2,      2,\n",
      "            2,    122,      4,      1,      1,      2,      4,      2,\n",
      "            3,      5,      3,    161,      4,      3,      5,      3,\n",
      "            6,      5,      5,      3,      2,    212,      6,      3,\n",
      "            4,      7,      8,      4,      5,      9,      2,    388,\n",
      "           13,     10,      5,      7,      9,      8,     10,      8,\n",
      "            7,    440,     10,      5,      9,     10,      6,      8,\n",
      "           11,     19,     12,    652,     15,     14,     17,     12,\n",
      "           11,     21,     11,     24,     31,   1001,     13,     33,\n",
      "           15,     31,     31,     32,     30,     28,     33,   1239,\n",
      "           43,     31,     39,     34,     33,     33,     34,     44,\n",
      "           46,   1697,     42,     44,     49,     51,     36,     61,\n",
      "           55,     57,     61,   2288,     63,     57,     53,     58,\n",
      "           62,     60,     62,     75,     76,   2804,     68,     71,\n",
      "           81,     89,     83,     93,     74,     91,    119,   3786,\n",
      "           97,    146,    122,    126,    127,    117,    136,    155,\n",
      "          131,   5267,    140,    174,    162,    174,    158,    194,\n",
      "          198,    213,    177,   7401,    231,    222,    252,    230,\n",
      "          249,    272,    278,    281,    277,  10768,    321,    342,\n",
      "          320,    351,    387,    420,    417,    417,    384,  15010,\n",
      "          447,    508,    456,    493,    519,    544,    550,    598,\n",
      "          605,  21797,    692,    741,    748,    743,    800,    872,\n",
      "          826,    983,    914,  31706,    956,    987,   1031,   1063,\n",
      "         1148,   1102,   1208,   1281,   1249,  43127,   1372,   1426,\n",
      "         1476,   1522,   1595,   1566,   1610,   1714,   1740,  58974,\n",
      "         1807,   1918,   1889,   2051,   1893,   2118,   2079,   2248,\n",
      "         2095,  72848,   2471,   2532,   2512,   2692,   2648,   2669,\n",
      "         2664,   2696,   2625,  88620,   2706,   2730,   2635,   2809,\n",
      "         2779,   2797,   2699,   2735,   2756,  92476,   2768,   2959,\n",
      "         2868,   2967,   3060,   2936,   2908,   2976,   2890,  99440,\n",
      "         3070,   3046,   3015,   3388,   3259,   3303,   3295,   3439,\n",
      "         3282, 109344,   3339,   3539,   3368,   3463,   3426,   3480,\n",
      "         3538,   3695,   3498, 116975,   3749,   3648,   3597,   3749,\n",
      "         3772,   3692,   3681,   3742,   3782, 120668,   3767,   3875,\n",
      "         3697,   3540,   3578,   3685,   3540,   3635,   3423, 114082,\n",
      "         3592,   3549,   3296,   3504,   3564,   3538,   3515,   3443,\n",
      "         3427, 109381,   3357,   3242,   3501,   3422,   3309,   3382,\n",
      "         3209,   3302,   3056,  99880,   3169,   3140,   3033,   3155,\n",
      "         3241,   3243,   2981,   3259,   3135, 100822,   3253,   3213,\n",
      "         3163,   3254,   3121,   3217,   3076,   3192,   3253, 101218,\n",
      "         3258,   3242,   3101,   3103,   3330,   3288,   3099,   3234,\n",
      "         3276, 104785,   3292,   3301,   3214,   3358,   3357,   3385,\n",
      "         3228,   3388,   3224, 106243,   3202,   3451,   3089,   3277,\n",
      "         3234,   3367,   3218,   3180,   3038, 104236,   3103,   3246,\n",
      "         3091,   3149,   3145,   3129,   3060,   2998,   2974,  98339,\n",
      "         2942,   3119,   2812,   3021,   2829,   2907,   2838,   2741,\n",
      "         2704,  87719,   2713,   2646,   2561,   2530,   2610,   2548,\n",
      "         2282,   2372,   2369,  74822,   2300,   2287,   2086,   2142,\n",
      "         2156,   2132,   2100,   1980,   1961,  61209,   1836,   1902,\n",
      "         1725,   1715,   1713,   1684,   1622,   1583,   1475,  46709,\n",
      "         1400,   1461,   1403,   1288,   1289,   1283,   1270,   1200,\n",
      "         1109,  34977,   1086,    997,   1000,    996,   1002,    962,\n",
      "          857,    874,    819,  26231,    808,    819,    719,    723,\n",
      "          706,    666,    649,    667,    602,  19283,    592,    560,\n",
      "          559,    545,    494,    506,    458,    468,    433,  14338,\n",
      "          444,    416,    416,    383,    353,    379,    348,    313,\n",
      "          345,  10350,    295,    309,    299,    266,    285,    265,\n",
      "          234,    256,    219,   7101,    229,    213,    173,    182,\n",
      "          185,    199,    172,    149,    155,   4789,    148,    150,\n",
      "          131,    123,    130,    100,    100,    120,     88,   2968,\n",
      "           90,     85,     68,     74,     75,     67,     67,     74,\n",
      "           51,   1671,     35,     42,     49,     42,     24,     44,\n",
      "           31,     36,     25,    875,     15,     19,     23,     24,\n",
      "           19,     20,     12,     11,     10,    340,      6,     11,\n",
      "            7,      4,      5,      4,      4,      5,      2,    102,\n",
      "            1,      2,      6,      2,      2,      2,      1,      1,\n",
      "           37,      1,      1,      1,      1,     10,      1,      1,\n",
      "            1,      1,      4,      2,      1,      3,      4,      9,\n",
      "            6,      1,      1,      1,      4,      3,      3,      1,\n",
      "            1,      1,      4,      1,      1,      2,      2,      3,\n",
      "            1,      2,  51815]))\n",
      "------------------------\n",
      "------------------------\n",
      "------------------------\n",
      "------------------------\n",
      "Pressure\n"
     ]
    },
    {
     "name": "stdout",
     "output_type": "stream",
     "text": [
      "(array([ 951.9,  953.3,  955.5,  956.2,  956.4,  956.6,  957.6,  957.7,\n",
      "        958.1,  959.3,  959.7,  959.8,  960. ,  960.2,  960.4,  960.6,\n",
      "        960.7,  960.8,  960.9,  961. ,  961.1,  961.3,  961.4,  961.6,\n",
      "        961.7,  961.8,  962. ,  962.1,  962.2,  962.3,  962.4,  962.6,\n",
      "        962.7,  962.8,  962.9,  963. ,  963.1,  963.2,  963.3,  963.4,\n",
      "        963.5,  963.6,  963.7,  963.8,  963.9,  964. ,  964.1,  964.2,\n",
      "        964.3,  964.4,  964.5,  964.6,  964.7,  964.8,  964.9,  965. ,\n",
      "        965.1,  965.2,  965.3,  965.4,  965.6,  965.7,  965.8,  965.9,\n",
      "        966. ,  966.1,  966.2,  966.3,  966.4,  966.5,  966.6,  966.7,\n",
      "        966.8,  966.9,  967. ,  967.1,  967.2,  967.3,  967.4,  967.5,\n",
      "        967.6,  967.7,  967.8,  967.9,  968. ,  968.1,  968.2,  968.3,\n",
      "        968.4,  968.5,  968.6,  968.7,  968.8,  968.9,  969. ,  969.1,\n",
      "        969.2,  969.3,  969.4,  969.5,  969.6,  969.7,  969.8,  969.9,\n",
      "        970. ,  970.1,  970.2,  970.3,  970.4,  970.5,  970.6,  970.7,\n",
      "        970.8,  970.9,  971. ,  971.1,  971.2,  971.3,  971.4,  971.5,\n",
      "        971.6,  971.7,  971.8,  971.9,  972. ,  972.1,  972.2,  972.3,\n",
      "        972.4,  972.5,  972.6,  972.7,  972.8,  972.9,  973. ,  973.1,\n",
      "        973.2,  973.3,  973.4,  973.5,  973.6,  973.7,  973.8,  973.9,\n",
      "        974. ,  974.1,  974.2,  974.3,  974.4,  974.5,  974.6,  974.7,\n",
      "        974.8,  974.9,  975. ,  975.1,  975.2,  975.3,  975.4,  975.5,\n",
      "        975.6,  975.7,  975.8,  975.9,  976. ,  976.1,  976.2,  976.3,\n",
      "        976.4,  976.5,  976.6,  976.7,  976.8,  976.9,  977. ,  977.1,\n",
      "        977.2,  977.3,  977.4,  977.5,  977.6,  977.7,  977.8,  977.9,\n",
      "        978. ,  978.1,  978.2,  978.3,  978.4,  978.5,  978.6,  978.7,\n",
      "        978.8,  978.9,  979. ,  979.1,  979.2,  979.3,  979.4,  979.5,\n",
      "        979.6,  979.7,  979.8,  979.9,  980. ,  980.1,  980.2,  980.3,\n",
      "        980.4,  980.5,  980.6,  980.7,  980.8,  980.9,  981. ,  981.1,\n",
      "        981.2,  981.3,  981.4,  981.5,  981.6,  981.7,  981.8,  981.9,\n",
      "        982. ,  982.1,  982.2,  982.3,  982.4,  982.5,  982.6,  982.7,\n",
      "        982.8,  982.9,  983. ,  983.1,  983.2,  983.3,  983.4,  983.5,\n",
      "        983.6,  983.7,  983.8,  983.9,  984. ,  984.1,  984.2,  984.3,\n",
      "        984.4,  984.5,  984.6,  984.7,  984.8,  984.9,  985. ,  985.1,\n",
      "        985.2,  985.3,  985.4,  985.5,  985.6,  985.7,  985.8,  985.9,\n",
      "        986. ,  986.1,  986.2,  986.3,  986.4,  986.5,  986.6,  986.7,\n",
      "        986.8,  986.9,  987. ,  987.1,  987.2,  987.3,  987.4,  987.5,\n",
      "        987.6,  987.7,  987.8,  987.9,  988. ,  988.1,  988.2,  988.3,\n",
      "        988.4,  988.5,  988.6,  988.7,  988.8,  988.9,  989. ,  989.1,\n",
      "        989.2,  989.3,  989.4,  989.5,  989.6,  989.7,  989.8,  989.9,\n",
      "        990. ,  990.1,  990.2,  990.3,  990.4,  990.5,  990.6,  990.7,\n",
      "        990.8,  990.9,  991. ,  991.1,  991.2,  991.3,  991.4,  991.5,\n",
      "        991.6,  991.7,  991.8,  991.9,  992. ,  992.1,  992.2,  992.3,\n",
      "        992.4,  992.5,  992.6,  992.7,  992.8,  992.9,  993. ,  993.1,\n",
      "        993.2,  993.3,  993.4,  993.5,  993.6,  993.7,  993.8,  993.9,\n",
      "        994. ,  994.1,  994.2,  994.3,  994.4,  994.5,  994.6,  994.7,\n",
      "        994.8,  994.9,  995. ,  995.1,  995.2,  995.3,  995.4,  995.5,\n",
      "        995.6,  995.7,  995.8,  995.9,  996. ,  996.1,  996.2,  996.3,\n",
      "        996.4,  996.5,  996.6,  996.7,  996.8,  996.9,  997. ,  997.1,\n",
      "        997.2,  997.3,  997.4,  997.5,  997.6,  997.7,  997.8,  997.9,\n",
      "        998. ,  998.1,  998.2,  998.3,  998.4,  998.5,  998.6,  998.7,\n",
      "        998.8,  998.9,  999.1,  999.2,  999.3,  999.4,  999.5,  999.6,\n",
      "        999.7,  999.8, 1000. , 1000.1, 1000.2, 1000.3, 1000.4, 1000.5,\n",
      "       1000.6, 1000.7, 1000.8, 1000.9, 1001. , 1001.1, 1001.2, 1001.3,\n",
      "       1001.4, 1001.5, 1001.6, 1001.7, 1001.8, 1001.9, 1002. , 1002.1,\n",
      "       1002.2, 1002.3, 1002.4, 1002.5, 1002.6, 1002.7, 1002.8, 1002.9,\n",
      "       1003. , 1003.1, 1003.2, 1003.3, 1003.4, 1003.5, 1003.6, 1003.7,\n",
      "       1003.8, 1003.9, 1004. , 1004.1, 1004.2, 1004.3, 1004.4, 1004.5,\n",
      "       1004.6, 1004.7, 1004.8, 1004.9, 1005. , 1005.1, 1005.2, 1005.3,\n",
      "       1005.4, 1005.5, 1005.6, 1005.7, 1005.8, 1005.9, 1006. , 1006.1,\n",
      "       1006.2, 1006.3, 1006.4, 1006.5, 1006.6, 1006.7, 1006.8, 1006.9,\n",
      "       1007. , 1007.1, 1007.2, 1007.3, 1007.4, 1007.5, 1007.6, 1007.7,\n",
      "       1007.8, 1007.9, 1008. , 1008.1, 1008.2, 1008.3, 1008.4, 1008.5,\n",
      "       1008.6, 1008.7, 1008.8, 1008.9, 1009. , 1009.1, 1009.2, 1009.3,\n",
      "       1009.4, 1009.5, 1009.6, 1009.7, 1009.8, 1009.9, 1010. , 1010.1,\n",
      "       1010.2, 1010.3, 1010.4, 1010.5, 1010.6, 1010.7, 1010.8, 1010.9,\n",
      "       1011. , 1011.1, 1011.2, 1011.3, 1011.4, 1011.5, 1011.6, 1011.7,\n",
      "       1011.8, 1011.9, 1012. , 1012.1, 1012.2, 1012.3, 1012.4, 1012.5,\n",
      "       1012.6, 1012.7, 1012.8, 1012.9, 1013. , 1013.1, 1013.2, 1013.3,\n",
      "       1013.4, 1013.5, 1013.6, 1013.7, 1013.8, 1013.9, 1014. , 1014.1,\n",
      "       1014.2, 1014.3, 1014.4, 1014.5, 1014.6, 1014.7, 1014.8, 1014.9,\n",
      "       1015. , 1015.1, 1015.2, 1015.3, 1015.4, 1015.5, 1015.6, 1015.7,\n",
      "       1015.8, 1015.9, 1016. , 1016.1, 1016.2, 1016.3, 1016.4, 1016.5,\n",
      "       1016.6, 1016.7, 1016.8, 1016.9, 1017. , 1017.1, 1017.2, 1017.3,\n",
      "       1017.4, 1017.5, 1017.6, 1017.7, 1017.8, 1017.9, 1018. , 1018.1,\n",
      "       1018.2, 1018.3, 1018.4, 1018.5, 1018.6, 1018.7, 1018.8, 1018.9,\n",
      "       1019. , 1019.1, 1019.2, 1019.3, 1019.4, 1019.5, 1019.6, 1019.7,\n",
      "       1019.8, 1019.9, 1020. , 1020.1, 1020.2, 1020.3, 1020.4, 1020.5,\n",
      "       1020.6, 1020.7, 1020.8, 1020.9, 1021. , 1021.1, 1021.2, 1021.3,\n",
      "       1021.4, 1021.5, 1021.6, 1021.7, 1021.8, 1021.9, 1022. , 1022.1,\n",
      "       1022.2, 1022.3, 1022.4, 1022.5, 1022.6, 1022.7, 1022.8, 1022.9,\n",
      "       1023. , 1023.1, 1023.2, 1023.3, 1023.4, 1023.5, 1023.6, 1023.7,\n",
      "       1023.8, 1023.9, 1024. , 1024.1, 1024.2, 1024.3, 1024.4, 1024.5,\n",
      "       1024.6, 1024.7, 1024.8, 1024.9, 1025. , 1025.1, 1025.2, 1025.3,\n",
      "       1025.4, 1025.5, 1025.6, 1025.7, 1025.8, 1025.9, 1026. , 1026.1,\n",
      "       1026.2, 1026.3, 1026.4, 1026.5, 1026.6, 1026.7, 1026.8, 1026.9,\n",
      "       1027. , 1027.1, 1027.2, 1027.3, 1027.4, 1027.5, 1027.6, 1027.7,\n",
      "       1027.8, 1027.9, 1028. , 1028.1, 1028.2, 1028.3, 1028.4, 1028.5,\n",
      "       1028.6, 1028.7, 1028.8, 1028.9, 1029. , 1029.1, 1029.2, 1029.3,\n",
      "       1029.4, 1029.5, 1029.6, 1029.7, 1029.8, 1029.9, 1030. , 1030.1,\n",
      "       1030.2, 1030.3, 1030.4, 1030.5, 1030.6, 1030.7, 1030.8, 1030.9,\n",
      "       1031. , 1031.1, 1031.2, 1031.3, 1031.4, 1031.5, 1031.6, 1031.7,\n",
      "       1031.8, 1031.9, 1032. , 1032.1, 1032.2, 1032.3, 1032.4, 1032.5,\n",
      "       1032.6, 1032.7, 1032.8, 1032.9, 1033. , 1033.1, 1033.2, 1033.3,\n",
      "       1033.4, 1033.5, 1033.6, 1033.7, 1033.8, 1033.9, 1034. , 1034.1,\n",
      "       1034.2, 1034.3, 1034.4, 1034.5, 1034.6, 1034.7, 1034.8, 1034.9,\n",
      "       1035. , 1035.1, 1035.2, 1035.3, 1035.4, 1035.5, 1035.6, 1035.7,\n",
      "       1035.8, 1035.9, 1036. , 1036.1, 1036.2, 1036.3, 1036.4, 1036.5,\n",
      "       1036.6, 1036.7, 1036.8, 1036.9, 1037. , 1037.1, 1037.2, 1037.3,\n",
      "       1037.4, 1037.5, 1037.6, 1037.7, 1037.8, 1037.9, 1038. , 1038.1,\n",
      "       1038.2, 1038.3, 1038.4, 1038.5, 1038.6, 1038.7, 1038.8, 1038.9,\n",
      "       1039. , 1039.1, 1039.2, 1039.3, 1039.4, 1039.5, 1039.6, 1039.7,\n",
      "       1039.8, 1039.9, 1040. , 1040.1, 1040.2, 1040.3, 1040.4, 1040.5,\n",
      "       1040.6, 1040.7, 1040.8, 1040.9, 1041. , 1041.1, 1041.2, 1041.3,\n",
      "       1041.4, 1041.5, 1041.6, 1041.7, 1041.8, 1041.9, 1042. , 1042.1,\n",
      "       1042.2, 1042.3, 1042.4, 1042.5, 1042.6, 1042.7, 1042.8, 1042.9,\n",
      "       1043. , 1043.1, 1043.2, 1043.3, 1043.4, 1043.5, 1043.6, 1043.7,\n",
      "       1043.8, 1043.9, 1044. , 1044.1, 1044.2, 1044.3, 1044.4, 1044.5,\n",
      "       1044.6, 1044.7, 1044.8, 1044.9, 1045. , 1045.1, 1045.2, 1045.3,\n",
      "       1045.4, 1045.5, 1045.6, 1045.7, 1045.8, 1045.9, 1046. , 1046.1,\n",
      "       1046.2, 1046.3, 1046.4, 1046.5, 1046.6, 1046.7, 1046.8, 1046.9,\n",
      "       1047. , 1047.1, 1047.2, 1047.3, 1047.4, 1047.5, 1047.6, 1047.7,\n",
      "       1047.8, 1047.9, 1048. , 1048.1, 1048.2, 1048.3, 1048.4, 1048.5,\n",
      "       1048.6, 1048.7, 1048.8, 1048.9, 1049. , 1049.1, 1049.2, 1049.3,\n",
      "       1049.4, 1049.5, 1049.6, 1049.8, 1049.9, 1050. , 1050.1, 1050.2,\n",
      "       1050.5, 1050.6, 1050.8,    nan]), array([      1,       1,       1,       1,       2,       1,       1,\n",
      "             1,       1,       1,       1,       1,       2,       2,\n",
      "             1,       2,       1,       1,       2,       1,       1,\n",
      "             1,       1,       2,       1,       3,       2,       1,\n",
      "             2,       2,       2,       4,       3,       2,       3,\n",
      "             3,       3,       1,       3,       5,       1,       2,\n",
      "             5,       1,       4,       3,       1,       2,       3,\n",
      "             4,       2,       7,       2,       6,       2,       3,\n",
      "             6,       1,      10,       6,       2,       5,       3,\n",
      "             4,       7,       2,       4,       4,       6,       5,\n",
      "             1,       5,       6,       6,       3,       6,       3,\n",
      "            10,       4,       7,      11,       7,       1,       1,\n",
      "             8,       5,       2,       6,       5,      10,       7,\n",
      "             5,       5,       4,       5,       7,       9,      10,\n",
      "             6,      11,      12,       3,       8,       9,      14,\n",
      "             6,       9,      14,      15,      11,      10,       8,\n",
      "            10,      10,       9,      10,      18,      29,      14,\n",
      "            15,      12,      16,      15,      10,      12,      10,\n",
      "            15,      30,      21,      11,      19,      19,      21,\n",
      "            23,      18,      27,      21,      16,      40,      27,\n",
      "            21,      23,      24,      25,      23,      21,      23,\n",
      "            20,      51,      45,      28,      25,      34,      29,\n",
      "            19,      29,      32,      34,      56,      50,      36,\n",
      "            35,      24,      24,      34,      34,      25,      41,\n",
      "            48,      63,      38,      31,      29,      32,      37,\n",
      "            42,      36,      40,      50,     109,      43,      51,\n",
      "            48,      33,      36,      44,      57,      61,      62,\n",
      "           115,      39,      54,      48,      56,      43,      42,\n",
      "            52,      51,      43,     117,     134,      85,      78,\n",
      "            56,      72,      64,      59,      73,      58,     111,\n",
      "           148,      99,      82,      72,      82,      91,      85,\n",
      "            94,      89,     147,     150,     101,     103,      89,\n",
      "            94,      80,      93,      90,      99,     139,     198,\n",
      "           127,     128,     119,     107,     112,     113,     138,\n",
      "           119,     157,     258,     167,     145,     133,     123,\n",
      "           114,     136,     138,     128,     204,     284,     190,\n",
      "           129,     138,     156,     151,     170,     167,     165,\n",
      "           211,     308,     223,     161,     170,     175,     165,\n",
      "           178,     192,     185,     216,     255,     375,     176,\n",
      "           217,     191,     199,     196,     213,     196,     209,\n",
      "           303,     409,     244,     223,     211,     241,     223,\n",
      "           213,     212,     270,     345,     515,     325,     259,\n",
      "           269,     255,     280,     280,     282,     284,     354,\n",
      "           599,     410,     288,     266,     305,     314,     475,\n",
      "           665,     427,     339,     342,     324,     373,     335,\n",
      "           389,     344,     462,     865,     540,     477,     387,\n",
      "           358,     394,     413,     362,     437,     468,     951,\n",
      "           694,     531,     485,     440,     464,     403,     415,\n",
      "           437,     499,     977,     708,     553,     533,     480,\n",
      "           539,     510,     531,     516,     593,    1101,     815,\n",
      "           615,     626,     529,     540,     566,     578,     649,\n",
      "           584,     972,    1071,     673,     661,     584,     617,\n",
      "           606,     650,     646,     711,     991,    1353,     853,\n",
      "           754,     695,     702,     709,     714,     812,     743,\n",
      "          1098,    1527,     946,     826,     855,     853,     885,\n",
      "           881,     833,     857,    1086,    1670,    1275,    1015,\n",
      "           881,     884,    1007,     991,     932,    1038,    1819,\n",
      "          1378,    1110,     990,    1052,    1052,    1034,    1015,\n",
      "          1179,    1972,    1523,    1255,    1057,     991,    1021,\n",
      "          1114,    1141,    1151,    1193,    2074,    1651,    1424,\n",
      "          1169,    1153,    1242,    1199,    1209,    1221,    1296,\n",
      "          1990,    2264,    1526,    1426,    1322,    1299,    1381,\n",
      "          1471,    1405,    1469,    2173,    2661,    1771,    1485,\n",
      "          1495,    1544,    1486,    1502,    1551,    1607,    2075,\n",
      "          2802,    2215,    1783,    1586,    1592,    1586,    1730,\n",
      "          1702,    1625,    2183,    3156,    2385,    1876,    1768,\n",
      "          1844,    1784,    1781,    1857,    1862,    2283,    3203,\n",
      "          2805,    2093,    1972,    1854,    1990,    2127,    1989,\n",
      "          2044,    2399,    3651,    3022,    2399,    2121,    2213,\n",
      "          2234,    2171,    2200,    2234,    2466,    3423,    3771,\n",
      "          2793,    2377,    2347,    2451,    2356,    2418,    2318,\n",
      "          2661,    3666,    4095,    2856,    2598,    2532,    2538,\n",
      "          2528,    2451,    2499,    2686,    3642,    4255,    2861,\n",
      "          2638,    2539,    2485,    2778,    3762,    4366,    3009,\n",
      "          2760,    2774,    2549,    2581,    2765,    2648,    2893,\n",
      "          3878,    4578,    3384,    2914,    2772,    2800,    2648,\n",
      "          2616,    2646,    2978,    3994,    4688,    3268,    2970,\n",
      "          2871,    2721,    2680,    2914,    2771,    2843,    3473,\n",
      "          4644,    3687,    3015,    2852,    2727,    2624,    2748,\n",
      "          2569,    2903,    3187,    4906,    3724,    3307,    2835,\n",
      "          2721,    2599,    2862,    2813,    2945,    3151,    4776,\n",
      "          4096,    3386,    2838,    2934,    2690,    2685,    2610,\n",
      "          2855,    3211,    4542,    4097,    3385,    2807,    2803,\n",
      "          2630,    2704,    2793,    2740,    2792,    3707,    4572,\n",
      "          3489,    2907,    2693,    2578,    2638,    2549,    2641,\n",
      "          2782,    3566,    4221,    3316,    2742,    2650,    2503,\n",
      "          2506,    2484,    2441,    2634,    3577,    4221,    3322,\n",
      "          2652,    2530,    2329,    2407,    2341,    2458,    2396,\n",
      "          2989,    3776,    3306,    2719,    2429,    2110,    2252,\n",
      "          2293,    2206,    2208,    2456,    3544,    3136,    2582,\n",
      "          2224,    1996,    1946,    1859,    2027,    1878,    2147,\n",
      "          2844,    2808,    2369,    1853,    1657,    1672,    1646,\n",
      "          1600,    1601,    1633,    2101,    2628,    2146,    1682,\n",
      "          1540,    1494,    1391,    1509,    1420,    1558,    1819,\n",
      "          2432,    2189,    1533,    1288,    1347,    1253,    1297,\n",
      "          1182,    1293,    1371,    2014,    1839,    1390,    1292,\n",
      "          1271,    1148,    1176,    1059,    1090,    1261,    1714,\n",
      "          1754,    1311,    1186,    1078,     998,    1073,     951,\n",
      "           967,    1032,    1302,    1370,    1192,    1063,     970,\n",
      "           923,     897,     879,     880,     859,    1000,    1180,\n",
      "          1086,     887,     881,     712,     784,     709,     728,\n",
      "           744,     901,    1027,     969,     773,     723,     626,\n",
      "           650,     641,     615,     611,     612,     777,    1047,\n",
      "           673,     642,     560,     556,     548,     747,     763,\n",
      "           649,     590,     499,     438,     530,     491,     472,\n",
      "           481,     619,     896,     582,     510,     433,     376,\n",
      "           428,     372,     391,     388,     492,     812,     498,\n",
      "           414,     329,     368,     332,     316,     304,     304,\n",
      "           365,     694,     383,     404,     295,     324,     328,\n",
      "           294,     278,     268,     312,     553,     293,     332,\n",
      "           247,     270,     237,     258,     203,     209,     276,\n",
      "           401,     247,     235,     156,     175,     186,     182,\n",
      "           184,     154,     176,     299,     181,     220,     189,\n",
      "           150,     142,     131,     128,     131,     148,     227,\n",
      "           178,     177,     170,     145,     165,     136,     127,\n",
      "           128,     112,     118,     181,     136,     126,      93,\n",
      "           126,     108,      99,      78,     117,     103,     144,\n",
      "           142,     109,      82,      82,      85,      93,      76,\n",
      "            73,      97,      93,     108,      84,      84,      68,\n",
      "            58,      52,      67,      68,      66,      65,      60,\n",
      "            52,      52,      41,      51,      45,      38,      36,\n",
      "            40,      36,      52,      31,      36,      44,      29,\n",
      "            26,      24,      27,      34,      27,      23,      26,\n",
      "            16,      31,      16,      22,      28,      33,      26,\n",
      "            24,      11,       7,      11,       9,      14,       2,\n",
      "            14,       4,       7,       2,       3,       5,       3,\n",
      "             2,       7,       2,       2,       4,       5,       7,\n",
      "             3,       1,       4,       1,       1,       2,       1,\n",
      "             2,       2,       3,       4,       3,       2,       1,\n",
      "             1,       1,       1,       1, 2091518]))\n",
      "------------------------\n",
      "------------------------\n",
      "------------------------\n",
      "------------------------\n",
      "WindSpeed\n",
      "(array([ 0. ,  0.5,  1. ,  1.5,  1.6,  1.7,  2. ,  2.1,  2.5,  2.6,  3. ,\n",
      "        3.1,  3.5,  3.6,  3.7,  4. ,  4.1,  4.2,  4.5,  4.6,  5. ,  5.1,\n",
      "        5.5,  5.6,  5.7,  6. ,  6.1,  6.2,  6.5,  6.6,  6.7,  7. ,  7.1,\n",
      "        7.2,  7.5,  7.6,  7.7,  8. ,  8.1,  8.2,  8.5,  8.6,  8.7,  8.8,\n",
      "        9. ,  9.1,  9.2,  9.3,  9.5,  9.6,  9.7,  9.8, 10. , 10.1, 10.2,\n",
      "       10.3, 10.5, 10.6, 10.7, 10.8, 11. , 11.1, 11.2, 11.3, 11.6, 11.7,\n",
      "       11.8, 12. , 12.1, 12.2, 12.3, 12.4, 12.6, 12.7, 12.8, 12.9, 13. ,\n",
      "       13.1, 13.2, 13.3, 13.4, 13.8, 13.9, 14. , 14.1, 14.4, 14.7, 14.9,\n",
      "       15. , 15.1, 15.4, 15.7, 15.9, 16. , 16.4, 16.5, 16.9, 17. , 17.4,\n",
      "       17.5, 18. , 18.5, 19. , 19.5, 19.6, 19.8, 20. , 20.1, 20.5, 20.6,\n",
      "       21. , 21.1, 21.6, 22. , 22.1, 22.6, 22.7, 23. , 23.1, 23.2, 23.6,\n",
      "       23.7, 24.1, 24.2, 24.7, 25. , 25.2, 25.7, 26.3, 26.7, 26.8, 27. ,\n",
      "       27.3, 28. , 28.3, 28.8, 29. , 29.3, 29.8, 29.9, 30.4, 30.8, 30.9,\n",
      "       31.4, 32.9, 33.4, 34.5, 39.1, 63.3,  nan]), array([ 77516,  61531, 114858, 147280,      1,      1,  17559, 175215,\n",
      "        18406, 196085,  20657, 219752,    316, 223108,      3,    511,\n",
      "       227588,      1,    154, 192750,    378, 201474,     73,  14268,\n",
      "       149754,    297,  19877, 144138,     19,  11530, 116380,    207,\n",
      "          146, 117315,      8,     90,  93554,    163,     87,  80026,\n",
      "            6,     48,  38535,  21406,    129,     44,   7590,  45614,\n",
      "            5,     18,   3083,  31552,     62,     26,   5843,  29095,\n",
      "            3,      5,     15,  20528,     31,     15,     12,  18045,\n",
      "           10,      8,  12051,     30,      6,      8,   6445,   3479,\n",
      "            2,      3,    977,   5707,     13,      1,      2,    723,\n",
      "         4574,    378,   2929,     15,      4,   2717,      3,   1599,\n",
      "           10,      1,   1587,      1,    536,    329,    254,    494,\n",
      "           60,    470,     25,    320,    314,    211,    135,     94,\n",
      "           46,      1,     42,     46,     45,     45,      1,     38,\n",
      "           44,      2,     23,      9,      5,      1,     18,      5,\n",
      "            5,      7,      2,     10,      6,      1,      4,      3,\n",
      "            3,      1,      5,      1,      1,      1,      3,      1,\n",
      "            1,      1,      1,      1,      1,      2,      2,      2,\n",
      "            1,      1,      2,      1,      1,   6397]))\n",
      "------------------------\n",
      "------------------------\n",
      "------------------------\n",
      "------------------------\n",
      "WindDir\n",
      "(array([ 10.,  20.,  24.,  30.,  35.,  40.,  50.,  57.,  60.,  70.,  80.,\n",
      "        90., 100., 110., 112., 118., 119., 120., 123., 129., 130., 135.,\n",
      "       140., 150., 160., 170., 178., 180., 181., 190., 199., 200., 210.,\n",
      "       211., 220., 221., 224., 229., 230., 239., 240., 250., 260., 270.,\n",
      "       280., 290., 299., 300., 310., 311., 320., 325., 330., 340., 345.,\n",
      "       350., 360.,  nan]), array([ 34197,  35550,      1,  37229,      1,  40480,  41515,      1,\n",
      "        45959,  51371,  58941,  70495,  81424,  92412,      1,      1,\n",
      "            1,  98075,      1,      1,  90031,      1,  73962,  66477,\n",
      "        62786,  67715,      1,  76206,      1,  85846,      1,  95286,\n",
      "       102397,      1, 113087,      1,      1,      1, 120516,      1,\n",
      "       137319, 148980, 149825, 143388, 133871, 114853,      1,  85878,\n",
      "        61571,      2,  47016,      1,  38601,  35844,      1,  33239,\n",
      "        33604, 112182]))\n",
      "------------------------\n",
      "------------------------\n",
      "------------------------\n",
      "------------------------\n"
     ]
    }
   ],
   "source": [
    "for col in weatherdata:\n",
    "    print(col)\n",
    "    print(np.unique(weatherdata[col], return_counts=True))\n",
    "    print(\"------------------------\")\n",
    "    print(\"------------------------\")\n",
    "    print(\"------------------------\")\n",
    "    print(\"------------------------\")"
   ]
  },
  {
   "cell_type": "markdown",
   "metadata": {},
   "source": [
    "# NaN values\n",
    "\n",
    "## City: 0 NaN values\n",
    "## DateTime: 0 NaN values\n",
    "## Temp : 51815 NaN values\n",
    "## Pressure: 2091518 Nan values\n",
    "## WindSpeed: 6397 NaN values\n",
    "## WindDir: 112182 NaN values"
   ]
  },
  {
   "cell_type": "code",
   "execution_count": null,
   "metadata": {
    "scrolled": false
   },
   "outputs": [],
   "source": []
  },
  {
   "cell_type": "code",
   "execution_count": null,
   "metadata": {
    "scrolled": false
   },
   "outputs": [],
   "source": []
  },
  {
   "cell_type": "code",
   "execution_count": null,
   "metadata": {
    "scrolled": false
   },
   "outputs": [],
   "source": []
  },
  {
   "cell_type": "code",
   "execution_count": null,
   "metadata": {
    "scrolled": false
   },
   "outputs": [],
   "source": []
  },
  {
   "cell_type": "code",
   "execution_count": null,
   "metadata": {
    "scrolled": false
   },
   "outputs": [],
   "source": []
  },
  {
   "cell_type": "markdown",
   "metadata": {},
   "source": [
    "# PLOT THE VARIABLE DISTRIBUTION"
   ]
  },
  {
   "cell_type": "code",
   "execution_count": 22,
   "metadata": {
    "scrolled": false
   },
   "outputs": [],
   "source": [
    "import matplotlib.pyplot as plt"
   ]
  },
  {
   "cell_type": "code",
   "execution_count": 31,
   "metadata": {
    "scrolled": false
   },
   "outputs": [
    {
     "data": {
      "text/plain": [
       "(array([1.30000e+01, 6.80000e+01, 3.86000e+02, 1.19400e+03, 2.11200e+03,\n",
       "        6.40300e+03, 1.44720e+04, 4.03910e+04, 7.38710e+04, 2.23841e+05,\n",
       "        3.52018e+05, 4.35965e+05, 3.09769e+05, 3.81439e+05, 3.93166e+05,\n",
       "        3.29317e+05, 1.84410e+05, 6.41800e+04, 3.94970e+04, 1.19700e+04,\n",
       "        1.72000e+03, 7.10000e+01, 1.10000e+01, 1.90000e+01, 3.00000e+00,\n",
       "        7.00000e+00, 6.00000e+00, 8.00000e+00, 5.00000e+00, 3.00000e+00]),\n",
       " array([-27.        , -24.23333333, -21.46666667, -18.7       ,\n",
       "        -15.93333333, -13.16666667, -10.4       ,  -7.63333333,\n",
       "         -4.86666667,  -2.1       ,   0.66666667,   3.43333333,\n",
       "          6.2       ,   8.96666667,  11.73333333,  14.5       ,\n",
       "         17.26666667,  20.03333333,  22.8       ,  25.56666667,\n",
       "         28.33333333,  31.1       ,  33.86666667,  36.63333333,\n",
       "         39.4       ,  42.16666667,  44.93333333,  47.7       ,\n",
       "         50.46666667,  53.23333333,  56.        ]),\n",
       " <BarContainer object of 30 artists>)"
      ]
     },
     "execution_count": 31,
     "metadata": {},
     "output_type": "execute_result"
    },
    {
     "data": {
      "image/png": "[encoded data removed]",
      "text/plain": [
       "<Figure size 640x480 with 1 Axes>"
      ]
     },
     "metadata": {},
     "output_type": "display_data"
    }
   ],
   "source": [
    "plt.hist(weatherdata['Temp'], bins=30)"
   ]
  },
  {
   "cell_type": "code",
   "execution_count": 32,
   "metadata": {
    "scrolled": false
   },
   "outputs": [
    {
     "data": {
      "text/plain": [
       "(array([2.00000e+00, 8.00000e+00, 2.10000e+01, 8.70000e+01, 1.57000e+02,\n",
       "        3.30000e+02, 7.63000e+02, 1.34000e+03, 2.56200e+03, 4.50500e+03,\n",
       "        6.98900e+03, 1.18880e+04, 1.82520e+04, 2.59530e+04, 3.52040e+04,\n",
       "        5.25360e+04, 7.02670e+04, 9.00800e+04, 1.04845e+05, 1.04203e+05,\n",
       "        9.66570e+04, 7.66200e+04, 5.14810e+04, 3.20350e+04, 1.92130e+04,\n",
       "        1.16400e+04, 5.38600e+03, 2.72800e+03, 8.04000e+02, 7.60000e+01]),\n",
       " array([ 951.9       ,  955.19666667,  958.49333333,  961.79      ,\n",
       "         965.08666667,  968.38333333,  971.68      ,  974.97666667,\n",
       "         978.27333333,  981.57      ,  984.86666667,  988.16333333,\n",
       "         991.46      ,  994.75666667,  998.05333333, 1001.35      ,\n",
       "        1004.64666667, 1007.94333333, 1011.24      , 1014.53666667,\n",
       "        1017.83333333, 1021.13      , 1024.42666667, 1027.72333333,\n",
       "        1031.02      , 1034.31666667, 1037.61333333, 1040.91      ,\n",
       "        1044.20666667, 1047.50333333, 1050.8       ]),\n",
       " <BarContainer object of 30 artists>)"
      ]
     },
     "execution_count": 32,
     "metadata": {},
     "output_type": "execute_result"
    },
    {
     "data": {
      "image/png": "[encoded data removed]",
      "text/plain": [
       "<Figure size 640x480 with 1 Axes>"
      ]
     },
     "metadata": {},
     "output_type": "display_data"
    }
   ],
   "source": [
    "plt.hist(weatherdata['Pressure'], bins=30)"
   ]
  },
  {
   "cell_type": "code",
   "execution_count": 41,
   "metadata": {
    "scrolled": false
   },
   "outputs": [
    {
     "data": {
      "text/plain": [
       "(array([4.01185e+05, 6.47676e+05, 6.44431e+05, 5.30259e+05, 3.39249e+05,\n",
       "        1.93648e+05, 9.02660e+04, 4.01110e+04, 1.53260e+04, 5.91800e+03,\n",
       "        2.16800e+03, 8.45000e+02, 4.09000e+02, 1.53000e+02, 5.00000e+01,\n",
       "        2.30000e+01, 1.20000e+01, 6.00000e+00, 5.00000e+00, 7.00000e+00,\n",
       "        1.00000e+00, 3.00000e+00, 0.00000e+00, 0.00000e+00, 1.00000e+00,\n",
       "        0.00000e+00, 0.00000e+00, 0.00000e+00, 0.00000e+00, 0.00000e+00,\n",
       "        0.00000e+00, 0.00000e+00, 0.00000e+00, 0.00000e+00, 0.00000e+00,\n",
       "        0.00000e+00, 0.00000e+00, 0.00000e+00, 0.00000e+00, 1.00000e+00]),\n",
       " array([ 0.    ,  1.5825,  3.165 ,  4.7475,  6.33  ,  7.9125,  9.495 ,\n",
       "        11.0775, 12.66  , 14.2425, 15.825 , 17.4075, 18.99  , 20.5725,\n",
       "        22.155 , 23.7375, 25.32  , 26.9025, 28.485 , 30.0675, 31.65  ,\n",
       "        33.2325, 34.815 , 36.3975, 37.98  , 39.5625, 41.145 , 42.7275,\n",
       "        44.31  , 45.8925, 47.475 , 49.0575, 50.64  , 52.2225, 53.805 ,\n",
       "        55.3875, 56.97  , 58.5525, 60.135 , 61.7175, 63.3   ]),\n",
       " <BarContainer object of 40 artists>)"
      ]
     },
     "execution_count": 41,
     "metadata": {},
     "output_type": "execute_result"
    },
    {
     "data": {
      "image/png": "[encoded data removed]",
      "text/plain": [
       "<Figure size 640x480 with 1 Axes>"
      ]
     },
     "metadata": {},
     "output_type": "display_data"
    }
   ],
   "source": [
    "plt.hist(weatherdata['WindSpeed'], bins=40)"
   ]
  },
  {
   "cell_type": "code",
   "execution_count": 36,
   "metadata": {
    "scrolled": false
   },
   "outputs": [
    {
     "data": {
      "text/plain": [
       "(array([ 69747.,  37230.,  40481.,  41515.,  45960.,  51371., 129436.,\n",
       "         81424.,  92413.,  98078.,  90033.,  73962., 129263.,  67715.,\n",
       "         76208.,  85846.,  95287., 102398., 233606., 137320., 148980.,\n",
       "        149825., 143388., 133871., 200732.,  61573.,  47016.,  38602.,\n",
       "         35845.,  66843.]),\n",
       " array([ 10.        ,  21.66666667,  33.33333333,  45.        ,\n",
       "         56.66666667,  68.33333333,  80.        ,  91.66666667,\n",
       "        103.33333333, 115.        , 126.66666667, 138.33333333,\n",
       "        150.        , 161.66666667, 173.33333333, 185.        ,\n",
       "        196.66666667, 208.33333333, 220.        , 231.66666667,\n",
       "        243.33333333, 255.        , 266.66666667, 278.33333333,\n",
       "        290.        , 301.66666667, 313.33333333, 325.        ,\n",
       "        336.66666667, 348.33333333, 360.        ]),\n",
       " <BarContainer object of 30 artists>)"
      ]
     },
     "execution_count": 36,
     "metadata": {},
     "output_type": "execute_result"
    },
    {
     "data": {
      "image/png": "[encoded data removed]",
      "text/plain": [
       "<Figure size 640x480 with 1 Axes>"
      ]
     },
     "metadata": {},
     "output_type": "display_data"
    }
   ],
   "source": [
    "plt.hist(weatherdata['WindDir'], bins=30)"
   ]
  },
  {
   "cell_type": "code",
   "execution_count": null,
   "metadata": {
    "scrolled": false
   },
   "outputs": [],
   "source": []
  },
  {
   "cell_type": "code",
   "execution_count": null,
   "metadata": {
    "scrolled": false
   },
   "outputs": [],
   "source": []
  },
  {
   "cell_type": "code",
   "execution_count": null,
   "metadata": {
    "scrolled": false
   },
   "outputs": [],
   "source": []
  },
  {
   "cell_type": "code",
   "execution_count": null,
   "metadata": {
    "scrolled": false
   },
   "outputs": [],
   "source": []
  },
  {
   "cell_type": "code",
   "execution_count": null,
   "metadata": {
    "scrolled": false
   },
   "outputs": [],
   "source": []
  },
  {
   "cell_type": "code",
   "execution_count": null,
   "metadata": {
    "scrolled": false
   },
   "outputs": [],
   "source": []
  },
  {
   "cell_type": "code",
   "execution_count": null,
   "metadata": {
    "scrolled": false
   },
   "outputs": [],
   "source": []
  },
  {
   "cell_type": "code",
   "execution_count": null,
   "metadata": {
    "scrolled": false
   },
   "outputs": [],
   "source": []
  },
  {
   "cell_type": "code",
   "execution_count": null,
   "metadata": {
    "scrolled": false
   },
   "outputs": [],
   "source": []
  },
  {
   "cell_type": "markdown",
   "metadata": {
    "id": "ZYcAldYgeOmq"
   },
   "source": [
    "## 2.2 - Interacting with a server to query a subset of some data bank\n",
    "\n",
    "We will now learn how to query a data bank to retrieve only the relevant proportion data for a task. We will be using the World Bank Data API to access World's renewable energy consumtpion data. \n",
    "\n",
    "\n"
   ]
  },
  {
   "cell_type": "markdown",
   "metadata": {
    "id": "Pz0G-PnEllEE"
   },
   "source": [
    "You first need to install the World Bank API. In a terminal, run the following command:\n",
    "\n",
    "``>> pip install wbdata``\n",
    "\n"
   ]
  },
  {
   "cell_type": "code",
   "execution_count": 2,
   "metadata": {
    "colab": {
     "base_uri": "https://localhost:8080/",
     "height": 230
    },
    "executionInfo": {
     "elapsed": 5409,
     "status": "ok",
     "timestamp": 1603899607656,
     "user": {
      "displayName": "Sephora Madjiheurem",
      "photoUrl": "https://lh3.googleusercontent.com/a-/AOh14GgieP2Hh5x42748iuuSEnAl8BYCWGSmOzJ-ypgSaQ=s64",
      "userId": "05055971560005673839"
     },
     "user_tz": 0
    },
    "id": "pKP6WMKA3YTH",
    "outputId": "b822a83a-4f1f-4ef3-88e6-ada5dc8e99a5",
    "scrolled": false
   },
   "outputs": [],
   "source": [
    "#%pip install wbdata"
   ]
  },
  {
   "cell_type": "code",
   "execution_count": 3,
   "metadata": {
    "cellView": "form",
    "executionInfo": {
     "elapsed": 496,
     "status": "ok",
     "timestamp": 1603899609741,
     "user": {
      "displayName": "Sephora Madjiheurem",
      "photoUrl": "https://lh3.googleusercontent.com/a-/AOh14GgieP2Hh5x42748iuuSEnAl8BYCWGSmOzJ-ypgSaQ=s64",
      "userId": "05055971560005673839"
     },
     "user_tz": 0
    },
    "id": "TpOO5F8YkxyR",
    "scrolled": false
   },
   "outputs": [],
   "source": [
    "#@title Imports\n",
    "import wbdata as wb\n",
    "import datetime"
   ]
  },
  {
   "cell_type": "markdown",
   "metadata": {
    "id": "7OJzq_rWmGa-"
   },
   "source": [
    "### - Query the World Bank\n",
    "\n",
    "* **_[TO DO]_**: Use the wbdata to retrieve renewable energy consumption data of all countries in 2015.\n",
    "\n",
    "Hint: [wbdata documentation](https://wbdata.readthedocs.io/en/stable/)"
   ]
  },
  {
   "cell_type": "code",
   "execution_count": 4,
   "metadata": {
    "id": "RXwfBzicmFO3",
    "scrolled": false
   },
   "outputs": [
    {
     "data": {
      "text/plain": [
       "  id  name\n",
       "----  --------------------------------------------------------------------\n",
       "   1  Doing Business\n",
       "   2  World Development Indicators\n",
       "   3  Worldwide Governance Indicators\n",
       "   5  Subnational Malnutrition Database\n",
       "   6  International Debt Statistics\n",
       "  11  Africa Development Indicators\n",
       "  12  Education Statistics\n",
       "  13  Enterprise Surveys\n",
       "  14  Gender Statistics\n",
       "  15  Global Economic Monitor\n",
       "  16  Health Nutrition and Population Statistics\n",
       "  18  IDA Results Measurement System\n",
       "  19  Millennium Development Goals\n",
       "  20  Quarterly Public Sector Debt\n",
       "  22  Quarterly External Debt Statistics SDDS\n",
       "  23  Quarterly External Debt Statistics GDDS\n",
       "  25  Jobs\n",
       "  27  Global Economic Prospects\n",
       "  28  Global Financial Inclusion\n",
       "  29  The Atlas of Social Protection: Indicators of Resilience and Equity\n",
       "  30  Exporter Dynamics Database – Indicators at Country-Year Level\n",
       "  31  Country Policy and Institutional Assessment\n",
       "  32  Global Financial Development\n",
       "  33  G20 Financial Inclusion Indicators\n",
       "  34  Global Partnership for Education\n",
       "  35  Sustainable Energy for All\n",
       "  36  Statistical Capacity Indicators\n",
       "  37  LAC Equity Lab\n",
       "  38  Subnational Poverty\n",
       "  39  Health Nutrition and Population Statistics by Wealth Quintile\n",
       "  40  Population estimates and projections\n",
       "  41  Country Partnership Strategy for India (FY2013 - 17)\n",
       "  43  Adjusted Net Savings\n",
       "  45  Indonesia Database for Policy and Economic Research\n",
       "  46  Sustainable Development Goals\n",
       "  50  Subnational Population\n",
       "  54  Joint External Debt Hub\n",
       "  57  WDI Database Archives\n",
       "  58  Universal Health Coverage\n",
       "  59  Wealth Accounts\n",
       "  60  Economic Fitness\n",
       "  61  PPPs Regulatory Quality\n",
       "  62  International Comparison Program (ICP) 2011\n",
       "  63  Human Capital Index\n",
       "  64  Worldwide Bureaucracy Indicators\n",
       "  65  Health Equity and Financial Protection Indicators\n",
       "  66  Logistics Performance Index\n",
       "  67  PEFA 2011\n",
       "  68  PEFA 2016\n",
       "  69  Global Financial Inclusion and Consumer Protection Survey\n",
       "  70  Economic Fitness 2\n",
       "  71  International Comparison Program (ICP) 2005\n",
       "  73  Global Financial Inclusion and Consumer Protection Survey (Internal)\n",
       "  75  Environment, Social and Governance (ESG) Data\n",
       "  76  Remittance Prices Worldwide (Sending Countries)\n",
       "  77  Remittance Prices Worldwide (Receiving Countries)\n",
       "  78  ICP 2017\n",
       "  79  PEFA_GRPFM\n",
       "  80  Gender Disaggregated Labor Database (GDLD)\n",
       "  81  International Debt Statistics: DSSI\n",
       "  82  Global Public Procurement\n",
       "  83  Statistical Performance Indicators (SPI)\n",
       "  84  Education Policy\n",
       "  85  PEFA_2021_SNG\n",
       "  86  Global Jobs Indicators Database (JOIN)\n",
       "  87  Country Climate and Development Report (CCDR)\n",
       "  88  Food Prices for Nutrition"
      ]
     },
     "execution_count": 4,
     "metadata": {},
     "output_type": "execute_result"
    }
   ],
   "source": [
    "### TODO\n",
    "wb.get_source() "
   ]
  },
  {
   "cell_type": "code",
   "execution_count": 5,
   "metadata": {
    "scrolled": false
   },
   "outputs": [
    {
     "data": {
      "text/plain": [
       "id                              name\n",
       "------------------------------  --------------------------------------------------------------------------\n",
       "1.1_ACCESS.ELECTRICITY.TOT      Access to electricity (% of total population)\n",
       "1.1_TOTAL.FINAL.ENERGY.CONSUM   Total final energy consumption (TFEC)\n",
       "1.2_ACCESS.ELECTRICITY.RURAL    Access to electricity (% of rural population)\n",
       "1.3_ACCESS.ELECTRICITY.URBAN    Access to electricity (% of urban population)\n",
       "2.1_ACCESS.CFT.TOT              Access to Clean Fuels and Technologies for cooking (% of total population)\n",
       "2.1_SHARE.TOTAL.RE.IN.TFEC      Renewable energy consumption(% in TFEC)\n",
       "3.1_RE.CONSUMPTION              Renewable energy consumption (TJ)\n",
       "4.1.1_TOTAL.ELECTRICITY.OUTPUT  Total electricity output (GWh)\n",
       "4.1.2_REN.ELECTRICITY.OUTPUT    Renewable energy electricity output (GWh)\n",
       "4.1_SHARE.RE.IN.ELECTRICITY     Renewable electricity (% in total electricity output)\n",
       "6.1_PRIMARY.ENERGY.INTENSITY    Energy intensity level of primary energy (MJ/$2005 PPP)"
      ]
     },
     "execution_count": 5,
     "metadata": {},
     "output_type": "execute_result"
    }
   ],
   "source": [
    "wb.get_indicator(source=35)  "
   ]
  },
  {
   "cell_type": "code",
   "execution_count": 6,
   "metadata": {
    "scrolled": false
   },
   "outputs": [],
   "source": [
    "import datetime "
   ]
  },
  {
   "cell_type": "code",
   "execution_count": 7,
   "metadata": {
    "scrolled": false
   },
   "outputs": [
    {
     "data": {
      "text/plain": [
       "function"
      ]
     },
     "execution_count": 7,
     "metadata": {},
     "output_type": "execute_result"
    }
   ],
   "source": [
    "type(wb.get_data)"
   ]
  },
  {
   "cell_type": "code",
   "execution_count": 8,
   "metadata": {
    "scrolled": false
   },
   "outputs": [],
   "source": [
    "##data_date = datetime.datetime(2015, 1, 1), datetime.datetime(2015, 12, 31) \n",
    "data_date = (datetime.datetime(2015,1,1), datetime.datetime(2015,12,31))\n",
    "#data_date = datetime.datetime(2015,1,1)\n",
    "\n",
    "tj_2015=wb.get_data(\"3.1_RE.CONSUMPTION\", data_date=data_date)"
   ]
  },
  {
   "cell_type": "code",
   "execution_count": null,
   "metadata": {
    "scrolled": false
   },
   "outputs": [],
   "source": []
  },
  {
   "cell_type": "code",
   "execution_count": null,
   "metadata": {
    "scrolled": false
   },
   "outputs": [],
   "source": []
  },
  {
   "cell_type": "markdown",
   "metadata": {},
   "source": [
    "### - Undestanding the data\n",
    "\n",
    "* **_[TO DO]_**: Display different data points "
   ]
  },
  {
   "cell_type": "code",
   "execution_count": 9,
   "metadata": {
    "scrolled": false
   },
   "outputs": [],
   "source": [
    "### TODO"
   ]
  },
  {
   "cell_type": "code",
   "execution_count": 10,
   "metadata": {
    "scrolled": true
   },
   "outputs": [
    {
     "name": "stdout",
     "output_type": "stream",
     "text": [
      "dict_keys(['indicator', 'country', 'countryiso3code', 'date', 'value', 'unit', 'obs_status', 'decimal'])\n",
      "dict_keys(['indicator', 'country', 'countryiso3code', 'date', 'value', 'unit', 'obs_status', 'decimal'])\n",
      "dict_keys(['indicator', 'country', 'countryiso3code', 'date', 'value', 'unit', 'obs_status', 'decimal'])\n",
      "dict_keys(['indicator', 'country', 'countryiso3code', 'date', 'value', 'unit', 'obs_status', 'decimal'])\n",
      "dict_keys(['indicator', 'country', 'countryiso3code', 'date', 'value', 'unit', 'obs_status', 'decimal'])\n",
      "dict_keys(['indicator', 'country', 'countryiso3code', 'date', 'value', 'unit', 'obs_status', 'decimal'])\n",
      "dict_keys(['indicator', 'country', 'countryiso3code', 'date', 'value', 'unit', 'obs_status', 'decimal'])\n",
      "dict_keys(['indicator', 'country', 'countryiso3code', 'date', 'value', 'unit', 'obs_status', 'decimal'])\n",
      "dict_keys(['indicator', 'country', 'countryiso3code', 'date', 'value', 'unit', 'obs_status', 'decimal'])\n",
      "dict_keys(['indicator', 'country', 'countryiso3code', 'date', 'value', 'unit', 'obs_status', 'decimal'])\n",
      "dict_keys(['indicator', 'country', 'countryiso3code', 'date', 'value', 'unit', 'obs_status', 'decimal'])\n",
      "dict_keys(['indicator', 'country', 'countryiso3code', 'date', 'value', 'unit', 'obs_status', 'decimal'])\n",
      "dict_keys(['indicator', 'country', 'countryiso3code', 'date', 'value', 'unit', 'obs_status', 'decimal'])\n",
      "dict_keys(['indicator', 'country', 'countryiso3code', 'date', 'value', 'unit', 'obs_status', 'decimal'])\n",
      "dict_keys(['indicator', 'country', 'countryiso3code', 'date', 'value', 'unit', 'obs_status', 'decimal'])\n",
      "dict_keys(['indicator', 'country', 'countryiso3code', 'date', 'value', 'unit', 'obs_status', 'decimal'])\n",
      "dict_keys(['indicator', 'country', 'countryiso3code', 'date', 'value', 'unit', 'obs_status', 'decimal'])\n",
      "dict_keys(['indicator', 'country', 'countryiso3code', 'date', 'value', 'unit', 'obs_status', 'decimal'])\n",
      "dict_keys(['indicator', 'country', 'countryiso3code', 'date', 'value', 'unit', 'obs_status', 'decimal'])\n",
      "dict_keys(['indicator', 'country', 'countryiso3code', 'date', 'value', 'unit', 'obs_status', 'decimal'])\n",
      "dict_keys(['indicator', 'country', 'countryiso3code', 'date', 'value', 'unit', 'obs_status', 'decimal'])\n",
      "dict_keys(['indicator', 'country', 'countryiso3code', 'date', 'value', 'unit', 'obs_status', 'decimal'])\n",
      "dict_keys(['indicator', 'country', 'countryiso3code', 'date', 'value', 'unit', 'obs_status', 'decimal'])\n",
      "dict_keys(['indicator', 'country', 'countryiso3code', 'date', 'value', 'unit', 'obs_status', 'decimal'])\n",
      "dict_keys(['indicator', 'country', 'countryiso3code', 'date', 'value', 'unit', 'obs_status', 'decimal'])\n",
      "dict_keys(['indicator', 'country', 'countryiso3code', 'date', 'value', 'unit', 'obs_status', 'decimal'])\n",
      "dict_keys(['indicator', 'country', 'countryiso3code', 'date', 'value', 'unit', 'obs_status', 'decimal'])\n",
      "dict_keys(['indicator', 'country', 'countryiso3code', 'date', 'value', 'unit', 'obs_status', 'decimal'])\n",
      "dict_keys(['indicator', 'country', 'countryiso3code', 'date', 'value', 'unit', 'obs_status', 'decimal'])\n",
      "dict_keys(['indicator', 'country', 'countryiso3code', 'date', 'value', 'unit', 'obs_status', 'decimal'])\n",
      "dict_keys(['indicator', 'country', 'countryiso3code', 'date', 'value', 'unit', 'obs_status', 'decimal'])\n",
      "dict_keys(['indicator', 'country', 'countryiso3code', 'date', 'value', 'unit', 'obs_status', 'decimal'])\n",
      "dict_keys(['indicator', 'country', 'countryiso3code', 'date', 'value', 'unit', 'obs_status', 'decimal'])\n",
      "dict_keys(['indicator', 'country', 'countryiso3code', 'date', 'value', 'unit', 'obs_status', 'decimal'])\n",
      "dict_keys(['indicator', 'country', 'countryiso3code', 'date', 'value', 'unit', 'obs_status', 'decimal'])\n",
      "dict_keys(['indicator', 'country', 'countryiso3code', 'date', 'value', 'unit', 'obs_status', 'decimal'])\n",
      "dict_keys(['indicator', 'country', 'countryiso3code', 'date', 'value', 'unit', 'obs_status', 'decimal'])\n",
      "dict_keys(['indicator', 'country', 'countryiso3code', 'date', 'value', 'unit', 'obs_status', 'decimal'])\n",
      "dict_keys(['indicator', 'country', 'countryiso3code', 'date', 'value', 'unit', 'obs_status', 'decimal'])\n",
      "dict_keys(['indicator', 'country', 'countryiso3code', 'date', 'value', 'unit', 'obs_status', 'decimal'])\n",
      "dict_keys(['indicator', 'country', 'countryiso3code', 'date', 'value', 'unit', 'obs_status', 'decimal'])\n",
      "dict_keys(['indicator', 'country', 'countryiso3code', 'date', 'value', 'unit', 'obs_status', 'decimal'])\n",
      "dict_keys(['indicator', 'country', 'countryiso3code', 'date', 'value', 'unit', 'obs_status', 'decimal'])\n",
      "dict_keys(['indicator', 'country', 'countryiso3code', 'date', 'value', 'unit', 'obs_status', 'decimal'])\n",
      "dict_keys(['indicator', 'country', 'countryiso3code', 'date', 'value', 'unit', 'obs_status', 'decimal'])\n",
      "dict_keys(['indicator', 'country', 'countryiso3code', 'date', 'value', 'unit', 'obs_status', 'decimal'])\n",
      "dict_keys(['indicator', 'country', 'countryiso3code', 'date', 'value', 'unit', 'obs_status', 'decimal'])\n",
      "dict_keys(['indicator', 'country', 'countryiso3code', 'date', 'value', 'unit', 'obs_status', 'decimal'])\n",
      "dict_keys(['indicator', 'country', 'countryiso3code', 'date', 'value', 'unit', 'obs_status', 'decimal'])\n",
      "dict_keys(['indicator', 'country', 'countryiso3code', 'date', 'value', 'unit', 'obs_status', 'decimal'])\n",
      "dict_keys(['indicator', 'country', 'countryiso3code', 'date', 'value', 'unit', 'obs_status', 'decimal'])\n",
      "dict_keys(['indicator', 'country', 'countryiso3code', 'date', 'value', 'unit', 'obs_status', 'decimal'])\n",
      "dict_keys(['indicator', 'country', 'countryiso3code', 'date', 'value', 'unit', 'obs_status', 'decimal'])\n",
      "dict_keys(['indicator', 'country', 'countryiso3code', 'date', 'value', 'unit', 'obs_status', 'decimal'])\n",
      "dict_keys(['indicator', 'country', 'countryiso3code', 'date', 'value', 'unit', 'obs_status', 'decimal'])\n",
      "dict_keys(['indicator', 'country', 'countryiso3code', 'date', 'value', 'unit', 'obs_status', 'decimal'])\n",
      "dict_keys(['indicator', 'country', 'countryiso3code', 'date', 'value', 'unit', 'obs_status', 'decimal'])\n",
      "dict_keys(['indicator', 'country', 'countryiso3code', 'date', 'value', 'unit', 'obs_status', 'decimal'])\n",
      "dict_keys(['indicator', 'country', 'countryiso3code', 'date', 'value', 'unit', 'obs_status', 'decimal'])\n",
      "dict_keys(['indicator', 'country', 'countryiso3code', 'date', 'value', 'unit', 'obs_status', 'decimal'])\n",
      "dict_keys(['indicator', 'country', 'countryiso3code', 'date', 'value', 'unit', 'obs_status', 'decimal'])\n",
      "dict_keys(['indicator', 'country', 'countryiso3code', 'date', 'value', 'unit', 'obs_status', 'decimal'])\n",
      "dict_keys(['indicator', 'country', 'countryiso3code', 'date', 'value', 'unit', 'obs_status', 'decimal'])\n",
      "dict_keys(['indicator', 'country', 'countryiso3code', 'date', 'value', 'unit', 'obs_status', 'decimal'])\n",
      "dict_keys(['indicator', 'country', 'countryiso3code', 'date', 'value', 'unit', 'obs_status', 'decimal'])\n",
      "dict_keys(['indicator', 'country', 'countryiso3code', 'date', 'value', 'unit', 'obs_status', 'decimal'])\n",
      "dict_keys(['indicator', 'country', 'countryiso3code', 'date', 'value', 'unit', 'obs_status', 'decimal'])\n",
      "dict_keys(['indicator', 'country', 'countryiso3code', 'date', 'value', 'unit', 'obs_status', 'decimal'])\n",
      "dict_keys(['indicator', 'country', 'countryiso3code', 'date', 'value', 'unit', 'obs_status', 'decimal'])\n",
      "dict_keys(['indicator', 'country', 'countryiso3code', 'date', 'value', 'unit', 'obs_status', 'decimal'])\n",
      "dict_keys(['indicator', 'country', 'countryiso3code', 'date', 'value', 'unit', 'obs_status', 'decimal'])\n",
      "dict_keys(['indicator', 'country', 'countryiso3code', 'date', 'value', 'unit', 'obs_status', 'decimal'])\n",
      "dict_keys(['indicator', 'country', 'countryiso3code', 'date', 'value', 'unit', 'obs_status', 'decimal'])\n",
      "dict_keys(['indicator', 'country', 'countryiso3code', 'date', 'value', 'unit', 'obs_status', 'decimal'])\n",
      "dict_keys(['indicator', 'country', 'countryiso3code', 'date', 'value', 'unit', 'obs_status', 'decimal'])\n",
      "dict_keys(['indicator', 'country', 'countryiso3code', 'date', 'value', 'unit', 'obs_status', 'decimal'])\n",
      "dict_keys(['indicator', 'country', 'countryiso3code', 'date', 'value', 'unit', 'obs_status', 'decimal'])\n",
      "dict_keys(['indicator', 'country', 'countryiso3code', 'date', 'value', 'unit', 'obs_status', 'decimal'])\n",
      "dict_keys(['indicator', 'country', 'countryiso3code', 'date', 'value', 'unit', 'obs_status', 'decimal'])\n",
      "dict_keys(['indicator', 'country', 'countryiso3code', 'date', 'value', 'unit', 'obs_status', 'decimal'])\n",
      "dict_keys(['indicator', 'country', 'countryiso3code', 'date', 'value', 'unit', 'obs_status', 'decimal'])\n",
      "dict_keys(['indicator', 'country', 'countryiso3code', 'date', 'value', 'unit', 'obs_status', 'decimal'])\n",
      "dict_keys(['indicator', 'country', 'countryiso3code', 'date', 'value', 'unit', 'obs_status', 'decimal'])\n",
      "dict_keys(['indicator', 'country', 'countryiso3code', 'date', 'value', 'unit', 'obs_status', 'decimal'])\n",
      "dict_keys(['indicator', 'country', 'countryiso3code', 'date', 'value', 'unit', 'obs_status', 'decimal'])\n",
      "dict_keys(['indicator', 'country', 'countryiso3code', 'date', 'value', 'unit', 'obs_status', 'decimal'])\n",
      "dict_keys(['indicator', 'country', 'countryiso3code', 'date', 'value', 'unit', 'obs_status', 'decimal'])\n",
      "dict_keys(['indicator', 'country', 'countryiso3code', 'date', 'value', 'unit', 'obs_status', 'decimal'])\n",
      "dict_keys(['indicator', 'country', 'countryiso3code', 'date', 'value', 'unit', 'obs_status', 'decimal'])\n",
      "dict_keys(['indicator', 'country', 'countryiso3code', 'date', 'value', 'unit', 'obs_status', 'decimal'])\n",
      "dict_keys(['indicator', 'country', 'countryiso3code', 'date', 'value', 'unit', 'obs_status', 'decimal'])\n",
      "dict_keys(['indicator', 'country', 'countryiso3code', 'date', 'value', 'unit', 'obs_status', 'decimal'])\n",
      "dict_keys(['indicator', 'country', 'countryiso3code', 'date', 'value', 'unit', 'obs_status', 'decimal'])\n",
      "dict_keys(['indicator', 'country', 'countryiso3code', 'date', 'value', 'unit', 'obs_status', 'decimal'])\n",
      "dict_keys(['indicator', 'country', 'countryiso3code', 'date', 'value', 'unit', 'obs_status', 'decimal'])\n",
      "dict_keys(['indicator', 'country', 'countryiso3code', 'date', 'value', 'unit', 'obs_status', 'decimal'])\n",
      "dict_keys(['indicator', 'country', 'countryiso3code', 'date', 'value', 'unit', 'obs_status', 'decimal'])\n",
      "dict_keys(['indicator', 'country', 'countryiso3code', 'date', 'value', 'unit', 'obs_status', 'decimal'])\n",
      "dict_keys(['indicator', 'country', 'countryiso3code', 'date', 'value', 'unit', 'obs_status', 'decimal'])\n",
      "dict_keys(['indicator', 'country', 'countryiso3code', 'date', 'value', 'unit', 'obs_status', 'decimal'])\n",
      "dict_keys(['indicator', 'country', 'countryiso3code', 'date', 'value', 'unit', 'obs_status', 'decimal'])\n",
      "dict_keys(['indicator', 'country', 'countryiso3code', 'date', 'value', 'unit', 'obs_status', 'decimal'])\n",
      "dict_keys(['indicator', 'country', 'countryiso3code', 'date', 'value', 'unit', 'obs_status', 'decimal'])\n",
      "dict_keys(['indicator', 'country', 'countryiso3code', 'date', 'value', 'unit', 'obs_status', 'decimal'])\n",
      "dict_keys(['indicator', 'country', 'countryiso3code', 'date', 'value', 'unit', 'obs_status', 'decimal'])\n",
      "dict_keys(['indicator', 'country', 'countryiso3code', 'date', 'value', 'unit', 'obs_status', 'decimal'])\n",
      "dict_keys(['indicator', 'country', 'countryiso3code', 'date', 'value', 'unit', 'obs_status', 'decimal'])\n",
      "dict_keys(['indicator', 'country', 'countryiso3code', 'date', 'value', 'unit', 'obs_status', 'decimal'])\n",
      "dict_keys(['indicator', 'country', 'countryiso3code', 'date', 'value', 'unit', 'obs_status', 'decimal'])\n",
      "dict_keys(['indicator', 'country', 'countryiso3code', 'date', 'value', 'unit', 'obs_status', 'decimal'])\n",
      "dict_keys(['indicator', 'country', 'countryiso3code', 'date', 'value', 'unit', 'obs_status', 'decimal'])\n",
      "dict_keys(['indicator', 'country', 'countryiso3code', 'date', 'value', 'unit', 'obs_status', 'decimal'])\n",
      "dict_keys(['indicator', 'country', 'countryiso3code', 'date', 'value', 'unit', 'obs_status', 'decimal'])\n",
      "dict_keys(['indicator', 'country', 'countryiso3code', 'date', 'value', 'unit', 'obs_status', 'decimal'])\n",
      "dict_keys(['indicator', 'country', 'countryiso3code', 'date', 'value', 'unit', 'obs_status', 'decimal'])\n",
      "dict_keys(['indicator', 'country', 'countryiso3code', 'date', 'value', 'unit', 'obs_status', 'decimal'])\n",
      "dict_keys(['indicator', 'country', 'countryiso3code', 'date', 'value', 'unit', 'obs_status', 'decimal'])\n",
      "dict_keys(['indicator', 'country', 'countryiso3code', 'date', 'value', 'unit', 'obs_status', 'decimal'])\n",
      "dict_keys(['indicator', 'country', 'countryiso3code', 'date', 'value', 'unit', 'obs_status', 'decimal'])\n",
      "dict_keys(['indicator', 'country', 'countryiso3code', 'date', 'value', 'unit', 'obs_status', 'decimal'])\n",
      "dict_keys(['indicator', 'country', 'countryiso3code', 'date', 'value', 'unit', 'obs_status', 'decimal'])\n",
      "dict_keys(['indicator', 'country', 'countryiso3code', 'date', 'value', 'unit', 'obs_status', 'decimal'])\n",
      "dict_keys(['indicator', 'country', 'countryiso3code', 'date', 'value', 'unit', 'obs_status', 'decimal'])\n",
      "dict_keys(['indicator', 'country', 'countryiso3code', 'date', 'value', 'unit', 'obs_status', 'decimal'])\n",
      "dict_keys(['indicator', 'country', 'countryiso3code', 'date', 'value', 'unit', 'obs_status', 'decimal'])\n",
      "dict_keys(['indicator', 'country', 'countryiso3code', 'date', 'value', 'unit', 'obs_status', 'decimal'])\n",
      "dict_keys(['indicator', 'country', 'countryiso3code', 'date', 'value', 'unit', 'obs_status', 'decimal'])\n",
      "dict_keys(['indicator', 'country', 'countryiso3code', 'date', 'value', 'unit', 'obs_status', 'decimal'])\n",
      "dict_keys(['indicator', 'country', 'countryiso3code', 'date', 'value', 'unit', 'obs_status', 'decimal'])\n",
      "dict_keys(['indicator', 'country', 'countryiso3code', 'date', 'value', 'unit', 'obs_status', 'decimal'])\n",
      "dict_keys(['indicator', 'country', 'countryiso3code', 'date', 'value', 'unit', 'obs_status', 'decimal'])\n",
      "dict_keys(['indicator', 'country', 'countryiso3code', 'date', 'value', 'unit', 'obs_status', 'decimal'])\n",
      "dict_keys(['indicator', 'country', 'countryiso3code', 'date', 'value', 'unit', 'obs_status', 'decimal'])\n",
      "dict_keys(['indicator', 'country', 'countryiso3code', 'date', 'value', 'unit', 'obs_status', 'decimal'])\n",
      "dict_keys(['indicator', 'country', 'countryiso3code', 'date', 'value', 'unit', 'obs_status', 'decimal'])\n",
      "dict_keys(['indicator', 'country', 'countryiso3code', 'date', 'value', 'unit', 'obs_status', 'decimal'])\n",
      "dict_keys(['indicator', 'country', 'countryiso3code', 'date', 'value', 'unit', 'obs_status', 'decimal'])\n",
      "dict_keys(['indicator', 'country', 'countryiso3code', 'date', 'value', 'unit', 'obs_status', 'decimal'])\n",
      "dict_keys(['indicator', 'country', 'countryiso3code', 'date', 'value', 'unit', 'obs_status', 'decimal'])\n",
      "dict_keys(['indicator', 'country', 'countryiso3code', 'date', 'value', 'unit', 'obs_status', 'decimal'])\n",
      "dict_keys(['indicator', 'country', 'countryiso3code', 'date', 'value', 'unit', 'obs_status', 'decimal'])\n",
      "dict_keys(['indicator', 'country', 'countryiso3code', 'date', 'value', 'unit', 'obs_status', 'decimal'])\n",
      "dict_keys(['indicator', 'country', 'countryiso3code', 'date', 'value', 'unit', 'obs_status', 'decimal'])\n",
      "dict_keys(['indicator', 'country', 'countryiso3code', 'date', 'value', 'unit', 'obs_status', 'decimal'])\n",
      "dict_keys(['indicator', 'country', 'countryiso3code', 'date', 'value', 'unit', 'obs_status', 'decimal'])\n",
      "dict_keys(['indicator', 'country', 'countryiso3code', 'date', 'value', 'unit', 'obs_status', 'decimal'])\n",
      "dict_keys(['indicator', 'country', 'countryiso3code', 'date', 'value', 'unit', 'obs_status', 'decimal'])\n",
      "dict_keys(['indicator', 'country', 'countryiso3code', 'date', 'value', 'unit', 'obs_status', 'decimal'])\n",
      "dict_keys(['indicator', 'country', 'countryiso3code', 'date', 'value', 'unit', 'obs_status', 'decimal'])\n",
      "dict_keys(['indicator', 'country', 'countryiso3code', 'date', 'value', 'unit', 'obs_status', 'decimal'])\n",
      "dict_keys(['indicator', 'country', 'countryiso3code', 'date', 'value', 'unit', 'obs_status', 'decimal'])\n",
      "dict_keys(['indicator', 'country', 'countryiso3code', 'date', 'value', 'unit', 'obs_status', 'decimal'])\n",
      "dict_keys(['indicator', 'country', 'countryiso3code', 'date', 'value', 'unit', 'obs_status', 'decimal'])\n",
      "dict_keys(['indicator', 'country', 'countryiso3code', 'date', 'value', 'unit', 'obs_status', 'decimal'])\n",
      "dict_keys(['indicator', 'country', 'countryiso3code', 'date', 'value', 'unit', 'obs_status', 'decimal'])\n",
      "dict_keys(['indicator', 'country', 'countryiso3code', 'date', 'value', 'unit', 'obs_status', 'decimal'])\n",
      "dict_keys(['indicator', 'country', 'countryiso3code', 'date', 'value', 'unit', 'obs_status', 'decimal'])\n",
      "dict_keys(['indicator', 'country', 'countryiso3code', 'date', 'value', 'unit', 'obs_status', 'decimal'])\n",
      "dict_keys(['indicator', 'country', 'countryiso3code', 'date', 'value', 'unit', 'obs_status', 'decimal'])\n",
      "dict_keys(['indicator', 'country', 'countryiso3code', 'date', 'value', 'unit', 'obs_status', 'decimal'])\n",
      "dict_keys(['indicator', 'country', 'countryiso3code', 'date', 'value', 'unit', 'obs_status', 'decimal'])\n",
      "dict_keys(['indicator', 'country', 'countryiso3code', 'date', 'value', 'unit', 'obs_status', 'decimal'])\n",
      "dict_keys(['indicator', 'country', 'countryiso3code', 'date', 'value', 'unit', 'obs_status', 'decimal'])\n",
      "dict_keys(['indicator', 'country', 'countryiso3code', 'date', 'value', 'unit', 'obs_status', 'decimal'])\n",
      "dict_keys(['indicator', 'country', 'countryiso3code', 'date', 'value', 'unit', 'obs_status', 'decimal'])\n",
      "dict_keys(['indicator', 'country', 'countryiso3code', 'date', 'value', 'unit', 'obs_status', 'decimal'])\n",
      "dict_keys(['indicator', 'country', 'countryiso3code', 'date', 'value', 'unit', 'obs_status', 'decimal'])\n",
      "dict_keys(['indicator', 'country', 'countryiso3code', 'date', 'value', 'unit', 'obs_status', 'decimal'])\n",
      "dict_keys(['indicator', 'country', 'countryiso3code', 'date', 'value', 'unit', 'obs_status', 'decimal'])\n",
      "dict_keys(['indicator', 'country', 'countryiso3code', 'date', 'value', 'unit', 'obs_status', 'decimal'])\n",
      "dict_keys(['indicator', 'country', 'countryiso3code', 'date', 'value', 'unit', 'obs_status', 'decimal'])\n",
      "dict_keys(['indicator', 'country', 'countryiso3code', 'date', 'value', 'unit', 'obs_status', 'decimal'])\n",
      "dict_keys(['indicator', 'country', 'countryiso3code', 'date', 'value', 'unit', 'obs_status', 'decimal'])\n",
      "dict_keys(['indicator', 'country', 'countryiso3code', 'date', 'value', 'unit', 'obs_status', 'decimal'])\n",
      "dict_keys(['indicator', 'country', 'countryiso3code', 'date', 'value', 'unit', 'obs_status', 'decimal'])\n",
      "dict_keys(['indicator', 'country', 'countryiso3code', 'date', 'value', 'unit', 'obs_status', 'decimal'])\n",
      "dict_keys(['indicator', 'country', 'countryiso3code', 'date', 'value', 'unit', 'obs_status', 'decimal'])\n",
      "dict_keys(['indicator', 'country', 'countryiso3code', 'date', 'value', 'unit', 'obs_status', 'decimal'])\n",
      "dict_keys(['indicator', 'country', 'countryiso3code', 'date', 'value', 'unit', 'obs_status', 'decimal'])\n",
      "dict_keys(['indicator', 'country', 'countryiso3code', 'date', 'value', 'unit', 'obs_status', 'decimal'])\n",
      "dict_keys(['indicator', 'country', 'countryiso3code', 'date', 'value', 'unit', 'obs_status', 'decimal'])\n",
      "dict_keys(['indicator', 'country', 'countryiso3code', 'date', 'value', 'unit', 'obs_status', 'decimal'])\n",
      "dict_keys(['indicator', 'country', 'countryiso3code', 'date', 'value', 'unit', 'obs_status', 'decimal'])\n",
      "dict_keys(['indicator', 'country', 'countryiso3code', 'date', 'value', 'unit', 'obs_status', 'decimal'])\n",
      "dict_keys(['indicator', 'country', 'countryiso3code', 'date', 'value', 'unit', 'obs_status', 'decimal'])\n",
      "dict_keys(['indicator', 'country', 'countryiso3code', 'date', 'value', 'unit', 'obs_status', 'decimal'])\n",
      "dict_keys(['indicator', 'country', 'countryiso3code', 'date', 'value', 'unit', 'obs_status', 'decimal'])\n",
      "dict_keys(['indicator', 'country', 'countryiso3code', 'date', 'value', 'unit', 'obs_status', 'decimal'])\n",
      "dict_keys(['indicator', 'country', 'countryiso3code', 'date', 'value', 'unit', 'obs_status', 'decimal'])\n",
      "dict_keys(['indicator', 'country', 'countryiso3code', 'date', 'value', 'unit', 'obs_status', 'decimal'])\n",
      "dict_keys(['indicator', 'country', 'countryiso3code', 'date', 'value', 'unit', 'obs_status', 'decimal'])\n",
      "dict_keys(['indicator', 'country', 'countryiso3code', 'date', 'value', 'unit', 'obs_status', 'decimal'])\n",
      "dict_keys(['indicator', 'country', 'countryiso3code', 'date', 'value', 'unit', 'obs_status', 'decimal'])\n",
      "dict_keys(['indicator', 'country', 'countryiso3code', 'date', 'value', 'unit', 'obs_status', 'decimal'])\n",
      "dict_keys(['indicator', 'country', 'countryiso3code', 'date', 'value', 'unit', 'obs_status', 'decimal'])\n",
      "dict_keys(['indicator', 'country', 'countryiso3code', 'date', 'value', 'unit', 'obs_status', 'decimal'])\n",
      "dict_keys(['indicator', 'country', 'countryiso3code', 'date', 'value', 'unit', 'obs_status', 'decimal'])\n",
      "dict_keys(['indicator', 'country', 'countryiso3code', 'date', 'value', 'unit', 'obs_status', 'decimal'])\n",
      "dict_keys(['indicator', 'country', 'countryiso3code', 'date', 'value', 'unit', 'obs_status', 'decimal'])\n",
      "dict_keys(['indicator', 'country', 'countryiso3code', 'date', 'value', 'unit', 'obs_status', 'decimal'])\n",
      "dict_keys(['indicator', 'country', 'countryiso3code', 'date', 'value', 'unit', 'obs_status', 'decimal'])\n",
      "dict_keys(['indicator', 'country', 'countryiso3code', 'date', 'value', 'unit', 'obs_status', 'decimal'])\n",
      "dict_keys(['indicator', 'country', 'countryiso3code', 'date', 'value', 'unit', 'obs_status', 'decimal'])\n",
      "dict_keys(['indicator', 'country', 'countryiso3code', 'date', 'value', 'unit', 'obs_status', 'decimal'])\n",
      "dict_keys(['indicator', 'country', 'countryiso3code', 'date', 'value', 'unit', 'obs_status', 'decimal'])\n",
      "dict_keys(['indicator', 'country', 'countryiso3code', 'date', 'value', 'unit', 'obs_status', 'decimal'])\n",
      "dict_keys(['indicator', 'country', 'countryiso3code', 'date', 'value', 'unit', 'obs_status', 'decimal'])\n",
      "dict_keys(['indicator', 'country', 'countryiso3code', 'date', 'value', 'unit', 'obs_status', 'decimal'])\n",
      "dict_keys(['indicator', 'country', 'countryiso3code', 'date', 'value', 'unit', 'obs_status', 'decimal'])\n",
      "dict_keys(['indicator', 'country', 'countryiso3code', 'date', 'value', 'unit', 'obs_status', 'decimal'])\n",
      "dict_keys(['indicator', 'country', 'countryiso3code', 'date', 'value', 'unit', 'obs_status', 'decimal'])\n",
      "dict_keys(['indicator', 'country', 'countryiso3code', 'date', 'value', 'unit', 'obs_status', 'decimal'])\n",
      "dict_keys(['indicator', 'country', 'countryiso3code', 'date', 'value', 'unit', 'obs_status', 'decimal'])\n",
      "dict_keys(['indicator', 'country', 'countryiso3code', 'date', 'value', 'unit', 'obs_status', 'decimal'])\n",
      "dict_keys(['indicator', 'country', 'countryiso3code', 'date', 'value', 'unit', 'obs_status', 'decimal'])\n",
      "dict_keys(['indicator', 'country', 'countryiso3code', 'date', 'value', 'unit', 'obs_status', 'decimal'])\n",
      "dict_keys(['indicator', 'country', 'countryiso3code', 'date', 'value', 'unit', 'obs_status', 'decimal'])\n",
      "dict_keys(['indicator', 'country', 'countryiso3code', 'date', 'value', 'unit', 'obs_status', 'decimal'])\n",
      "dict_keys(['indicator', 'country', 'countryiso3code', 'date', 'value', 'unit', 'obs_status', 'decimal'])\n",
      "dict_keys(['indicator', 'country', 'countryiso3code', 'date', 'value', 'unit', 'obs_status', 'decimal'])\n",
      "dict_keys(['indicator', 'country', 'countryiso3code', 'date', 'value', 'unit', 'obs_status', 'decimal'])\n",
      "dict_keys(['indicator', 'country', 'countryiso3code', 'date', 'value', 'unit', 'obs_status', 'decimal'])\n",
      "dict_keys(['indicator', 'country', 'countryiso3code', 'date', 'value', 'unit', 'obs_status', 'decimal'])\n",
      "dict_keys(['indicator', 'country', 'countryiso3code', 'date', 'value', 'unit', 'obs_status', 'decimal'])\n",
      "dict_keys(['indicator', 'country', 'countryiso3code', 'date', 'value', 'unit', 'obs_status', 'decimal'])\n",
      "dict_keys(['indicator', 'country', 'countryiso3code', 'date', 'value', 'unit', 'obs_status', 'decimal'])\n",
      "dict_keys(['indicator', 'country', 'countryiso3code', 'date', 'value', 'unit', 'obs_status', 'decimal'])\n",
      "dict_keys(['indicator', 'country', 'countryiso3code', 'date', 'value', 'unit', 'obs_status', 'decimal'])\n",
      "dict_keys(['indicator', 'country', 'countryiso3code', 'date', 'value', 'unit', 'obs_status', 'decimal'])\n",
      "dict_keys(['indicator', 'country', 'countryiso3code', 'date', 'value', 'unit', 'obs_status', 'decimal'])\n",
      "dict_keys(['indicator', 'country', 'countryiso3code', 'date', 'value', 'unit', 'obs_status', 'decimal'])\n",
      "dict_keys(['indicator', 'country', 'countryiso3code', 'date', 'value', 'unit', 'obs_status', 'decimal'])\n",
      "dict_keys(['indicator', 'country', 'countryiso3code', 'date', 'value', 'unit', 'obs_status', 'decimal'])\n",
      "dict_keys(['indicator', 'country', 'countryiso3code', 'date', 'value', 'unit', 'obs_status', 'decimal'])\n",
      "dict_keys(['indicator', 'country', 'countryiso3code', 'date', 'value', 'unit', 'obs_status', 'decimal'])\n",
      "dict_keys(['indicator', 'country', 'countryiso3code', 'date', 'value', 'unit', 'obs_status', 'decimal'])\n",
      "dict_keys(['indicator', 'country', 'countryiso3code', 'date', 'value', 'unit', 'obs_status', 'decimal'])\n",
      "dict_keys(['indicator', 'country', 'countryiso3code', 'date', 'value', 'unit', 'obs_status', 'decimal'])\n",
      "dict_keys(['indicator', 'country', 'countryiso3code', 'date', 'value', 'unit', 'obs_status', 'decimal'])\n",
      "dict_keys(['indicator', 'country', 'countryiso3code', 'date', 'value', 'unit', 'obs_status', 'decimal'])\n",
      "dict_keys(['indicator', 'country', 'countryiso3code', 'date', 'value', 'unit', 'obs_status', 'decimal'])\n",
      "dict_keys(['indicator', 'country', 'countryiso3code', 'date', 'value', 'unit', 'obs_status', 'decimal'])\n",
      "dict_keys(['indicator', 'country', 'countryiso3code', 'date', 'value', 'unit', 'obs_status', 'decimal'])\n",
      "dict_keys(['indicator', 'country', 'countryiso3code', 'date', 'value', 'unit', 'obs_status', 'decimal'])\n",
      "dict_keys(['indicator', 'country', 'countryiso3code', 'date', 'value', 'unit', 'obs_status', 'decimal'])\n",
      "dict_keys(['indicator', 'country', 'countryiso3code', 'date', 'value', 'unit', 'obs_status', 'decimal'])\n",
      "dict_keys(['indicator', 'country', 'countryiso3code', 'date', 'value', 'unit', 'obs_status', 'decimal'])\n",
      "dict_keys(['indicator', 'country', 'countryiso3code', 'date', 'value', 'unit', 'obs_status', 'decimal'])\n",
      "dict_keys(['indicator', 'country', 'countryiso3code', 'date', 'value', 'unit', 'obs_status', 'decimal'])\n",
      "dict_keys(['indicator', 'country', 'countryiso3code', 'date', 'value', 'unit', 'obs_status', 'decimal'])\n",
      "dict_keys(['indicator', 'country', 'countryiso3code', 'date', 'value', 'unit', 'obs_status', 'decimal'])\n",
      "dict_keys(['indicator', 'country', 'countryiso3code', 'date', 'value', 'unit', 'obs_status', 'decimal'])\n",
      "dict_keys(['indicator', 'country', 'countryiso3code', 'date', 'value', 'unit', 'obs_status', 'decimal'])\n",
      "dict_keys(['indicator', 'country', 'countryiso3code', 'date', 'value', 'unit', 'obs_status', 'decimal'])\n",
      "dict_keys(['indicator', 'country', 'countryiso3code', 'date', 'value', 'unit', 'obs_status', 'decimal'])\n",
      "dict_keys(['indicator', 'country', 'countryiso3code', 'date', 'value', 'unit', 'obs_status', 'decimal'])\n",
      "dict_keys(['indicator', 'country', 'countryiso3code', 'date', 'value', 'unit', 'obs_status', 'decimal'])\n",
      "dict_keys(['indicator', 'country', 'countryiso3code', 'date', 'value', 'unit', 'obs_status', 'decimal'])\n",
      "dict_keys(['indicator', 'country', 'countryiso3code', 'date', 'value', 'unit', 'obs_status', 'decimal'])\n"
     ]
    }
   ],
   "source": [
    "for x in tj_2015:\n",
    "    print(x.keys())"
   ]
  },
  {
   "cell_type": "code",
   "execution_count": 11,
   "metadata": {
    "scrolled": false
   },
   "outputs": [
    {
     "data": {
      "text/plain": [
       "259"
      ]
     },
     "execution_count": 11,
     "metadata": {},
     "output_type": "execute_result"
    }
   ],
   "source": [
    "len(tj_2015)"
   ]
  },
  {
   "cell_type": "code",
   "execution_count": 34,
   "metadata": {
    "scrolled": false
   },
   "outputs": [
    {
     "data": {
      "text/plain": [
       "{'indicator': {'id': '3.1_RE.CONSUMPTION',\n",
       "  'value': 'Renewable energy consumption (TJ)'},\n",
       " 'country': {'id': 'BES', 'value': 'BES Islands'},\n",
       " 'countryiso3code': '',\n",
       " 'date': '2015',\n",
       " 'value': 112.7886,\n",
       " 'unit': '',\n",
       " 'obs_status': '',\n",
       " 'decimal': 0}"
      ]
     },
     "execution_count": 34,
     "metadata": {},
     "output_type": "execute_result"
    }
   ],
   "source": [
    "tj_2015[0]"
   ]
  },
  {
   "cell_type": "code",
   "execution_count": 33,
   "metadata": {
    "scrolled": false
   },
   "outputs": [],
   "source": [
    "#tj_2015[0]['country']['value']"
   ]
  },
  {
   "cell_type": "code",
   "execution_count": 14,
   "metadata": {
    "scrolled": true
   },
   "outputs": [
    {
     "data": {
      "text/plain": [
       "['BES Islands',\n",
       " 'Nauru',\n",
       " 'Niue',\n",
       " 'Wallis and Futuna',\n",
       " 'Caucasian and Central Asia',\n",
       " 'Caucasus and Central Asia',\n",
       " 'Eastern Asia (including Japan)',\n",
       " 'Eastern Asia (not including Japan)',\n",
       " 'Eastern Europe',\n",
       " 'Europe',\n",
       " 'High income',\n",
       " 'High income: nonOECD',\n",
       " 'High income: OECD',\n",
       " 'Latin America and Caribbean',\n",
       " 'Low & middle income',\n",
       " 'Low income',\n",
       " 'Lower middle income',\n",
       " 'Middle income',\n",
       " 'Northern America',\n",
       " 'Not classified',\n",
       " 'Nothern America',\n",
       " 'Oceania',\n",
       " 'Oceania (not including Australia and New Zealand)',\n",
       " 'South Eastern Asia',\n",
       " 'Southern Asia',\n",
       " 'Sub-Saharan Africa',\n",
       " 'Upper middle income',\n",
       " 'Western Asia',\n",
       " 'World',\n",
       " 'Afghanistan',\n",
       " 'Albania',\n",
       " 'Algeria',\n",
       " 'American Samoa',\n",
       " 'Andorra',\n",
       " 'Angola',\n",
       " 'Anguilla',\n",
       " 'Antigua and Barbuda',\n",
       " 'Argentina',\n",
       " 'Armenia',\n",
       " 'Aruba',\n",
       " 'Australia',\n",
       " 'Austria',\n",
       " 'Azerbaijan',\n",
       " 'Bahamas, The',\n",
       " 'Bahrain',\n",
       " 'Bangladesh',\n",
       " 'Barbados',\n",
       " 'Belarus',\n",
       " 'Belgium',\n",
       " 'Belize',\n",
       " 'Benin',\n",
       " 'Bermuda',\n",
       " 'Bhutan',\n",
       " 'Bolivia',\n",
       " 'Bosnia and Herzegovina',\n",
       " 'Botswana',\n",
       " 'Brazil',\n",
       " 'British Virgin Islands',\n",
       " 'Brunei Darussalam',\n",
       " 'Bulgaria',\n",
       " 'Burkina Faso',\n",
       " 'Burundi',\n",
       " 'Cambodia',\n",
       " 'Cameroon',\n",
       " 'Canada',\n",
       " 'Cape Verde',\n",
       " 'Cayman Islands',\n",
       " 'Central African Republic',\n",
       " 'Chad',\n",
       " 'Channel Islands',\n",
       " 'Chile',\n",
       " 'China',\n",
       " 'Colombia',\n",
       " 'Comoros',\n",
       " 'Congo, Dem. Rep.',\n",
       " 'Congo, Rep.',\n",
       " 'Cook Islands',\n",
       " 'Costa Rica',\n",
       " \"Cote d'Ivoire\",\n",
       " 'Croatia',\n",
       " 'Cuba',\n",
       " 'Curacao',\n",
       " 'Cyprus',\n",
       " 'Czech Republic',\n",
       " 'Denmark',\n",
       " 'Djibouti',\n",
       " 'Dominica',\n",
       " 'Dominican Republic',\n",
       " 'Ecuador',\n",
       " 'Egypt, Arab Rep.',\n",
       " 'El Salvador',\n",
       " 'Equatorial Guinea',\n",
       " 'Eritrea',\n",
       " 'Estonia',\n",
       " 'Ethiopia',\n",
       " 'Faeroe Islands',\n",
       " 'Falkland Islands',\n",
       " 'Fiji',\n",
       " 'Finland',\n",
       " 'France',\n",
       " 'French Guyana',\n",
       " 'French Polynesia',\n",
       " 'Gabon',\n",
       " 'Gambia, The',\n",
       " 'Georgia',\n",
       " 'Germany',\n",
       " 'Ghana',\n",
       " 'Gibraltar',\n",
       " 'Greece',\n",
       " 'Greenland',\n",
       " 'Grenada',\n",
       " 'Guadeloupe',\n",
       " 'Guam',\n",
       " 'Guatemala',\n",
       " 'Guinea',\n",
       " 'Guinea-Bissau',\n",
       " 'Guyana',\n",
       " 'Haiti',\n",
       " 'Honduras',\n",
       " 'Hong Kong SAR, China',\n",
       " 'Hungary',\n",
       " 'Iceland',\n",
       " 'India',\n",
       " 'Indonesia',\n",
       " 'Iran, Islamic Rep.',\n",
       " 'Iraq',\n",
       " 'Ireland',\n",
       " 'Isle of Man',\n",
       " 'Israel',\n",
       " 'Italy',\n",
       " 'Jamaica',\n",
       " 'Japan',\n",
       " 'Jordan',\n",
       " 'Kazakhstan',\n",
       " 'Kenya',\n",
       " 'Kiribati',\n",
       " 'Korea, Dem. Rep.',\n",
       " 'Korea, Rep.',\n",
       " 'Kosovo',\n",
       " 'Kuwait',\n",
       " 'Kyrgyz Republic',\n",
       " 'Lao PDR',\n",
       " 'Latvia',\n",
       " 'Lebanon',\n",
       " 'Lesotho',\n",
       " 'Liberia',\n",
       " 'Libya',\n",
       " 'Liechtenstein',\n",
       " 'Lithuania',\n",
       " 'Luxembourg',\n",
       " 'Macao SAR, China',\n",
       " 'Macedonia, FYR',\n",
       " 'Madagascar',\n",
       " 'Malawi',\n",
       " 'Malaysia',\n",
       " 'Maldives',\n",
       " 'Mali',\n",
       " 'Malta',\n",
       " 'Marshall Islands',\n",
       " 'Martinique',\n",
       " 'Mauritania',\n",
       " 'Mauritius',\n",
       " 'Mayotte',\n",
       " 'Mexico',\n",
       " 'Micronesia, Fed. Sts.',\n",
       " 'Moldova',\n",
       " 'Monaco',\n",
       " 'Mongolia',\n",
       " 'Montenegro',\n",
       " 'Montserrat',\n",
       " 'Morocco',\n",
       " 'Mozambique',\n",
       " 'Myanmar',\n",
       " 'Namibia',\n",
       " 'Nepal',\n",
       " 'Netherlands',\n",
       " 'Netherlands Antilles',\n",
       " 'New Caledonia',\n",
       " 'New Zealand',\n",
       " 'Nicaragua',\n",
       " 'Niger',\n",
       " 'Nigeria',\n",
       " 'Northern Mariana Islands',\n",
       " 'Norway',\n",
       " 'Oman',\n",
       " 'Pakistan',\n",
       " 'Palau',\n",
       " 'Panama',\n",
       " 'Papua New Guinea',\n",
       " 'Paraguay',\n",
       " 'Peru',\n",
       " 'Philippines',\n",
       " 'Poland',\n",
       " 'Portugal',\n",
       " 'Puerto Rico',\n",
       " 'Qatar',\n",
       " 'Reunion',\n",
       " 'Romania',\n",
       " 'Russian Federation',\n",
       " 'Rwanda',\n",
       " 'Saint Pierre et Miquelon',\n",
       " 'Samoa',\n",
       " 'San Marino',\n",
       " 'Sao Tome and Principe',\n",
       " 'Saudi Arabia',\n",
       " 'Senegal',\n",
       " 'Serbia',\n",
       " 'Seychelles',\n",
       " 'Sierra Leone',\n",
       " 'Singapore',\n",
       " 'Sint Maarten (Dutch part)',\n",
       " 'Slovak Republic',\n",
       " 'Slovenia',\n",
       " 'Solomon Islands',\n",
       " 'Somalia',\n",
       " 'South Africa',\n",
       " 'South Sudan',\n",
       " 'Spain',\n",
       " 'Sri Lanka',\n",
       " 'St. Helena',\n",
       " 'St. Kitts and Nevis',\n",
       " 'St. Lucia',\n",
       " 'St. Martin (French part)',\n",
       " 'St. Vincent and the Grenadines',\n",
       " 'Sudan',\n",
       " 'Suriname',\n",
       " 'Swaziland',\n",
       " 'Sweden',\n",
       " 'Switzerland',\n",
       " 'Syrian Arab Republic',\n",
       " 'Taiwan, China',\n",
       " 'Tajikistan',\n",
       " 'Tanzania',\n",
       " 'Thailand',\n",
       " 'Timor-Leste',\n",
       " 'Togo',\n",
       " 'Tonga',\n",
       " 'Trinidad and Tobago',\n",
       " 'Tunisia',\n",
       " 'Turkey',\n",
       " 'Turkmenistan',\n",
       " 'Turks and Caicos Islands',\n",
       " 'Tuvalu',\n",
       " 'Uganda',\n",
       " 'Ukraine',\n",
       " 'United Arab Emirates',\n",
       " 'United Kingdom',\n",
       " 'United States',\n",
       " 'Uruguay',\n",
       " 'Uzbekistan',\n",
       " 'Vanuatu',\n",
       " 'Venezuela, RB',\n",
       " 'Vietnam',\n",
       " 'Virgin Islands (U.S.)',\n",
       " 'West Bank and Gaza',\n",
       " 'Western Sahara',\n",
       " 'Yemen, Rep.',\n",
       " 'Zambia',\n",
       " 'Zimbabwe']"
      ]
     },
     "execution_count": 14,
     "metadata": {},
     "output_type": "execute_result"
    }
   ],
   "source": [
    "#### ALL THE COUNTRIES IN THE DATASET\n",
    "\n",
    "countries = [x['country']['value'] for x in tj_2015]\n",
    "countries"
   ]
  },
  {
   "cell_type": "code",
   "execution_count": 15,
   "metadata": {
    "id": "0FB_UE-0nSeX",
    "scrolled": false
   },
   "outputs": [
    {
     "data": {
      "text/plain": [
       "(array([0]), array([259]))"
      ]
     },
     "execution_count": 15,
     "metadata": {},
     "output_type": "execute_result"
    }
   ],
   "source": [
    "#### 'decimals' are all 0\n",
    "decimals = [x['decimal'] for x in tj_2015]\n",
    "np.unique(decimals, return_counts=True)"
   ]
  },
  {
   "cell_type": "code",
   "execution_count": 16,
   "metadata": {
    "id": "TLsp11GKn8Ai",
    "scrolled": false
   },
   "outputs": [
    {
     "data": {
      "text/plain": [
       "(array([''], dtype='<U1'), array([259]))"
      ]
     },
     "execution_count": 16,
     "metadata": {},
     "output_type": "execute_result"
    }
   ],
   "source": [
    "#### 'dobs_status' are all ''\n",
    "obs_status = [x['obs_status'] for x in tj_2015]\n",
    "np.unique(obs_status, return_counts=True)"
   ]
  },
  {
   "cell_type": "code",
   "execution_count": 17,
   "metadata": {
    "scrolled": false
   },
   "outputs": [
    {
     "data": {
      "text/plain": [
       "(array([''], dtype='<U1'), array([259]))"
      ]
     },
     "execution_count": 17,
     "metadata": {},
     "output_type": "execute_result"
    }
   ],
   "source": [
    "#### 'unit' are all ''\n",
    "units = [x['unit'] for x in tj_2015]\n",
    "np.unique(units, return_counts=True)"
   ]
  },
  {
   "cell_type": "code",
   "execution_count": 18,
   "metadata": {
    "scrolled": false
   },
   "outputs": [
    {
     "data": {
      "text/plain": [
       "(array(['2015'], dtype='<U4'), array([259]))"
      ]
     },
     "execution_count": 18,
     "metadata": {},
     "output_type": "execute_result"
    }
   ],
   "source": [
    "#### 'date' are all '2015' (as it should be)\n",
    "dates = [x['date'] for x in tj_2015]\n",
    "np.unique(dates, return_counts=True)"
   ]
  },
  {
   "cell_type": "code",
   "execution_count": 19,
   "metadata": {
    "scrolled": false
   },
   "outputs": [
    {
     "data": {
      "text/plain": [
       "(array([''], dtype='<U1'), array([259]))"
      ]
     },
     "execution_count": 19,
     "metadata": {},
     "output_type": "execute_result"
    }
   ],
   "source": [
    "#### 'countryiso3code' are all '2015' (as it should be)\n",
    "countryiso3code = [x['countryiso3code'] for x in tj_2015]\n",
    "np.unique(countryiso3code, return_counts=True)"
   ]
  },
  {
   "cell_type": "code",
   "execution_count": 31,
   "metadata": {
    "scrolled": true
   },
   "outputs": [
    {
     "data": {
      "text/plain": [
       "(array([115.,  29.,  15.,  14.,   4.,   5.,   5.,   3.,   4.,   4.,   2.,\n",
       "          1.,   2.,   2.,   4.,   2.,   3.,   1.,   0.,   0.,   0.,   1.,\n",
       "          1.,   1.,   0.,   2.,   2.,   0.,   1.,   0.,   0.,   0.,   0.,\n",
       "          0.,   0.,   0.,   0.,   0.,   0.,   1.,   0.,   0.,   0.,   0.,\n",
       "          0.,   0.,   0.,   1.,   0.,   0.,   0.,   1.,   1.,   0.,   0.,\n",
       "          0.,   0.,   0.,   0.,   0.,   0.,   0.,   0.,   0.,   0.,   0.,\n",
       "          0.,   0.,   0.,   0.,   0.,   0.,   0.,   0.,   0.,   0.,   0.,\n",
       "          0.,   0.,   1.,   0.,   0.,   0.,   0.,   0.,   0.,   0.,   0.,\n",
       "          0.,   0.,   0.,   0.,   0.,   0.,   0.,   0.,   0.,   0.,   0.,\n",
       "          0.,   0.,   0.,   0.,   0.,   0.,   0.,   0.,   0.,   0.,   0.,\n",
       "          0.,   0.,   0.,   0.,   0.,   0.,   0.,   0.,   0.,   0.,   0.,\n",
       "          0.,   0.,   0.,   0.,   0.,   0.,   0.,   1.,   0.,   0.,   0.,\n",
       "          0.,   0.,   0.,   0.,   0.,   0.,   0.,   0.,   0.,   0.,   1.,\n",
       "          0.,   0.,   0.,   0.,   0.,   0.,   0.,   0.,   0.,   0.,   0.,\n",
       "          0.,   0.,   0.,   0.,   0.,   0.,   0.,   0.,   0.,   0.,   0.,\n",
       "          0.,   0.,   0.,   1.,   0.,   0.,   0.,   0.,   0.,   0.,   0.,\n",
       "          0.,   0.,   0.,   0.,   0.,   0.,   0.,   0.,   0.,   0.,   0.,\n",
       "          0.,   0.,   0.,   0.,   0.,   0.,   0.,   0.,   0.,   0.,   0.,\n",
       "          0.,   0.,   0.,   0.,   0.,   0.,   0.,   0.,   0.,   0.,   0.,\n",
       "          0.,   0.,   0.,   0.,   0.,   0.,   0.,   0.,   0.,   0.,   0.,\n",
       "          0.,   0.,   0.,   0.,   0.,   0.,   0.,   0.,   0.,   0.,   0.,\n",
       "          0.,   0.,   0.,   0.,   0.,   0.,   0.,   0.,   0.,   0.,   0.,\n",
       "          0.,   0.,   0.,   0.,   0.,   0.,   0.,   0.,   0.,   0.,   0.,\n",
       "          0.,   0.,   0.,   0.,   0.,   0.,   0.,   0.,   0.,   0.,   0.,\n",
       "          1.,   0.,   0.,   0.,   0.,   0.,   0.,   0.,   0.,   0.,   0.,\n",
       "          0.,   0.,   0.,   0.,   0.,   0.,   0.,   0.,   0.,   0.,   0.,\n",
       "          0.,   0.,   0.,   0.,   0.,   0.,   0.,   0.,   0.,   0.,   0.,\n",
       "          0.,   0.,   1.]),\n",
       " array([      0.        ,   30281.60666667,   60563.21333333,\n",
       "          90844.82      ,  121126.42666667,  151408.03333333,\n",
       "         181689.64      ,  211971.24666667,  242252.85333333,\n",
       "         272534.46      ,  302816.06666667,  333097.67333333,\n",
       "         363379.28      ,  393660.88666667,  423942.49333333,\n",
       "         454224.1       ,  484505.70666667,  514787.31333333,\n",
       "         545068.92      ,  575350.52666667,  605632.13333333,\n",
       "         635913.74      ,  666195.34666667,  696476.95333333,\n",
       "         726758.56      ,  757040.16666667,  787321.77333333,\n",
       "         817603.38      ,  847884.98666667,  878166.59333333,\n",
       "         908448.2       ,  938729.80666667,  969011.41333333,\n",
       "         999293.02      , 1029574.62666667, 1059856.23333333,\n",
       "        1090137.84      , 1120419.44666667, 1150701.05333333,\n",
       "        1180982.66      , 1211264.26666667, 1241545.87333333,\n",
       "        1271827.48      , 1302109.08666667, 1332390.69333333,\n",
       "        1362672.3       , 1392953.90666667, 1423235.51333333,\n",
       "        1453517.12      , 1483798.72666667, 1514080.33333333,\n",
       "        1544361.94      , 1574643.54666667, 1604925.15333333,\n",
       "        1635206.76      , 1665488.36666667, 1695769.97333333,\n",
       "        1726051.58      , 1756333.18666667, 1786614.79333333,\n",
       "        1816896.4       , 1847178.00666667, 1877459.61333333,\n",
       "        1907741.22      , 1938022.82666667, 1968304.43333333,\n",
       "        1998586.04      , 2028867.64666667, 2059149.25333333,\n",
       "        2089430.86      , 2119712.46666667, 2149994.07333333,\n",
       "        2180275.68      , 2210557.28666667, 2240838.89333333,\n",
       "        2271120.5       , 2301402.10666667, 2331683.71333333,\n",
       "        2361965.32      , 2392246.92666667, 2422528.53333333,\n",
       "        2452810.14      , 2483091.74666667, 2513373.35333333,\n",
       "        2543654.96      , 2573936.56666667, 2604218.17333333,\n",
       "        2634499.78      , 2664781.38666667, 2695062.99333333,\n",
       "        2725344.6       , 2755626.20666667, 2785907.81333333,\n",
       "        2816189.42      , 2846471.02666667, 2876752.63333333,\n",
       "        2907034.24      , 2937315.84666667, 2967597.45333333,\n",
       "        2997879.06      , 3028160.66666667, 3058442.27333333,\n",
       "        3088723.88      , 3119005.48666667, 3149287.09333333,\n",
       "        3179568.7       , 3209850.30666667, 3240131.91333333,\n",
       "        3270413.52      , 3300695.12666667, 3330976.73333333,\n",
       "        3361258.34      , 3391539.94666667, 3421821.55333333,\n",
       "        3452103.16      , 3482384.76666667, 3512666.37333333,\n",
       "        3542947.98      , 3573229.58666667, 3603511.19333333,\n",
       "        3633792.8       , 3664074.40666667, 3694356.01333333,\n",
       "        3724637.62      , 3754919.22666667, 3785200.83333333,\n",
       "        3815482.44      , 3845764.04666667, 3876045.65333333,\n",
       "        3906327.26      , 3936608.86666667, 3966890.47333333,\n",
       "        3997172.08      , 4027453.68666667, 4057735.29333333,\n",
       "        4088016.9       , 4118298.50666667, 4148580.11333333,\n",
       "        4178861.72      , 4209143.32666667, 4239424.93333333,\n",
       "        4269706.54      , 4299988.14666667, 4330269.75333333,\n",
       "        4360551.36      , 4390832.96666667, 4421114.57333333,\n",
       "        4451396.18      , 4481677.78666667, 4511959.39333333,\n",
       "        4542241.        , 4572522.60666667, 4602804.21333333,\n",
       "        4633085.82      , 4663367.42666667, 4693649.03333333,\n",
       "        4723930.64      , 4754212.24666667, 4784493.85333333,\n",
       "        4814775.46      , 4845057.06666667, 4875338.67333333,\n",
       "        4905620.28      , 4935901.88666667, 4966183.49333333,\n",
       "        4996465.1       , 5026746.70666667, 5057028.31333333,\n",
       "        5087309.92      , 5117591.52666667, 5147873.13333333,\n",
       "        5178154.74      , 5208436.34666667, 5238717.95333333,\n",
       "        5268999.56      , 5299281.16666667, 5329562.77333333,\n",
       "        5359844.38      , 5390125.98666667, 5420407.59333333,\n",
       "        5450689.2       , 5480970.80666667, 5511252.41333333,\n",
       "        5541534.02      , 5571815.62666667, 5602097.23333333,\n",
       "        5632378.84      , 5662660.44666667, 5692942.05333333,\n",
       "        5723223.66      , 5753505.26666667, 5783786.87333333,\n",
       "        5814068.48      , 5844350.08666667, 5874631.69333333,\n",
       "        5904913.3       , 5935194.90666667, 5965476.51333333,\n",
       "        5995758.12      , 6026039.72666667, 6056321.33333333,\n",
       "        6086602.94      , 6116884.54666667, 6147166.15333333,\n",
       "        6177447.76      , 6207729.36666667, 6238010.97333333,\n",
       "        6268292.58      , 6298574.18666667, 6328855.79333333,\n",
       "        6359137.4       , 6389419.00666667, 6419700.61333333,\n",
       "        6449982.22      , 6480263.82666667, 6510545.43333333,\n",
       "        6540827.04      , 6571108.64666667, 6601390.25333333,\n",
       "        6631671.86      , 6661953.46666667, 6692235.07333333,\n",
       "        6722516.68      , 6752798.28666667, 6783079.89333333,\n",
       "        6813361.5       , 6843643.10666667, 6873924.71333333,\n",
       "        6904206.32      , 6934487.92666667, 6964769.53333333,\n",
       "        6995051.14      , 7025332.74666667, 7055614.35333333,\n",
       "        7085895.96      , 7116177.56666667, 7146459.17333333,\n",
       "        7176740.78      , 7207022.38666667, 7237303.99333333,\n",
       "        7267585.6       , 7297867.20666667, 7328148.81333333,\n",
       "        7358430.42      , 7388712.02666667, 7418993.63333333,\n",
       "        7449275.24      , 7479556.84666667, 7509838.45333333,\n",
       "        7540120.06      , 7570401.66666667, 7600683.27333333,\n",
       "        7630964.88      , 7661246.48666667, 7691528.09333333,\n",
       "        7721809.7       , 7752091.30666667, 7782372.91333333,\n",
       "        7812654.52      , 7842936.12666667, 7873217.73333333,\n",
       "        7903499.34      , 7933780.94666667, 7964062.55333333,\n",
       "        7994344.16      , 8024625.76666667, 8054907.37333333,\n",
       "        8085188.98      , 8115470.58666667, 8145752.19333333,\n",
       "        8176033.8       , 8206315.40666667, 8236597.01333333,\n",
       "        8266878.62      , 8297160.22666667, 8327441.83333333,\n",
       "        8357723.44      , 8388005.04666667, 8418286.65333333,\n",
       "        8448568.26      , 8478849.86666667, 8509131.47333333,\n",
       "        8539413.08      , 8569694.68666667, 8599976.29333333,\n",
       "        8630257.9       , 8660539.50666667, 8690821.11333333,\n",
       "        8721102.72      , 8751384.32666667, 8781665.93333333,\n",
       "        8811947.54      , 8842229.14666667, 8872510.75333333,\n",
       "        8902792.36      , 8933073.96666667, 8963355.57333333,\n",
       "        8993637.18      , 9023918.78666667, 9054200.39333333,\n",
       "        9084482.        ]),\n",
       " <a list of 300 Patch objects>)"
      ]
     },
     "execution_count": 31,
     "metadata": {},
     "output_type": "execute_result"
    },
    {
     "data": {
      "image/png": "[encoded data removed]",
      "text/plain": [
       "<Figure size 432x288 with 1 Axes>"
      ]
     },
     "metadata": {
      "needs_background": "light"
     },
     "output_type": "display_data"
    }
   ],
   "source": [
    "#### 'value' have None values \n",
    "#### to visualize the histogram I remove them from 'values-tj'\n",
    "values_tj = [x['value'] for x in tj_2015 if x['value'] is not None]\n",
    "plt.hist(values_tj, bins=300)\n",
    "#np.unique(values_tj, return_counts=True)"
   ]
  },
  {
   "cell_type": "code",
   "execution_count": null,
   "metadata": {
    "scrolled": false
   },
   "outputs": [],
   "source": []
  },
  {
   "cell_type": "code",
   "execution_count": null,
   "metadata": {
    "scrolled": false
   },
   "outputs": [],
   "source": []
  },
  {
   "cell_type": "code",
   "execution_count": null,
   "metadata": {
    "scrolled": false
   },
   "outputs": [],
   "source": []
  },
  {
   "cell_type": "code",
   "execution_count": null,
   "metadata": {
    "scrolled": false
   },
   "outputs": [],
   "source": []
  },
  {
   "cell_type": "code",
   "execution_count": null,
   "metadata": {
    "scrolled": false
   },
   "outputs": [],
   "source": []
  },
  {
   "cell_type": "code",
   "execution_count": null,
   "metadata": {
    "scrolled": false
   },
   "outputs": [],
   "source": []
  },
  {
   "cell_type": "code",
   "execution_count": null,
   "metadata": {
    "scrolled": false
   },
   "outputs": [],
   "source": []
  },
  {
   "cell_type": "code",
   "execution_count": null,
   "metadata": {
    "scrolled": false
   },
   "outputs": [],
   "source": []
  },
  {
   "cell_type": "markdown",
   "metadata": {
    "id": "o52Lnoq5olC9"
   },
   "source": [
    "### - Exporting the data \n",
    "\n",
    "* **_[TO DO]_**: Save the retrieved renewable energy consumption data of all countries in 2015 in one .xlsx file\n",
    "* **_[TO DO]_**: Save the renewable energy consumption data from 2006 to 2016 for each European country in individual .csv files (one per country)"
   ]
  },
  {
   "cell_type": "code",
   "execution_count": 21,
   "metadata": {
    "id": "-k6RXRXBpduC",
    "scrolled": false
   },
   "outputs": [],
   "source": [
    "### TODO"
   ]
  },
  {
   "cell_type": "code",
   "execution_count": 22,
   "metadata": {
    "scrolled": false
   },
   "outputs": [],
   "source": []
  },
  {
   "cell_type": "code",
   "execution_count": 23,
   "metadata": {
    "scrolled": false
   },
   "outputs": [],
   "source": [
    "workbook = xlsxwriter.Workbook('weather-data/renewable_energy_2015.xls')\n",
    "worksheet = workbook.add_worksheet()"
   ]
  },
  {
   "cell_type": "code",
   "execution_count": 32,
   "metadata": {
    "scrolled": false
   },
   "outputs": [],
   "source": [
    "#for istance in tj_2015[:2]:\n",
    "#    print(istance['country']['id'])\n",
    "#    print(istance['country']['value'])\n",
    "#    print(istance['date'])\n",
    "#    print(istance['value'])\n",
    "#    print(\"----------\")"
   ]
  },
  {
   "cell_type": "code",
   "execution_count": 27,
   "metadata": {
    "scrolled": false
   },
   "outputs": [],
   "source": [
    "##### WRITING THE DOWNLOADED DATA IN A .xlsx FILE\n",
    "\n",
    "row = 0\n",
    "column = 0\n",
    "for istance in tj_2015:\n",
    "    worksheet.write(row, column, istance['country']['id'])\n",
    "    column += 1\n",
    "    worksheet.write(row, column, istance['country']['value'])\n",
    "    column += 1\n",
    "    worksheet.write(row, column, istance['date'])\n",
    "    column += 1\n",
    "    worksheet.write(row, column, istance['value'])\n",
    "    \n",
    "    column = 0\n",
    "    row += 1"
   ]
  },
  {
   "cell_type": "code",
   "execution_count": 28,
   "metadata": {
    "scrolled": false
   },
   "outputs": [],
   "source": [
    "workbook.close()"
   ]
  },
  {
   "cell_type": "code",
   "execution_count": null,
   "metadata": {
    "scrolled": false
   },
   "outputs": [],
   "source": []
  },
  {
   "cell_type": "code",
   "execution_count": null,
   "metadata": {
    "scrolled": false
   },
   "outputs": [],
   "source": []
  },
  {
   "cell_type": "markdown",
   "metadata": {},
   "source": [
    "* **_[TO DO]_**: Save the renewable energy consumption data from 2006 to 2016 for each European country in individual .csv files (one per country)"
   ]
  },
  {
   "cell_type": "code",
   "execution_count": 6,
   "metadata": {
    "scrolled": true
   },
   "outputs": [
    {
     "ename": "NameError",
     "evalue": "name 'wb' is not defined",
     "output_type": "error",
     "traceback": [
      "\u001b[0;31m---------------------------------------------------------------------------\u001b[0m",
      "\u001b[0;31mNameError\u001b[0m                                 Traceback (most recent call last)",
      "\u001b[0;32m<ipython-input-6-38613794d2ba>\u001b[0m in \u001b[0;36m<module>\u001b[0;34m\u001b[0m\n\u001b[0;32m----> 1\u001b[0;31m \u001b[0mwb\u001b[0m\u001b[0;34m.\u001b[0m\u001b[0mget_country\u001b[0m\u001b[0;34m(\u001b[0m\u001b[0;34m)\u001b[0m\u001b[0;34m\u001b[0m\u001b[0;34m\u001b[0m\u001b[0m\n\u001b[0m",
      "\u001b[0;31mNameError\u001b[0m: name 'wb' is not defined"
     ]
    }
   ],
   "source": [
    "wb.get_country()"
   ]
  },
  {
   "cell_type": "code",
   "execution_count": 42,
   "metadata": {
    "scrolled": false
   },
   "outputs": [
    {
     "data": {
      "text/plain": [
       "299"
      ]
     },
     "execution_count": 42,
     "metadata": {},
     "output_type": "execute_result"
    }
   ],
   "source": [
    "len(wb.get_country())"
   ]
  },
  {
   "cell_type": "code",
   "execution_count": 39,
   "metadata": {
    "scrolled": true
   },
   "outputs": [
    {
     "name": "stdout",
     "output_type": "stream",
     "text": [
      "ABW\n",
      "--------------\n",
      "AFE\n",
      "--------------\n",
      "AFG\n",
      "--------------\n",
      "AFR\n",
      "--------------\n",
      "AFW\n",
      "--------------\n",
      "AGO\n",
      "--------------\n",
      "ALB\n",
      "--------------\n",
      "AND\n",
      "--------------\n",
      "ARB\n",
      "--------------\n",
      "ARE\n",
      "--------------\n",
      "ARG\n",
      "--------------\n",
      "ARM\n",
      "--------------\n",
      "ASM\n",
      "--------------\n",
      "ATG\n",
      "--------------\n",
      "AUS\n",
      "--------------\n",
      "AUT\n",
      "--------------\n",
      "AZE\n",
      "--------------\n",
      "BDI\n",
      "--------------\n",
      "BEA\n",
      "--------------\n",
      "BEC\n",
      "--------------\n",
      "BEL\n",
      "--------------\n",
      "BEN\n",
      "--------------\n",
      "BFA\n",
      "--------------\n",
      "BGD\n",
      "--------------\n",
      "BGR\n",
      "--------------\n",
      "BHI\n",
      "--------------\n",
      "BHR\n",
      "--------------\n",
      "BHS\n",
      "--------------\n",
      "BIH\n",
      "--------------\n",
      "BLA\n",
      "--------------\n",
      "BLR\n",
      "--------------\n",
      "BLZ\n",
      "--------------\n",
      "BMN\n",
      "--------------\n",
      "BMU\n",
      "--------------\n",
      "BOL\n",
      "--------------\n",
      "BRA\n",
      "--------------\n",
      "BRB\n",
      "--------------\n",
      "BRN\n",
      "--------------\n",
      "BSS\n",
      "--------------\n",
      "BTN\n",
      "--------------\n",
      "BWA\n",
      "--------------\n",
      "CAA\n",
      "--------------\n",
      "CAF\n",
      "--------------\n",
      "CAN\n",
      "--------------\n",
      "CEA\n",
      "--------------\n",
      "CEB\n",
      "--------------\n",
      "CEU\n",
      "--------------\n",
      "CHE\n",
      "--------------\n",
      "CHI\n",
      "--------------\n",
      "CHL\n",
      "--------------\n",
      "CHN\n",
      "--------------\n",
      "CIV\n",
      "--------------\n",
      "CLA\n",
      "--------------\n",
      "CME\n",
      "--------------\n",
      "CMR\n",
      "--------------\n",
      "COD\n",
      "--------------\n",
      "COG\n",
      "--------------\n",
      "COL\n",
      "--------------\n",
      "COM\n",
      "--------------\n",
      "CPV\n",
      "--------------\n",
      "CRI\n",
      "--------------\n",
      "CSA\n",
      "--------------\n",
      "CSS\n",
      "--------------\n",
      "CUB\n",
      "--------------\n",
      "CUW\n",
      "--------------\n",
      "CYM\n",
      "--------------\n",
      "CYP\n",
      "--------------\n",
      "CZE\n",
      "--------------\n",
      "DEA\n",
      "--------------\n",
      "DEC\n",
      "--------------\n",
      "DEU\n",
      "--------------\n",
      "DFS\n",
      "--------------\n",
      "DJI\n",
      "--------------\n",
      "DLA\n",
      "--------------\n",
      "DMA\n",
      "--------------\n",
      "DMN\n",
      "--------------\n",
      "DNF\n",
      "--------------\n",
      "DNK\n",
      "--------------\n",
      "DNS\n",
      "--------------\n",
      "DOM\n",
      "--------------\n",
      "DSA\n",
      "--------------\n",
      "DSF\n",
      "--------------\n",
      "DSS\n",
      "--------------\n",
      "DZA\n",
      "--------------\n",
      "EAP\n",
      "--------------\n",
      "EAR\n",
      "--------------\n",
      "EAS\n",
      "--------------\n",
      "ECA\n",
      "--------------\n",
      "ECS\n",
      "--------------\n",
      "ECU\n",
      "--------------\n",
      "EGY\n",
      "--------------\n",
      "EMU\n",
      "--------------\n",
      "ERI\n",
      "--------------\n",
      "ESP\n",
      "--------------\n",
      "EST\n",
      "--------------\n",
      "ETH\n",
      "--------------\n",
      "EUU\n",
      "--------------\n",
      "FCS\n",
      "--------------\n",
      "FIN\n",
      "--------------\n",
      "FJI\n",
      "--------------\n",
      "FRA\n",
      "--------------\n",
      "FRO\n",
      "--------------\n",
      "FSM\n",
      "--------------\n",
      "FXS\n",
      "--------------\n",
      "GAB\n",
      "--------------\n",
      "GBR\n",
      "--------------\n",
      "GEO\n",
      "--------------\n",
      "GHA\n",
      "--------------\n",
      "GIB\n",
      "--------------\n",
      "GIN\n",
      "--------------\n",
      "GMB\n",
      "--------------\n",
      "GNB\n",
      "--------------\n",
      "GNQ\n",
      "--------------\n",
      "GRC\n",
      "--------------\n",
      "GRD\n",
      "--------------\n",
      "GRL\n",
      "--------------\n",
      "GTM\n",
      "--------------\n",
      "GUM\n",
      "--------------\n",
      "GUY\n",
      "--------------\n",
      "HIC\n",
      "--------------\n",
      "HKG\n",
      "--------------\n",
      "HND\n",
      "--------------\n",
      "HPC\n",
      "--------------\n",
      "HRV\n",
      "--------------\n",
      "HTI\n",
      "--------------\n",
      "HUN\n",
      "--------------\n",
      "IBB\n",
      "--------------\n",
      "IBD\n",
      "--------------\n",
      "IBT\n",
      "--------------\n",
      "IDA\n",
      "--------------\n",
      "IDB\n",
      "--------------\n",
      "IDN\n",
      "--------------\n",
      "IDX\n",
      "--------------\n",
      "IMN\n",
      "--------------\n",
      "IND\n",
      "--------------\n",
      "INX\n",
      "--------------\n",
      "IRL\n",
      "--------------\n",
      "IRN\n",
      "--------------\n",
      "IRQ\n",
      "--------------\n",
      "ISL\n",
      "--------------\n",
      "ISR\n",
      "--------------\n",
      "ITA\n",
      "--------------\n",
      "JAM\n",
      "--------------\n",
      "JOR\n",
      "--------------\n",
      "JPN\n",
      "--------------\n",
      "KAZ\n",
      "--------------\n",
      "KEN\n",
      "--------------\n",
      "KGZ\n",
      "--------------\n",
      "KHM\n",
      "--------------\n",
      "KIR\n",
      "--------------\n",
      "KNA\n",
      "--------------\n",
      "KOR\n",
      "--------------\n",
      "KWT\n",
      "--------------\n",
      "LAC\n",
      "--------------\n",
      "LAO\n",
      "--------------\n",
      "LBN\n",
      "--------------\n",
      "LBR\n",
      "--------------\n",
      "LBY\n",
      "--------------\n",
      "LCA\n",
      "--------------\n",
      "LCN\n",
      "--------------\n",
      "LDC\n",
      "--------------\n",
      "LIC\n",
      "--------------\n",
      "LIE\n",
      "--------------\n",
      "LKA\n",
      "--------------\n",
      "LMC\n",
      "--------------\n",
      "LMY\n",
      "--------------\n",
      "LSO\n",
      "--------------\n",
      "LTE\n",
      "--------------\n",
      "LTU\n",
      "--------------\n",
      "LUX\n",
      "--------------\n",
      "LVA\n",
      "--------------\n",
      "MAC\n",
      "--------------\n",
      "MAF\n",
      "--------------\n",
      "MAR\n",
      "--------------\n",
      "MCO\n",
      "--------------\n",
      "MDA\n",
      "--------------\n",
      "MDE\n",
      "--------------\n",
      "MDG\n",
      "--------------\n",
      "MDV\n",
      "--------------\n",
      "MEA\n",
      "--------------\n",
      "MEX\n",
      "--------------\n",
      "MHL\n",
      "--------------\n",
      "MIC\n",
      "--------------\n",
      "MKD\n",
      "--------------\n",
      "MLI\n",
      "--------------\n",
      "MLT\n",
      "--------------\n",
      "MMR\n",
      "--------------\n",
      "MNA\n",
      "--------------\n",
      "MNE\n",
      "--------------\n",
      "MNG\n",
      "--------------\n",
      "MNP\n",
      "--------------\n",
      "MOZ\n",
      "--------------\n",
      "MRT\n",
      "--------------\n",
      "MUS\n",
      "--------------\n",
      "MWI\n",
      "--------------\n",
      "MYS\n",
      "--------------\n",
      "NAC\n",
      "--------------\n",
      "NAF\n",
      "--------------\n",
      "NAM\n",
      "--------------\n",
      "NCL\n",
      "--------------\n",
      "NER\n",
      "--------------\n",
      "NGA\n",
      "--------------\n",
      "NIC\n",
      "--------------\n",
      "NLD\n",
      "--------------\n",
      "NOR\n",
      "--------------\n",
      "NPL\n",
      "--------------\n",
      "NRS\n",
      "--------------\n",
      "NRU\n",
      "--------------\n",
      "NXS\n",
      "--------------\n",
      "NZL\n",
      "--------------\n",
      "OED\n",
      "--------------\n",
      "OMN\n",
      "--------------\n",
      "OSS\n",
      "--------------\n",
      "PAK\n",
      "--------------\n",
      "PAN\n",
      "--------------\n",
      "PER\n",
      "--------------\n",
      "PHL\n",
      "--------------\n",
      "PLW\n",
      "--------------\n",
      "PNG\n",
      "--------------\n",
      "POL\n",
      "--------------\n",
      "PRE\n",
      "--------------\n",
      "PRI\n",
      "--------------\n",
      "PRK\n",
      "--------------\n",
      "PRT\n",
      "--------------\n",
      "PRY\n",
      "--------------\n",
      "PSE\n",
      "--------------\n",
      "PSS\n",
      "--------------\n",
      "PST\n",
      "--------------\n",
      "PYF\n",
      "--------------\n",
      "QAT\n",
      "--------------\n",
      "ROU\n",
      "--------------\n",
      "RRS\n",
      "--------------\n",
      "RUS\n",
      "--------------\n",
      "RWA\n",
      "--------------\n",
      "SAS\n",
      "--------------\n",
      "SAU\n",
      "--------------\n",
      "SDN\n",
      "--------------\n",
      "SEN\n",
      "--------------\n",
      "SGP\n",
      "--------------\n",
      "SLB\n",
      "--------------\n",
      "SLE\n",
      "--------------\n",
      "SLV\n",
      "--------------\n",
      "SMR\n",
      "--------------\n",
      "SOM\n",
      "--------------\n",
      "SRB\n",
      "--------------\n",
      "SSA\n",
      "--------------\n",
      "SSD\n",
      "--------------\n",
      "SSF\n",
      "--------------\n",
      "SST\n",
      "--------------\n",
      "STP\n",
      "--------------\n",
      "SUR\n",
      "--------------\n",
      "SVK\n",
      "--------------\n",
      "SVN\n",
      "--------------\n",
      "SWE\n",
      "--------------\n",
      "SWZ\n",
      "--------------\n",
      "SXM\n",
      "--------------\n",
      "SXZ\n",
      "--------------\n",
      "SYC\n",
      "--------------\n",
      "SYR\n",
      "--------------\n",
      "TCA\n",
      "--------------\n",
      "TCD\n",
      "--------------\n",
      "TEA\n",
      "--------------\n",
      "TEC\n",
      "--------------\n",
      "TGO\n",
      "--------------\n",
      "THA\n",
      "--------------\n",
      "TJK\n",
      "--------------\n",
      "TKM\n",
      "--------------\n",
      "TLA\n",
      "--------------\n",
      "TLS\n",
      "--------------\n",
      "TMN\n",
      "--------------\n",
      "TON\n",
      "--------------\n",
      "TSA\n",
      "--------------\n",
      "TSS\n",
      "--------------\n",
      "TTO\n",
      "--------------\n",
      "TUN\n",
      "--------------\n",
      "TUR\n",
      "--------------\n",
      "TUV\n",
      "--------------\n",
      "TWN\n",
      "--------------\n",
      "TZA\n",
      "--------------\n",
      "UGA\n",
      "--------------\n",
      "UKR\n",
      "--------------\n",
      "UMC\n",
      "--------------\n",
      "URY\n",
      "--------------\n",
      "USA\n",
      "--------------\n",
      "UZB\n",
      "--------------\n",
      "VCT\n",
      "--------------\n",
      "VEN\n",
      "--------------\n",
      "VGB\n",
      "--------------\n",
      "VIR\n",
      "--------------\n",
      "VNM\n",
      "--------------\n",
      "VUT\n",
      "--------------\n",
      "WLD\n",
      "--------------\n",
      "WSM\n",
      "--------------\n",
      "XKX\n",
      "--------------\n",
      "XZN\n",
      "--------------\n",
      "YEM\n",
      "--------------\n",
      "ZAF\n",
      "--------------\n",
      "ZMB\n",
      "--------------\n",
      "ZWE\n",
      "--------------\n"
     ]
    }
   ],
   "source": [
    "for x in wb.get_country():\n",
    "    print(x['id'])\n",
    "    print(\"--------------\")"
   ]
  },
  {
   "cell_type": "code",
   "execution_count": null,
   "metadata": {
    "scrolled": false
   },
   "outputs": [],
   "source": []
  },
  {
   "cell_type": "code",
   "execution_count": 40,
   "metadata": {
    "scrolled": false
   },
   "outputs": [],
   "source": [
    "#### test\n",
    "\n",
    "data_date = data_date = (datetime.datetime(2006,1,1), datetime.datetime(2016,12,31))\n",
    "test_data = wb.get_data(\"3.1_RE.CONSUMPTION\", country='USA', data_date=data_date)"
   ]
  },
  {
   "cell_type": "code",
   "execution_count": 43,
   "metadata": {
    "scrolled": false
   },
   "outputs": [],
   "source": [
    "#test_data"
   ]
  },
  {
   "cell_type": "code",
   "execution_count": 2,
   "metadata": {
    "scrolled": false
   },
   "outputs": [],
   "source": [
    "import csv"
   ]
  },
  {
   "cell_type": "code",
   "execution_count": 51,
   "metadata": {
    "scrolled": false
   },
   "outputs": [],
   "source": [
    "#### writing csv test\n",
    "\n",
    "\n",
    "#fieldnames = ['indicator', 'country', 'countryiso3code', 'date', 'value', 'unit', 'obs_status', 'decimal']\n",
    "fieldnames = test_data[0].keys()\n",
    "\n",
    "\n",
    "#with open('countries.csv', 'w', encoding='UTF8', newline='') as f:\n",
    "#    writer = csv.DictWriter(f, fieldnames=fieldnames)\n",
    "#    writer.writeheader()\n",
    "#    writer.writerows(rows)\n",
    "\n",
    "with open('./renewable_energy/test3.csv', 'w', encoding='UTF8', newline='') as f:\n",
    "    writer = csv.DictWriter(f, fieldnames=fieldnames)\n",
    "    writer.writeheader()\n",
    "    \n",
    "    writer.writerows(test_data)\n",
    "    \n",
    "\n"
   ]
  },
  {
   "cell_type": "code",
   "execution_count": 49,
   "metadata": {
    "scrolled": false
   },
   "outputs": [
    {
     "data": {
      "text/plain": [
       "dict_keys(['indicator', 'country', 'countryiso3code', 'date', 'value', 'unit', 'obs_status', 'decimal'])"
      ]
     },
     "execution_count": 49,
     "metadata": {},
     "output_type": "execute_result"
    }
   ],
   "source": [
    "test_data[0].keys()"
   ]
  },
  {
   "cell_type": "code",
   "execution_count": null,
   "metadata": {
    "scrolled": false
   },
   "outputs": [],
   "source": []
  },
  {
   "cell_type": "code",
   "execution_count": 8,
   "metadata": {
    "scrolled": false
   },
   "outputs": [],
   "source": [
    "def write_csv_renewable_data_country_date(country, data_date, csv_path):\n",
    "    \n",
    "    try:\n",
    "        data = wb.get_data(\"3.1_RE.CONSUMPTION\", country=country, data_date=data_date)\n",
    "    except:\n",
    "        print(\"Error occured with country \" + country)\n",
    "        return False\n",
    "    \n",
    "    fieldnames = data[0].keys()\n",
    "    \n",
    "    with open(csv_path, 'w', encoding='UTF8', newline='') as f:\n",
    "        writer = csv.DictWriter(f, fieldnames=fieldnames)\n",
    "        writer.writeheader()\n",
    "\n",
    "        writer.writerows(data)\n",
    "        \n",
    "    "
   ]
  },
  {
   "cell_type": "code",
   "execution_count": 9,
   "metadata": {
    "scrolled": true
   },
   "outputs": [
    {
     "name": "stdout",
     "output_type": "stream",
     "text": [
      "ABW\n",
      "AFE\n",
      "Error occured with country AFE\n",
      "AFG\n",
      "AFR\n",
      "Error occured with country AFR\n",
      "AFW\n",
      "Error occured with country AFW\n",
      "AGO\n",
      "ALB\n",
      "AND\n",
      "ARB\n",
      "Error occured with country ARB\n",
      "ARE\n",
      "ARG\n",
      "ARM\n",
      "ASM\n",
      "ATG\n",
      "AUS\n",
      "AUT\n",
      "AZE\n",
      "BDI\n",
      "BEA\n",
      "Error occured with country BEA\n",
      "BEC\n",
      "Error occured with country BEC\n",
      "BEL\n",
      "BEN\n",
      "BFA\n",
      "BGD\n",
      "BGR\n",
      "BHI\n",
      "Error occured with country BHI\n",
      "BHR\n",
      "BHS\n",
      "BIH\n",
      "BLA\n",
      "Error occured with country BLA\n",
      "BLR\n",
      "BLZ\n",
      "BMN\n",
      "Error occured with country BMN\n",
      "BMU\n",
      "BOL\n",
      "BRA\n",
      "BRB\n",
      "BRN\n",
      "BSS\n",
      "Error occured with country BSS\n",
      "BTN\n",
      "BWA\n",
      "CAA\n",
      "Error occured with country CAA\n",
      "CAF\n",
      "CAN\n",
      "CEA\n",
      "Error occured with country CEA\n",
      "CEB\n",
      "Error occured with country CEB\n",
      "CEU\n",
      "Error occured with country CEU\n",
      "CHE\n",
      "CHI\n",
      "CHL\n",
      "CHN\n",
      "CIV\n",
      "CLA\n",
      "Error occured with country CLA\n",
      "CME\n",
      "Error occured with country CME\n",
      "CMR\n",
      "COD\n",
      "COG\n",
      "COL\n",
      "COM\n",
      "CPV\n",
      "CRI\n",
      "CSA\n",
      "Error occured with country CSA\n",
      "CSS\n",
      "Error occured with country CSS\n",
      "CUB\n",
      "CUW\n",
      "CYM\n",
      "CYP\n",
      "CZE\n",
      "DEA\n",
      "Error occured with country DEA\n",
      "DEC\n",
      "Error occured with country DEC\n",
      "DEU\n",
      "DFS\n",
      "Error occured with country DFS\n",
      "DJI\n",
      "DLA\n",
      "Error occured with country DLA\n",
      "DMA\n",
      "DMN\n",
      "Error occured with country DMN\n",
      "DNF\n",
      "Error occured with country DNF\n",
      "DNK\n",
      "DNS\n",
      "Error occured with country DNS\n",
      "DOM\n",
      "DSA\n",
      "Error occured with country DSA\n",
      "DSF\n",
      "Error occured with country DSF\n",
      "DSS\n",
      "Error occured with country DSS\n",
      "DZA\n",
      "EAP\n",
      "Error occured with country EAP\n",
      "EAR\n",
      "Error occured with country EAR\n",
      "EAS\n",
      "Error occured with country EAS\n",
      "ECA\n",
      "Error occured with country ECA\n",
      "ECS\n",
      "Error occured with country ECS\n",
      "ECU\n",
      "EGY\n",
      "EMU\n",
      "Error occured with country EMU\n",
      "ERI\n",
      "ESP\n",
      "EST\n",
      "ETH\n",
      "EUU\n",
      "Error occured with country EUU\n",
      "FCS\n",
      "Error occured with country FCS\n",
      "FIN\n",
      "FJI\n",
      "FRA\n",
      "FRO\n",
      "FSM\n",
      "FXS\n",
      "Error occured with country FXS\n",
      "GAB\n",
      "GBR\n",
      "GEO\n",
      "GHA\n",
      "GIB\n",
      "GIN\n",
      "GMB\n",
      "GNB\n",
      "GNQ\n",
      "GRC\n",
      "GRD\n",
      "GRL\n",
      "GTM\n",
      "GUM\n",
      "GUY\n",
      "HIC\n",
      "HKG\n",
      "HND\n",
      "HPC\n",
      "Error occured with country HPC\n",
      "HRV\n",
      "HTI\n",
      "HUN\n",
      "IBB\n",
      "Error occured with country IBB\n",
      "IBD\n",
      "Error occured with country IBD\n",
      "IBT\n",
      "Error occured with country IBT\n",
      "IDA\n",
      "Error occured with country IDA\n",
      "IDB\n",
      "Error occured with country IDB\n",
      "IDN\n",
      "IDX\n",
      "Error occured with country IDX\n",
      "IMN\n",
      "IND\n",
      "INX\n",
      "Error occured with country INX\n",
      "IRL\n",
      "IRN\n",
      "IRQ\n",
      "ISL\n",
      "ISR\n",
      "ITA\n",
      "JAM\n",
      "JOR\n",
      "JPN\n",
      "KAZ\n",
      "KEN\n",
      "KGZ\n",
      "KHM\n",
      "KIR\n",
      "KNA\n",
      "KOR\n",
      "KWT\n",
      "LAC\n",
      "Error occured with country LAC\n",
      "LAO\n",
      "LBN\n",
      "LBR\n",
      "LBY\n",
      "LCA\n",
      "LCN\n",
      "Error occured with country LCN\n",
      "LDC\n",
      "Error occured with country LDC\n",
      "LIC\n",
      "LIE\n",
      "LKA\n",
      "LMC\n",
      "LMY\n",
      "LSO\n",
      "LTE\n",
      "Error occured with country LTE\n",
      "LTU\n",
      "LUX\n",
      "LVA\n",
      "MAC\n",
      "MAF\n",
      "MAR\n",
      "MCO\n",
      "MDA\n",
      "MDE\n",
      "Error occured with country MDE\n",
      "MDG\n",
      "MDV\n",
      "MEA\n",
      "Error occured with country MEA\n",
      "MEX\n",
      "MHL\n",
      "MIC\n",
      "MKD\n",
      "MLI\n",
      "MLT\n",
      "MMR\n",
      "MNA\n",
      "Error occured with country MNA\n",
      "MNE\n",
      "MNG\n",
      "MNP\n",
      "MOZ\n",
      "MRT\n",
      "MUS\n",
      "MWI\n",
      "MYS\n",
      "NAC\n",
      "Error occured with country NAC\n",
      "NAF\n",
      "Error occured with country NAF\n",
      "NAM\n",
      "NCL\n",
      "NER\n",
      "NGA\n",
      "NIC\n",
      "NLD\n",
      "NOR\n",
      "NPL\n",
      "NRS\n",
      "Error occured with country NRS\n",
      "NRU\n",
      "NXS\n",
      "Error occured with country NXS\n",
      "NZL\n",
      "OED\n",
      "Error occured with country OED\n",
      "OMN\n",
      "OSS\n",
      "Error occured with country OSS\n",
      "PAK\n",
      "PAN\n",
      "PER\n",
      "PHL\n",
      "PLW\n",
      "PNG\n",
      "POL\n",
      "PRE\n",
      "Error occured with country PRE\n",
      "PRI\n",
      "PRK\n",
      "PRT\n",
      "PRY\n",
      "PSE\n",
      "PSS\n",
      "Error occured with country PSS\n",
      "PST\n",
      "Error occured with country PST\n",
      "PYF\n",
      "QAT\n",
      "ROU\n",
      "RRS\n",
      "Error occured with country RRS\n",
      "RUS\n",
      "RWA\n",
      "SAS\n",
      "Error occured with country SAS\n",
      "SAU\n",
      "SDN\n",
      "SEN\n",
      "SGP\n",
      "SLB\n",
      "SLE\n",
      "SLV\n",
      "SMR\n",
      "SOM\n",
      "SRB\n",
      "SSA\n",
      "Error occured with country SSA\n",
      "SSD\n",
      "SSF\n",
      "Error occured with country SSF\n",
      "SST\n",
      "Error occured with country SST\n",
      "STP\n",
      "SUR\n",
      "SVK\n",
      "SVN\n",
      "SWE\n",
      "SWZ\n",
      "SXM\n",
      "SXZ\n",
      "Error occured with country SXZ\n",
      "SYC\n",
      "SYR\n",
      "TCA\n",
      "TCD\n",
      "TEA\n",
      "Error occured with country TEA\n",
      "TEC\n",
      "Error occured with country TEC\n",
      "TGO\n",
      "THA\n",
      "TJK\n",
      "TKM\n",
      "TLA\n",
      "Error occured with country TLA\n",
      "TLS\n",
      "TMN\n",
      "Error occured with country TMN\n",
      "TON\n",
      "TSA\n",
      "Error occured with country TSA\n",
      "TSS\n",
      "Error occured with country TSS\n",
      "TTO\n",
      "TUN\n",
      "TUR\n",
      "TUV\n",
      "TWN\n",
      "TZA\n",
      "UGA\n",
      "UKR\n",
      "UMC\n",
      "URY\n",
      "USA\n",
      "UZB\n",
      "VCT\n",
      "VEN\n",
      "VGB\n",
      "VIR\n",
      "VNM\n",
      "VUT\n",
      "WLD\n",
      "Error occured with country WLD\n",
      "WSM\n",
      "XKX\n",
      "XZN\n",
      "Error occured with country XZN\n",
      "YEM\n",
      "ZAF\n",
      "ZMB\n",
      "ZWE\n"
     ]
    }
   ],
   "source": [
    "### writing a csv file for every country.\n",
    "### Some countries give errors (see wich ones in the output below)\n",
    "\n",
    "data_date = (datetime.datetime(2006,1,1), datetime.datetime(2016,12,31))\n",
    "\n",
    "for country in wb.get_country():\n",
    "    country_id = country['id']\n",
    "    \n",
    "    csv_filename = 'tj_' + country_id + '_2006_2016.csv'\n",
    "    directory_path = './renewable_energy/countries_2006_2016/'\n",
    "    final_path = directory_path + csv_filename\n",
    "    \n",
    "    #print(country_id)\n",
    "    #print(final_path)\n",
    "    #print(\"----------------\")\n",
    "    \n",
    "    print(country_id)\n",
    "    write_csv_renewable_data_country_date(country_id, data_date, final_path)\n",
    "    "
   ]
  },
  {
   "cell_type": "code",
   "execution_count": null,
   "metadata": {
    "scrolled": true
   },
   "outputs": [],
   "source": []
  },
  {
   "cell_type": "code",
   "execution_count": null,
   "metadata": {
    "scrolled": true
   },
   "outputs": [],
   "source": []
  },
  {
   "cell_type": "code",
   "execution_count": null,
   "metadata": {
    "scrolled": true
   },
   "outputs": [],
   "source": []
  },
  {
   "cell_type": "code",
   "execution_count": 73,
   "metadata": {
    "scrolled": false
   },
   "outputs": [],
   "source": [
    "#wb.get_country()"
   ]
  },
  {
   "cell_type": "code",
   "execution_count": 10,
   "metadata": {
    "scrolled": false
   },
   "outputs": [],
   "source": [
    "#wb.get_data(\"3.1_RE.CONSUMPTION\", country='AFE')\n",
    "#afe_data"
   ]
  },
  {
   "cell_type": "code",
   "execution_count": null,
   "metadata": {
    "scrolled": false
   },
   "outputs": [],
   "source": []
  },
  {
   "cell_type": "code",
   "execution_count": null,
   "metadata": {
    "scrolled": false
   },
   "outputs": [],
   "source": []
  },
  {
   "cell_type": "code",
   "execution_count": null,
   "metadata": {
    "scrolled": false
   },
   "outputs": [],
   "source": []
  },
  {
   "cell_type": "code",
   "execution_count": null,
   "metadata": {
    "scrolled": false
   },
   "outputs": [],
   "source": []
  },
  {
   "cell_type": "code",
   "execution_count": null,
   "metadata": {
    "scrolled": false
   },
   "outputs": [],
   "source": []
  }
 ],
 "metadata": {
  "colab": {
   "collapsed_sections": [],
   "name": "LAB1.ipynb",
   "provenance": [
    {
     "file_id": "1HXjyjuj11ovY200lbVrY4ksJrv4eEphn",
     "timestamp": 1603281631972
    }
   ]
  },
  "kernelspec": {
   "display_name": "Python 3",
   "language": "python",
   "name": "python3"
  },
  "language_info": {
   "codemirror_mode": {
    "name": "ipython",
    "version": 3
   },
   "file_extension": ".py",
   "mimetype": "text/x-python",
   "name": "python",
   "nbconvert_exporter": "python",
   "pygments_lexer": "ipython3",
   "version": "3.7.13"
  }
 },
 "nbformat": 4,
 "nbformat_minor": 4
}
